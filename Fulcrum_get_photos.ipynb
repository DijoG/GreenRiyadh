{
 "cells": [
  {
   "cell_type": "code",
   "execution_count": 1,
   "id": "f8bc744f-296c-4b50-97c3-57c705160728",
   "metadata": {},
   "outputs": [],
   "source": [
    "## Import whatever module needed\n",
    "import math, json\n",
    "from collections import Counter\n",
    "from datetime import datetime, timedelta\n",
    "from geopandas.tools import sjoin\n",
    "# from pyproj import proj\n",
    "import pandas as pd\n",
    "import csv\n",
    "import numpy as np\n",
    "from shapely.geometry import Point\n",
    "from shapely.geometry.polygon import Polygon\n",
    "import matplotlib.pyplot as plt\n",
    "from shapely.geometry import Point\n",
    "import geopandas as gpd\n",
    "import fiona\n",
    "from fulcrum import Fulcrum\n",
    "import requests"
   ]
  },
  {
   "cell_type": "code",
   "execution_count": 2,
   "id": "559e9498-7ffc-4262-8093-224941acd74e",
   "metadata": {},
   "outputs": [
    {
     "name": "stdout",
     "output_type": "stream",
     "text": [
      "<fulcrum.Fulcrum object at 0x00000207092B25A0>\n"
     ]
    }
   ],
   "source": [
    "## Variables\n",
    "apiToken = \"689a52b9420360bef6af63ad889bcbf4cb34f26e1d1348b2d3a2ff3b71dfe6828d07395724415aa9\"\n",
    "urlBase = 'https://api.fulcrumapp.com/api/v2/'\n",
    "fulcrum = Fulcrum(key=apiToken)\n",
    "osTimestamp = datetime.today() - timedelta(days=4)\n",
    "recordsPerPage = 5000\n",
    "print(fulcrum)"
   ]
  },
  {
   "cell_type": "code",
   "execution_count": 3,
   "id": "9bb0fb5b-f6a1-4b88-bbb9-47a91adf6477",
   "metadata": {},
   "outputs": [],
   "source": [
    "## Data CTI\n",
    "appID = \"0092aa7f-a2e8-4972-8f26-46eb98b23a12\" # ID of Combined Tree Invnetory\n",
    "formdataSource = fulcrum.forms.find(appID)\n",
    "# get number of pages\n",
    "## the following divides the total number of records in chunks and downloads and assembles them. Otherwise the fulcrum API allows only downloads of 20,000 records\n",
    "\n",
    "## count records in app\n",
    "recordCountSource = fulcrum.forms.find(appID)['form']['record_count']\n",
    "pagesSource = math.ceil(recordCountSource / recordsPerPage)\n",
    "\n",
    "## get data I\n",
    "if pagesSource > 1:\n",
    "    for p in range(1, pagesSource + 1):\n",
    "        dataPage = fulcrum.records.search(url_params={'form_id': appID, 'page': p, 'per_page': recordsPerPage})[\n",
    "            'records']\n",
    "        if p > 1:\n",
    "            dataSource.extend(dataPage)\n",
    "        else:\n",
    "            dataSource = dataPage\n",
    "else:\n",
    "    dataSource = fulcrum.records.search(url_params={'form_id': appID, 'page': 1, 'per_page': recordsPerPage})['records']"
   ]
  },
  {
   "cell_type": "code",
   "execution_count": 4,
   "id": "c85ce2b9-fd29-4026-92c5-67e9b076176e",
   "metadata": {},
   "outputs": [
    {
     "data": {
      "text/plain": [
       "['created_duration',\n",
       " 'updated_duration',\n",
       " 'edited_duration',\n",
       " 'form_id',\n",
       " 'project_id',\n",
       " 'record_series_id',\n",
       " 'assigned_to',\n",
       " 'assigned_to_id',\n",
       " 'form_values',\n",
       " 'latitude',\n",
       " 'longitude',\n",
       " 'altitude']"
      ]
     },
     "execution_count": 4,
     "metadata": {},
     "output_type": "execute_result"
    }
   ],
   "source": [
    "## What attributes do we have?\n",
    "type(dataSource)\n",
    "cticolumns = list(dataSource[0].keys())\n",
    "cticolumns[13:25]  "
   ]
  },
  {
   "cell_type": "code",
   "execution_count": 5,
   "id": "0efd41c6-070e-4bc0-9cbf-509ed0e9f17b",
   "metadata": {},
   "outputs": [
    {
     "name": "stdout",
     "output_type": "stream",
     "text": [
      "253855\n",
      "[{'photo_id': '055e3eac-2472-42e5-93ed-e9ea9974b4c2', 'caption': ''}]\n",
      "055e3eac-2472-42e5-93ed-e9ea9974b4c2\n"
     ]
    }
   ],
   "source": [
    "## In search of a specific attribute containing the photo ID\n",
    "status_values = {record[\"id\"] for record in dataSource if \"id\" in record}\n",
    "print(len(status_values))\n",
    "print(dataSource[0][\"form_values\"][\"5cf5\"])\n",
    "print(dataSource[0][\"form_values\"][\"5cf5\"][0][\"photo_id\"])"
   ]
  },
  {
   "cell_type": "code",
   "execution_count": 6,
   "id": "d3cb4fff-8654-47cf-85d0-08e0d6333f24",
   "metadata": {},
   "outputs": [
    {
     "name": "stdout",
     "output_type": "stream",
     "text": [
      "Test Photo ID: 055e3eac-2472-42e5-93ed-e9ea9974b4c2\n",
      "Test Response: 200\n",
      "Test Data: {'photo': {'created_by': '[BP] admin L2', 'created_by_id': 'f8161492-3026-4f3c-a770-93f8e540d4d1', 'updated_by': '[BP] admin L2', 'updated_by_id': 'f8161492-3026-4f3c-a770-93f8e540d4d1', 'thumbnail': 'https://content.fulcrumapp.com/photos/thumb_d3ac2952-eac8-42fe-9df0-04c46d90546b-055e3eac-2472-42e5-93ed-e9ea9974b4c2.jpg?Expires=1750832063&Signature=OzYLJ0phYPyTofgROCcJl1lLBcpKGWM8N7IHI6p5o-PAuofQ1l-SZO-yBWjZ867IUeoVqG9NSK3DK2Hv9IDW4n-7mHqSSi~mgaC0j0LJg2MmKIJce0lz3d-TPsrinNNaFCT~a9G7O~lgGQYn1aTS4WD-BzdVP36yn2r8bKbkXLf1ULzKmRhmpxSH2IuWYoMVi4AEuT1NH9oZpN7QGhwdS0uNiRVWrFKUIQtNWRqPXBUgKjAbKc6A-0MUynC-8d3QiVylzhTCkTi8lD1CQLoW3USvO03QCBe5kLyng~qvU7nhmuOfd~ttnTQb9Io3HJF9dzu15D~aM0MG28VqO76qGg__&Key-Pair-Id=K1J5KALR9YAJQS', 'large': 'https://content.fulcrumapp.com/photos/large_d3ac2952-eac8-42fe-9df0-04c46d90546b-055e3eac-2472-42e5-93ed-e9ea9974b4c2.jpg?Expires=1750832063&Signature=eRWq~hhTVVfmbIvk6~JmH8s~g7ZfYyA38~BWvwpkFqe4XRe5vwFQzhjGC7Pd3FIhEBOP~0QBoXTOkYNRrLH7qYYH5J-wARDvx6W1XUfNNxtaML4JZzuuPxDfpisblR8EZI~gARgB3WhI5ul4jVjrn8pJj~INDcLWs2l5cnj-wqak2k~p3gmFSACRK3Ii7d~592dwMRpdr~0Ch9b6Wyzd7YQC9KpDZOTzmNlYVo4lDIzbb191z2cCiYO9pYI~v3GmBir4-~GPSEhaVnNpCeQsECIve2Jv~8T9O2xoxk3sG-rgOf6Uc1iY5nixTIF7zaDwrWZPtx4M7TQgC38TtW3GRw__&Key-Pair-Id=K1J5KALR9YAJQS', 'original': 'https://content.fulcrumapp.com/photos/d3ac2952-eac8-42fe-9df0-04c46d90546b-055e3eac-2472-42e5-93ed-e9ea9974b4c2.jpg?Expires=1750832063&Signature=oRheU0HgLxAlgYh36uiv8RG0~rUG5jTLSSGVc3fDOzrg97tcBNk7mNE0e6IReWM~w1gcqFtBpev5imnxRnagOTd2gIDJu2GFYfeSW-myS4x1dOJM39kzVYx2gdAJzcO8o8bPUCL58aAjuZ-DMf4MhHme8z9vvRSS~6-uMNRjM6sAVQBAIE6BucQxhK63QDSCAThkp8iReHx2lhgbeVw7cjyG5EYhXuwOOY-FTN2yo0bcvBqVkRh1qiQ3CMAcmR7mTMzuc1f91w9P0C3vhlWABo0UOJEgzRn6m75Kz8qjyW1jPnj4HoCtQ4H8pD~0ZwpGajpRSPRM0a-7gnJengHP3g__&Key-Pair-Id=K1J5KALR9YAJQS', 'access_key': '055e3eac-2472-42e5-93ed-e9ea9974b4c2', 'created_at': '2023-07-11T11:01:06Z', 'updated_at': '2025-03-17T11:01:07Z', 'uploaded': True, 'stored': True, 'processed': True, 'deleted_at': '2025-03-17T11:01:07Z', 'record_id': None, 'form_id': None, 'file_size': 841932, 'content_type': 'image/jpeg', 'latitude': 25.3119088, 'longitude': 46.6032470999982, 'url': 'https://api.fulcrumapp.com/api/v2/photos/055e3eac-2472-42e5-93ed-e9ea9974b4c2', 'exif': {'image_width': 1080.0, 'image_length': 810.0, 'make': 'samsung', 'model': 'SM-G361H', 'x_resolution': 72.0, 'y_resolution': 72.0, 'resolution_unit': 2.0, 'software': 'Software Version v1.1.0', 'date_time': '2017-07-24T13:11:00.000+00:00', 'ycb_cr_positioning': 1.0, 'exposure_time': 0.00048756704046806434, 'f_number': 2.2, 'exposure_program': 2.0, 'iso_speed_ratings': 50.0, 'date_time_original': '2017-07-24T13:11:00.000+00:00', 'date_time_digitized': '2017-07-24T13:11:00.000+00:00', 'shutter_speed_value': 0.00048828125, 'aperture_value': 2.2, 'exposure_bias_value': 0.0, 'max_aperture_value': 2.2857142857142856, 'metering_mode': 2.0, 'light_source': 0.0, 'flash': 0.0, 'focal_length': 3.31, 'subsec_time': '10', 'subsec_time_original': '100', 'subsec_time_digitized': '20', 'color_space': 1.0, 'pixel_x_dimension': 1080.0, 'pixel_y_dimension': 810.0, 'exposure_mode': 0.0, 'white_balance': 0.0, 'contrast': 0.0, 'saturation': 0.0, 'image_unique_id': 'IMAGE 2017:07:24 13:11:00', 'gps_latitude_ref': 'N', 'gps_latitude': 25.3119088, 'gps_longitude_ref': 'E', 'gps_longitude': 46.6032470999982, 'gps_altitude_ref': '\\x00', 'gps_altitude': 573.6997908297088, 'gps_dop': 6.0, 'gps_h_positioning_error': 6.0}}}\n"
     ]
    }
   ],
   "source": [
    "## Test API access via endpoint \n",
    "test_photo_id = dataSource[0]['form_values']['5cf5'][0]['photo_id']\n",
    "print(\"Test Photo ID:\", test_photo_id)\n",
    "test_url = f\"https://api.fulcrumapp.com/api/v2/photos/{test_photo_id}.json\"\n",
    "response = requests.get(test_url, headers={'X-ApiToken': apiToken})\n",
    "print(\"Test Response:\", response.status_code)\n",
    "print(\"Test Data:\", response.json())"
   ]
  },
  {
   "cell_type": "code",
   "execution_count": 7,
   "id": "4a70838c",
   "metadata": {},
   "outputs": [
    {
     "name": "stderr",
     "output_type": "stream",
     "text": [
      "c:\\Users\\User3\\miniconda3\\envs\\py312\\Lib\\site-packages\\tqdm\\auto.py:21: TqdmWarning: IProgress not found. Please update jupyter and ipywidgets. See https://ipywidgets.readthedocs.io/en/stable/user_install.html\n",
      "  from .autonotebook import tqdm as notebook_tqdm\n"
     ]
    },
    {
     "name": "stdout",
     "output_type": "stream",
     "text": [
      "💾 Saving photos to: D:\\BPLA Dropbox\\03 Planning\\1232-T2-TM2_1-GIS-Remote-Sensing\\06_GIS-Data\\03_TreeInventory\\photos\n",
      "📸 Found 98435 photo references in '5cf5' field\n",
      "📥 Preparing to download 98435 new photos\n"
     ]
    },
    {
     "name": "stderr",
     "output_type": "stream",
     "text": [
      "Downloading photos:   4%|▍         | 4116/98435 [39:41<21:04:54,  1.24it/s] "
     ]
    },
    {
     "name": "stdout",
     "output_type": "stream",
     "text": [
      "❌ Failed to download 0650e6c3-a295-45c9-bfdc-b3a7e1f2ea4c: HTTPSConnectionPool(host='api.fulcrumapp.com', port=443): Max retries exceeded with url: /api/v2/photos/0650e6c3-a295-45c9-bfdc-b3a7e1f2ea4c.json (Caused by SSLError(SSLCertVerificationError(1, '[SSL: CERTIFICATE_VERIFY_FAILED] certificate verify failed: self-signed certificate in certificate chain (_ssl.c:1010)')))\n"
     ]
    },
    {
     "name": "stderr",
     "output_type": "stream",
     "text": [
      "Downloading photos:   4%|▍         | 4120/98435 [40:42<170:01:20,  6.49s/it]"
     ]
    },
    {
     "name": "stdout",
     "output_type": "stream",
     "text": [
      "❌ Failed to download 276676aa-9d6f-46c9-b9ea-890ac11fa827: HTTPSConnectionPool(host='api.fulcrumapp.com', port=443): Max retries exceeded with url: /api/v2/photos/276676aa-9d6f-46c9-b9ea-890ac11fa827.json (Caused by ConnectTimeoutError(<urllib3.connection.HTTPSConnection object at 0x00000207113EC6B0>, 'Connection to api.fulcrumapp.com timed out. (connect timeout=None)'))\n",
      "❌ Failed to download 7336f5f8-d3e9-4e66-9abd-a9b270d39472: HTTPSConnectionPool(host='api.fulcrumapp.com', port=443): Max retries exceeded with url: /api/v2/photos/7336f5f8-d3e9-4e66-9abd-a9b270d39472.json (Caused by ConnectTimeoutError(<urllib3.connection.HTTPSConnection object at 0x0000020713FF7A40>, 'Connection to api.fulcrumapp.com timed out. (connect timeout=None)'))\n",
      "❌ Failed to download e53bc6e2-af46-44df-89aa-fe855c1b4d87: HTTPSConnectionPool(host='api.fulcrumapp.com', port=443): Max retries exceeded with url: /api/v2/photos/e53bc6e2-af46-44df-89aa-fe855c1b4d87.json (Caused by ConnectTimeoutError(<urllib3.connection.HTTPSConnection object at 0x0000020780C21B20>, 'Connection to api.fulcrumapp.com timed out. (connect timeout=None)'))\n"
     ]
    },
    {
     "name": "stderr",
     "output_type": "stream",
     "text": [
      "Downloading photos:  45%|████▍     | 43848/98435 [9:29:00<37:46:17,  2.49s/it] "
     ]
    },
    {
     "name": "stdout",
     "output_type": "stream",
     "text": [
      "❌ Failed to download 4cfcc031-312b-4cb6-97b2-e68a9b850927: [WinError 32] The process cannot access the file because it is being used by another process: 'D:\\\\BPLA Dropbox\\\\03 Planning\\\\1232-T2-TM2_1-GIS-Remote-Sensing\\\\06_GIS-Data\\\\03_TreeInventory\\\\photos\\\\4cfcc031-312b-4cb6-97b2-e68a9b850927.jpg'\n"
     ]
    },
    {
     "name": "stderr",
     "output_type": "stream",
     "text": [
      "Downloading photos: 100%|██████████| 98435/98435 [19:00:04<00:00,  1.44it/s]    "
     ]
    },
    {
     "name": "stdout",
     "output_type": "stream",
     "text": [
      "\n",
      "✅ Completed! Downloaded 98048/98435 photos\n",
      "💾 Saved to: D:\\BPLA Dropbox\\03 Planning\\1232-T2-TM2_1-GIS-Remote-Sensing\\06_GIS-Data\\03_TreeInventory\\photos\n",
      "\n",
      "⚠️ Failed to download 387 photos\n",
      "Saved list of failed IDs to: D:\\BPLA Dropbox\\03 Planning\\1232-T2-TM2_1-GIS-Remote-Sensing\\06_GIS-Data\\03_TreeInventory\\photos\\failed_downloads.txt\n"
     ]
    },
    {
     "name": "stderr",
     "output_type": "stream",
     "text": [
      "\n"
     ]
    }
   ],
   "source": [
    "## Downloading photos from Fulcrum using content URLs\n",
    "import os\n",
    "import time\n",
    "from tqdm.auto import tqdm\n",
    "from concurrent.futures import ThreadPoolExecutor\n",
    "\n",
    "def download_fulcrum_photos(dataSource, output_dir = r\"D:\\BPLA Dropbox\\03 Planning\\1232-T2-TM2_1-GIS-Remote-Sensing\\06_GIS-Data\\03_TreeInventory\\photos\"):\n",
    "    \"\"\"\n",
    "    Downloads photos using the content URLs from Fulcrum API response\n",
    "    Args:\n",
    "        dataSource: The complete dataset from fulcrum.records.search()\n",
    "        output_dir: Directory to save photos\n",
    "    \"\"\"\n",
    "    # Create output directory if it doesn't exist\n",
    "    os.makedirs(output_dir, exist_ok=True)\n",
    "    print(f\"💾 Saving photos to: {os.path.abspath(output_dir)}\")\n",
    "    \n",
    "    # Extract all photo references from the 5cf5 field\n",
    "    photo_references = []\n",
    "    for record in dataSource:\n",
    "        if 'form_values' in record and '5cf5' in record['form_values']:\n",
    "            photos = record['form_values']['5cf5']\n",
    "            if isinstance(photos, list):\n",
    "                for photo in photos:\n",
    "                    if 'photo_id' in photo:\n",
    "                        photo_references.append({\n",
    "                            'photo_id': photo['photo_id'],\n",
    "                            'record_id': record['id'],\n",
    "                            'caption': photo.get('caption', '')\n",
    "                        })\n",
    "    \n",
    "    print(f\"📸 Found {len(photo_references)} photo references in '5cf5' field\")\n",
    "    \n",
    "    # Prepare download tasks (skip existing files)\n",
    "    download_tasks = []\n",
    "    for ref in photo_references:\n",
    "        filename = f\"{ref['photo_id']}.jpg\"\n",
    "        filepath = os.path.join(output_dir, filename)\n",
    "        \n",
    "        if not os.path.exists(filepath):\n",
    "            download_tasks.append({\n",
    "                'photo_id': ref['photo_id'],\n",
    "                'path': filepath,\n",
    "                'record_id': ref['record_id']\n",
    "            })\n",
    "\n",
    "    if not download_tasks:\n",
    "        print(\"✅ All photos already downloaded\")\n",
    "        return\n",
    "\n",
    "    print(f\"📥 Preparing to download {len(download_tasks)} new photos\")\n",
    "\n",
    "    # Download function using content URLs\n",
    "    def download_single(task):\n",
    "        try:\n",
    "            # First get photo metadata to obtain content URL\n",
    "            metadata_url = f\"https://api.fulcrumapp.com/api/v2/photos/{task['photo_id']}.json\"\n",
    "            headers = {'X-ApiToken': apiToken}\n",
    "            \n",
    "            for attempt in range(3):  # Retry up to 3 times\n",
    "                try:\n",
    "                    # Get photo metadata\n",
    "                    response = requests.get(metadata_url, headers=headers)\n",
    "                    if response.status_code != 200:\n",
    "                        time.sleep(2 ** attempt)\n",
    "                        continue\n",
    "                        \n",
    "                    photo_data = response.json().get('photo', {})\n",
    "                    if not photo_data:\n",
    "                        time.sleep(2 ** attempt)\n",
    "                        continue\n",
    "                    \n",
    "                    # Use the original content URL\n",
    "                    download_url = photo_data.get('original')\n",
    "                    if not download_url:\n",
    "                        time.sleep(2 ** attempt)\n",
    "                        continue\n",
    "                    \n",
    "                    # Download the photo (no auth needed for content URLs)\n",
    "                    photo_response = requests.get(download_url, stream=True)\n",
    "                    \n",
    "                    if photo_response.status_code == 200:\n",
    "                        # Write directly to disk\n",
    "                        with open(task['path'], 'wb') as f:\n",
    "                            for chunk in photo_response.iter_content(1024):\n",
    "                                f.write(chunk)\n",
    "                        \n",
    "                        # Verify it's a valid JPG\n",
    "                        with open(task['path'], 'rb') as f:\n",
    "                            if f.read(2) == b'\\xff\\xd8':\n",
    "                                return True\n",
    "                            else:\n",
    "                                os.remove(task['path'])\n",
    "                                raise ValueError(\"Invalid JPG file\")\n",
    "                    else:\n",
    "                        time.sleep(2 ** attempt)\n",
    "                        \n",
    "                except Exception as e:\n",
    "                    time.sleep(2 ** attempt)\n",
    "                    if attempt == 2:\n",
    "                        print(f\"❌ Failed to download {task['photo_id']}: {str(e)}\")\n",
    "                        return False\n",
    "                        \n",
    "            return False\n",
    "            \n",
    "        except Exception as e:\n",
    "            print(f\"❌ Error downloading {task['photo_id']}: {str(e)}\")\n",
    "            return False\n",
    "\n",
    "    # Download with progress (using 4 workers)\n",
    "    success = 0\n",
    "    with ThreadPoolExecutor(max_workers=4) as executor:\n",
    "        results = list(tqdm(\n",
    "            executor.map(download_single, download_tasks),\n",
    "            total=len(download_tasks),\n",
    "            desc=\"Downloading photos\"\n",
    "        )) \n",
    "        success = sum(results)\n",
    "\n",
    "    print(f\"\\n✅ Completed! Downloaded {success}/{len(download_tasks)} photos\")\n",
    "    print(f\"💾 Saved to: {os.path.abspath(output_dir)}\")\n",
    "    \n",
    "    # Generate failure report\n",
    "    if success < len(download_tasks):\n",
    "        failed = len(download_tasks) - success\n",
    "        print(f\"\\n⚠️ Failed to download {failed} photos\")\n",
    "        \n",
    "        # Save failed IDs to file\n",
    "        failed_file = os.path.join(output_dir, 'failed_downloads.txt')\n",
    "        with open(failed_file, 'w') as f:\n",
    "            for task, result in zip(download_tasks, results):\n",
    "                if not result:\n",
    "                    f.write(f\"{task['photo_id']}\\n\")\n",
    "        \n",
    "        print(f\"Saved list of failed IDs to: {failed_file}\")\n",
    "\n",
    "# Run the downloader\n",
    "download_fulcrum_photos(dataSource)"
   ]
  }
 ],
 "metadata": {
  "kernelspec": {
   "display_name": "py312",
   "language": "python",
   "name": "python3"
  },
  "language_info": {
   "codemirror_mode": {
    "name": "ipython",
    "version": 3
   },
   "file_extension": ".py",
   "mimetype": "text/x-python",
   "name": "python",
   "nbconvert_exporter": "python",
   "pygments_lexer": "ipython3",
   "version": "3.12.9"
  }
 },
 "nbformat": 4,
 "nbformat_minor": 5
}
