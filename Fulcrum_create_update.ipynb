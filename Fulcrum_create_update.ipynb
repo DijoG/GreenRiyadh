{
 "cells": [
  {
   "cell_type": "code",
   "execution_count": 1,
   "metadata": {},
   "outputs": [
    {
     "name": "stdout",
     "output_type": "stream",
     "text": [
      "Requirement already satisfied: geopandas in c:\\users\\jura\\miniconda3\\lib\\site-packages (1.0.1)\n",
      "Requirement already satisfied: packaging in c:\\users\\jura\\miniconda3\\lib\\site-packages (from geopandas) (23.1)\n",
      "Requirement already satisfied: pyproj>=3.3.0 in c:\\users\\jura\\miniconda3\\lib\\site-packages (from geopandas) (3.7.1)\n",
      "Requirement already satisfied: shapely>=2.0.0 in c:\\users\\jura\\miniconda3\\lib\\site-packages (from geopandas) (2.0.7)\n",
      "Requirement already satisfied: numpy>=1.22 in c:\\users\\jura\\miniconda3\\lib\\site-packages (from geopandas) (1.26.4)\n",
      "Requirement already satisfied: pandas>=1.4.0 in c:\\users\\jura\\miniconda3\\lib\\site-packages (from geopandas) (2.2.3)\n",
      "Requirement already satisfied: pyogrio>=0.7.2 in c:\\users\\jura\\miniconda3\\lib\\site-packages (from geopandas) (0.10.0)\n",
      "Requirement already satisfied: tzdata>=2022.7 in c:\\users\\jura\\miniconda3\\lib\\site-packages (from pandas>=1.4.0->geopandas) (2025.1)\n",
      "Requirement already satisfied: pytz>=2020.1 in c:\\users\\jura\\miniconda3\\lib\\site-packages (from pandas>=1.4.0->geopandas) (2025.1)\n",
      "Requirement already satisfied: python-dateutil>=2.8.2 in c:\\users\\jura\\miniconda3\\lib\\site-packages (from pandas>=1.4.0->geopandas) (2.9.0.post0)\n",
      "Requirement already satisfied: certifi in c:\\users\\jura\\miniconda3\\lib\\site-packages (from pyogrio>=0.7.2->geopandas) (2023.7.22)\n",
      "Requirement already satisfied: six>=1.5 in c:\\users\\jura\\miniconda3\\lib\\site-packages (from python-dateutil>=2.8.2->pandas>=1.4.0->geopandas) (1.16.0)\n",
      "Requirement already satisfied: fulcrum in c:\\users\\jura\\miniconda3\\lib\\site-packages (1.12.0)\n",
      "Requirement already satisfied: requests>=2.11.0 in c:\\users\\jura\\miniconda3\\lib\\site-packages (from fulcrum) (2.32.3)\n",
      "Requirement already satisfied: certifi>=2017.4.17 in c:\\users\\jura\\miniconda3\\lib\\site-packages (from requests>=2.11.0->fulcrum) (2023.7.22)\n",
      "Requirement already satisfied: charset-normalizer<4,>=2 in c:\\users\\jura\\miniconda3\\lib\\site-packages (from requests>=2.11.0->fulcrum) (2.0.4)\n",
      "Requirement already satisfied: idna<4,>=2.5 in c:\\users\\jura\\miniconda3\\lib\\site-packages (from requests>=2.11.0->fulcrum) (3.4)\n",
      "Requirement already satisfied: urllib3<3,>=1.21.1 in c:\\users\\jura\\miniconda3\\lib\\site-packages (from requests>=2.11.0->fulcrum) (1.26.13)\n",
      "Requirement already satisfied: matplotlib in c:\\users\\jura\\miniconda3\\lib\\site-packages (3.10.0)\n",
      "Requirement already satisfied: fonttools>=4.22.0 in c:\\users\\jura\\miniconda3\\lib\\site-packages (from matplotlib) (4.56.0)\n",
      "Requirement already satisfied: python-dateutil>=2.7 in c:\\users\\jura\\miniconda3\\lib\\site-packages (from matplotlib) (2.9.0.post0)\n",
      "Requirement already satisfied: pillow>=8 in c:\\users\\jura\\miniconda3\\lib\\site-packages (from matplotlib) (11.1.0)\n",
      "Requirement already satisfied: pyparsing>=2.3.1 in c:\\users\\jura\\miniconda3\\lib\\site-packages (from matplotlib) (3.2.1)\n",
      "Requirement already satisfied: numpy>=1.23 in c:\\users\\jura\\miniconda3\\lib\\site-packages (from matplotlib) (1.26.4)\n",
      "Requirement already satisfied: cycler>=0.10 in c:\\users\\jura\\miniconda3\\lib\\site-packages (from matplotlib) (0.12.1)\n",
      "Requirement already satisfied: kiwisolver>=1.3.1 in c:\\users\\jura\\miniconda3\\lib\\site-packages (from matplotlib) (1.4.8)\n",
      "Requirement already satisfied: packaging>=20.0 in c:\\users\\jura\\miniconda3\\lib\\site-packages (from matplotlib) (23.1)\n",
      "Requirement already satisfied: contourpy>=1.0.1 in c:\\users\\jura\\miniconda3\\lib\\site-packages (from matplotlib) (1.3.1)\n",
      "Requirement already satisfied: six>=1.5 in c:\\users\\jura\\miniconda3\\lib\\site-packages (from python-dateutil>=2.7->matplotlib) (1.16.0)\n",
      "Requirement already satisfied: fiona in c:\\users\\jura\\miniconda3\\lib\\site-packages (1.10.1)\n",
      "Requirement already satisfied: cligj>=0.5 in c:\\users\\jura\\miniconda3\\lib\\site-packages (from fiona) (0.7.2)\n",
      "Requirement already satisfied: attrs>=19.2.0 in c:\\users\\jura\\miniconda3\\lib\\site-packages (from fiona) (25.1.0)\n",
      "Requirement already satisfied: certifi in c:\\users\\jura\\miniconda3\\lib\\site-packages (from fiona) (2023.7.22)\n",
      "Requirement already satisfied: click-plugins>=1.0 in c:\\users\\jura\\miniconda3\\lib\\site-packages (from fiona) (1.1.1)\n",
      "Requirement already satisfied: click~=8.0 in c:\\users\\jura\\miniconda3\\lib\\site-packages (from fiona) (8.1.8)\n",
      "Requirement already satisfied: colorama in c:\\users\\jura\\miniconda3\\lib\\site-packages (from click~=8.0->fiona) (0.4.6)\n"
     ]
    }
   ],
   "source": [
    "## install needed modules\n",
    "! pip install geopandas\n",
    "! pip install fulcrum\n",
    "! pip install matplotlib\n",
    "! pip install fiona"
   ]
  },
  {
   "cell_type": "code",
   "execution_count": 1,
   "metadata": {},
   "outputs": [],
   "source": [
    "## mashup script for batch changes\n",
    "import math, json\n",
    "from collections import Counter\n",
    "from datetime import datetime, timedelta\n",
    "from geopandas.tools import sjoin\n",
    "# from pyproj import proj\n",
    "import pandas as pd\n",
    "import csv\n",
    "import numpy as np\n",
    "from shapely.geometry import Point\n",
    "from shapely.geometry.polygon import Polygon\n",
    "import matplotlib.pyplot as plt\n",
    "from shapely.geometry import Point\n",
    "import geopandas as gpd\n",
    "import fiona\n",
    "from fulcrum import Fulcrum"
   ]
  },
  {
   "cell_type": "code",
   "execution_count": 2,
   "metadata": {
    "collapsed": false,
    "jupyter": {
     "outputs_hidden": false
    }
   },
   "outputs": [
    {
     "name": "stdout",
     "output_type": "stream",
     "text": [
      "<fulcrum.Fulcrum object at 0x00000229F46977C0>\n"
     ]
    }
   ],
   "source": [
    "## variables\n",
    "apiToken = \"689a52b9420360bef6af63ad889bcbf4cb34f26e1d1348b2d3a2ff3b71dfe6828d07395724415aa9\"\n",
    "urlBase = 'https://api.fulcrumapp.com/api/v2/'\n",
    "fulcrum = Fulcrum(key=apiToken)\n",
    "osTimestamp = datetime.today() - timedelta(days=4)\n",
    "recordsPerPage = 000\n",
    "print(fulcrum)"
   ]
  },
  {
   "cell_type": "code",
   "execution_count": 3,
   "metadata": {},
   "outputs": [],
   "source": [
    "## data I\n",
    "appID = \"0092aa7f-a2e8-4972-8f26-46eb98b23a12\" # ID of Combined Tree Invnetory\n",
    "formdataSource = fulcrum.forms.find(appID)\n",
    "# get number of pages\n",
    "## the following divides the total number of records in chunks and downloads and assembles them. Otherwise the fulcrum API allows only downloads of 20,000 records\n",
    "\n",
    "## count records in app\n",
    "recordCountSource = fulcrum.forms.find(appID)['form']['record_count']\n",
    "pagesSource = math.ceil(recordCountSource / recordsPerPage)\n",
    "\n",
    "## get data I\n",
    "if pagesSource > 1:\n",
    "    for p in range(1, pagesSource + 1):\n",
    "        dataPage = fulcrum.records.search(url_params={'form_id': appID, 'page': p, 'per_page': recordsPerPage})[\n",
    "            'records']\n",
    "        if p > 1:\n",
    "            dataSource.extend(dataPage)\n",
    "        else:\n",
    "            dataSource = dataPage\n",
    "else:\n",
    "    dataSource = fulcrum.records.search(url_params={'form_id': appID, 'page': 1, 'per_page': recordsPerPage})['records']"
   ]
  },
  {
   "cell_type": "code",
   "execution_count": 4,
   "metadata": {},
   "outputs": [
    {
     "data": {
      "text/plain": [
       "['status',\n",
       " 'version',\n",
       " 'id',\n",
       " 'created_at',\n",
       " 'updated_at',\n",
       " 'client_created_at',\n",
       " 'client_updated_at',\n",
       " 'created_by',\n",
       " 'created_by_id',\n",
       " 'updated_by',\n",
       " 'updated_by_id',\n",
       " 'created_location',\n",
       " 'updated_location',\n",
       " 'created_duration',\n",
       " 'updated_duration',\n",
       " 'edited_duration',\n",
       " 'form_id',\n",
       " 'project_id',\n",
       " 'record_series_id',\n",
       " 'assigned_to',\n",
       " 'assigned_to_id',\n",
       " 'form_values',\n",
       " 'latitude',\n",
       " 'longitude',\n",
       " 'altitude',\n",
       " 'geometry',\n",
       " 'speed',\n",
       " 'course',\n",
       " 'horizontal_accuracy',\n",
       " 'vertical_accuracy',\n",
       " 'system_status']"
      ]
     },
     "execution_count": 4,
     "metadata": {},
     "output_type": "execute_result"
    }
   ],
   "source": [
    "## What do we have? Attributes:\n",
    "type(dataSource)\n",
    "cticolumns = list(dataSource[0].keys())\n",
    "cticolumns"
   ]
  },
  {
   "cell_type": "code",
   "execution_count": 9,
   "metadata": {},
   "outputs": [
    {
     "name": "stdout",
     "output_type": "stream",
     "text": [
      "No action required - لا حاجة لأي إجراء\n",
      "{'Escalation issue - قضية تصعيد', 'Request of inspection (RFI) - طلب معاينة', 'Rejection of RFI - رفض معاينة', 'Final approval - موافقة نهائية', 'Request of activation - طلب تفعيل', 'Work order - أمر عمل', 'Issue in place - قضية موجودة', 'On hold - قضية عالقة', 'Approval of RFI - موافقة على المعاينة', 'No action required - لا حاجة لأي إجراء', 'Reports', 'Final on hold - نهائي عالق'}\n"
     ]
    }
   ],
   "source": [
    "print(dataSource[0][\"status\"])\n",
    "status_values = {record[\"status\"] for record in dataSource if \"status\" in record}\n",
    "print(status_values)"
   ]
  },
  {
   "cell_type": "code",
   "execution_count": 25,
   "metadata": {},
   "outputs": [],
   "source": [
    "## data II\n",
    "dqID = \"0046e79b-ef91-4b37-99b9-d6340e28094c\" # DQ ID\n",
    "dqformdataSource = fulcrum.forms.find(dqID)\n",
    "# get number of pages\n",
    "## the following divides the total number of records in chunks and downloads and assembles them. Otherwise the fulcrum API allows only downloads of 20,000 records\n",
    "\n",
    "## count records in app\n",
    "dqrecordCountSource = fulcrum.forms.find(dqID)['form']['record_count']\n",
    "dqpagesSource = math.ceil(dqrecordCountSource / recordsPerPage)\n",
    "\n",
    "## get data II\n",
    "if dqpagesSource > 1:\n",
    "    for p in range(1, dqpagesSource + 1):\n",
    "        dataPage = fulcrum.records.search(url_params={'form_id': dqID, 'page': p, 'per_page': recordsPerPage})[\n",
    "            'records']\n",
    "        if p > 1:\n",
    "            dqdataSource.extend(dataPage)\n",
    "        else:\n",
    "            dqdataSource = dataPage\n",
    "else:\n",
    "    dqdataSource = fulcrum.records.search(url_params={'form_id': dqID, 'page': 1, 'per_page': recordsPerPage})['records']"
   ]
  },
  {
   "cell_type": "code",
   "execution_count": 28,
   "metadata": {},
   "outputs": [
    {
     "name": "stdout",
     "output_type": "stream",
     "text": [
      "{'No action required - لا حاجة لأي إجراء'}\n"
     ]
    }
   ],
   "source": [
    "dqdataSource[0][\"status\"]\n",
    "dqstatus_values = {record[\"status\"] for record in dqdataSource if \"status\" in record}\n",
    "print(dqstatus_values)"
   ]
  },
  {
   "cell_type": "code",
   "execution_count": 27,
   "metadata": {},
   "outputs": [],
   "source": [
    "for record in dqdataSource:\n",
    "    record[\"status\"] = 'No action required - لا حاجة لأي إجراء' "
   ]
  },
  {
   "cell_type": "code",
   "execution_count": 29,
   "metadata": {},
   "outputs": [
    {
     "name": "stdout",
     "output_type": "stream",
     "text": [
      "❌ Failed to create Record 4eb7ba28-9b08-408c-97d0-f5ea7005431c under Project ID: 0092aa7f-a2e8-4972-8f26-46eb98b23a12\n",
      "❌ Failed to create Record 1e5fa24f-a9e0-414d-9876-c1eb384a40fc under Project ID: 0092aa7f-a2e8-4972-8f26-46eb98b23a12\n",
      "❌ Failed to create Record 6cc5bd8a-39a5-429b-8fb7-cffae6892999 under Project ID: 0092aa7f-a2e8-4972-8f26-46eb98b23a12\n",
      "❌ Failed to create Record fce708d8-d18e-4951-97e2-98c37a7ef584 under Project ID: 0092aa7f-a2e8-4972-8f26-46eb98b23a12\n",
      "❌ Failed to create Record 90f9f3c6-e7c8-4e2a-8522-3d0d3d17b9a2 under Project ID: 0092aa7f-a2e8-4972-8f26-46eb98b23a12\n",
      "❌ Failed to create Record e541b9c4-e66a-4a1f-85b3-d2c5e29d3c66 under Project ID: 0092aa7f-a2e8-4972-8f26-46eb98b23a12\n",
      "❌ Failed to create Record c05eea97-b2a1-4c83-8563-fc6349f8bf17 under Project ID: 0092aa7f-a2e8-4972-8f26-46eb98b23a12\n",
      "❌ Failed to create Record fdcb2c8e-30ea-4f6b-98ec-8f65f6799061 under Project ID: 0092aa7f-a2e8-4972-8f26-46eb98b23a12\n",
      "❌ Failed to create Record 50ad46cc-7877-4410-be79-bf2458f06422 under Project ID: 0092aa7f-a2e8-4972-8f26-46eb98b23a12\n",
      "❌ Failed to create Record 9af333c4-0c58-41f8-8d7c-61abc2a6cea7 under Project ID: 0092aa7f-a2e8-4972-8f26-46eb98b23a12\n",
      "❌ Failed to create Record fa684a07-9ce7-4560-8fc8-128366e9871a under Project ID: 0092aa7f-a2e8-4972-8f26-46eb98b23a12\n",
      "❌ Failed to create Record a498fcf2-1af7-4d7d-8984-330fa806dd2e under Project ID: 0092aa7f-a2e8-4972-8f26-46eb98b23a12\n",
      "❌ Failed to create Record 4d61c44f-ec66-4dc2-a4f5-33f7de8cb15f under Project ID: 0092aa7f-a2e8-4972-8f26-46eb98b23a12\n",
      "❌ Failed to create Record 0a12ff35-34a6-4df7-9d6e-0d8c5c82b3fa under Project ID: 0092aa7f-a2e8-4972-8f26-46eb98b23a12\n",
      "❌ Failed to create Record d1b61687-66c8-4df8-a48e-1ba86eab353d under Project ID: 0092aa7f-a2e8-4972-8f26-46eb98b23a12\n",
      "❌ Failed to create Record 3f5c2c5c-80b4-4c4f-8878-d4a138500560 under Project ID: 0092aa7f-a2e8-4972-8f26-46eb98b23a12\n",
      "❌ Failed to create Record c9a3f504-ee75-4845-9d03-1dca4a30f2a5 under Project ID: 0092aa7f-a2e8-4972-8f26-46eb98b23a12\n",
      "❌ Failed to create Record 4788d74f-12ae-452e-b5f1-3857276a8ac1 under Project ID: 0092aa7f-a2e8-4972-8f26-46eb98b23a12\n",
      "❌ Failed to create Record 794832f7-701e-4a69-a159-8fbe58c192ed under Project ID: 0092aa7f-a2e8-4972-8f26-46eb98b23a12\n",
      "❌ Failed to create Record c9c58214-261c-4aab-a140-3e7a4a5531f3 under Project ID: 0092aa7f-a2e8-4972-8f26-46eb98b23a12\n",
      "❌ Failed to create Record 8fb0e205-be39-4a09-8be4-96269222dda5 under Project ID: 0092aa7f-a2e8-4972-8f26-46eb98b23a12\n",
      "❌ Failed to create Record 7577a1ed-1ea8-4a09-81af-36e941566683 under Project ID: 0092aa7f-a2e8-4972-8f26-46eb98b23a12\n",
      "❌ Failed to create Record c156be5a-7675-49ec-8a5b-8ec28dd69fe7 under Project ID: 0092aa7f-a2e8-4972-8f26-46eb98b23a12\n",
      "❌ Failed to create Record 0b00353a-322f-4819-8c55-f7b23fa8210a under Project ID: 0092aa7f-a2e8-4972-8f26-46eb98b23a12\n",
      "❌ Failed to create Record 7ed53fac-0e38-4776-bc4d-495b551e31f0 under Project ID: 0092aa7f-a2e8-4972-8f26-46eb98b23a12\n",
      "❌ Failed to create Record fa3e8ab2-75be-43db-81d3-6c0d36c5a82b under Project ID: 0092aa7f-a2e8-4972-8f26-46eb98b23a12\n",
      "❌ Failed to create Record d4b279fa-39ad-444e-9d5c-e012929a5170 under Project ID: 0092aa7f-a2e8-4972-8f26-46eb98b23a12\n",
      "❌ Failed to create Record 263f89a1-763a-42fd-919c-02811fc06ef4 under Project ID: 0092aa7f-a2e8-4972-8f26-46eb98b23a12\n",
      "❌ Failed to create Record 66b42ac8-2263-4fcb-840f-a0d382a853f4 under Project ID: 0092aa7f-a2e8-4972-8f26-46eb98b23a12\n",
      "❌ Failed to create Record 7cf3d8e3-d0f0-4e71-8761-4917d9f2888d under Project ID: 0092aa7f-a2e8-4972-8f26-46eb98b23a12\n",
      "❌ Failed to create Record 49649f0b-8548-49d9-897d-b6f2333d6d2b under Project ID: 0092aa7f-a2e8-4972-8f26-46eb98b23a12\n",
      "❌ Failed to create Record 22ecb2bf-9d31-4499-adec-6bb664ef469f under Project ID: 0092aa7f-a2e8-4972-8f26-46eb98b23a12\n",
      "❌ Failed to create Record 3e4a6a83-d400-4128-83b3-f5f98572246a under Project ID: 0092aa7f-a2e8-4972-8f26-46eb98b23a12\n",
      "❌ Failed to create Record 347d25a5-f4af-426f-b7ec-7d3b9b80652a under Project ID: 0092aa7f-a2e8-4972-8f26-46eb98b23a12\n",
      "❌ Failed to create Record b263ec17-5019-41bc-be18-c17457484fdd under Project ID: 0092aa7f-a2e8-4972-8f26-46eb98b23a12\n",
      "❌ Failed to create Record cead7bbd-beb8-40e9-afd3-f5ff2e88722a under Project ID: 0092aa7f-a2e8-4972-8f26-46eb98b23a12\n",
      "❌ Failed to create Record 2046e96c-c704-4fdf-a9bd-c159c8925c40 under Project ID: 0092aa7f-a2e8-4972-8f26-46eb98b23a12\n",
      "❌ Failed to create Record b37a7131-d2af-417c-a444-e5bdbd0de86d under Project ID: 0092aa7f-a2e8-4972-8f26-46eb98b23a12\n",
      "❌ Failed to create Record ca9706b0-aa94-4a80-9bf1-d50ad8f71ec1 under Project ID: 0092aa7f-a2e8-4972-8f26-46eb98b23a12\n",
      "❌ Failed to create Record 9aeb7243-3725-427d-a1d2-f2c25b79e521 under Project ID: 0092aa7f-a2e8-4972-8f26-46eb98b23a12\n",
      "❌ Failed to create Record ea42526c-803f-491d-909b-e7af0505cb6c under Project ID: 0092aa7f-a2e8-4972-8f26-46eb98b23a12\n",
      "❌ Failed to create Record 0c612561-2394-4689-9848-eba160f9804b under Project ID: 0092aa7f-a2e8-4972-8f26-46eb98b23a12\n",
      "❌ Failed to create Record 1c4b1f97-2dc4-44d8-a85c-6b2260dec1d1 under Project ID: 0092aa7f-a2e8-4972-8f26-46eb98b23a12\n",
      "❌ Failed to create Record 62936a7a-2f6a-472b-a4bb-3e19e0adf0b5 under Project ID: 0092aa7f-a2e8-4972-8f26-46eb98b23a12\n",
      "❌ Failed to create Record 1a49e71f-fa65-4454-a6da-5a0c95581d69 under Project ID: 0092aa7f-a2e8-4972-8f26-46eb98b23a12\n",
      "❌ Failed to create Record cef14570-05ba-48b9-8784-734ac1ea462b under Project ID: 0092aa7f-a2e8-4972-8f26-46eb98b23a12\n",
      "❌ Failed to create Record b0c9fc6c-deb0-4e44-8cdf-58c693743758 under Project ID: 0092aa7f-a2e8-4972-8f26-46eb98b23a12\n",
      "❌ Failed to create Record 2eeed9b9-f33c-4e2e-9dbf-ec83796bbfae under Project ID: 0092aa7f-a2e8-4972-8f26-46eb98b23a12\n",
      "❌ Failed to create Record 00b244a9-33c1-469a-bb7b-779060c6bdf1 under Project ID: 0092aa7f-a2e8-4972-8f26-46eb98b23a12\n",
      "❌ Failed to create Record 0acdfc63-7e38-46b5-b4ab-6f4fe49ba557 under Project ID: 0092aa7f-a2e8-4972-8f26-46eb98b23a12\n",
      "❌ Failed to create Record 187c8884-cfd0-4dc5-90d2-5dc2b278f6a6 under Project ID: 0092aa7f-a2e8-4972-8f26-46eb98b23a12\n",
      "❌ Failed to create Record 743d3451-9d08-49bc-ae4d-a0776e2bd049 under Project ID: 0092aa7f-a2e8-4972-8f26-46eb98b23a12\n",
      "❌ Failed to create Record 357e73a3-1490-4fa7-8f1f-1a21ec92c0b3 under Project ID: 0092aa7f-a2e8-4972-8f26-46eb98b23a12\n",
      "❌ Failed to create Record c5535d61-467f-48d4-abb8-5985e9ed8e98 under Project ID: 0092aa7f-a2e8-4972-8f26-46eb98b23a12\n",
      "❌ Failed to create Record e99ddfb0-a782-4205-9292-575c1982e9e3 under Project ID: 0092aa7f-a2e8-4972-8f26-46eb98b23a12\n",
      "❌ Failed to create Record 0a264a0f-cd25-4d9c-a09e-f3ea1baf2816 under Project ID: 0092aa7f-a2e8-4972-8f26-46eb98b23a12\n",
      "❌ Failed to create Record dae5d558-7ccb-4380-b4fe-c2fbe7654d2b under Project ID: 0092aa7f-a2e8-4972-8f26-46eb98b23a12\n",
      "❌ Failed to create Record c189f9a1-55a4-4bd5-9e65-948ce9992010 under Project ID: 0092aa7f-a2e8-4972-8f26-46eb98b23a12\n",
      "❌ Failed to create Record 37d13664-b210-4512-80b0-352ab6565ac6 under Project ID: 0092aa7f-a2e8-4972-8f26-46eb98b23a12\n",
      "❌ Failed to create Record b7bdd2c8-08f4-47df-bacd-4b7cfae8405f under Project ID: 0092aa7f-a2e8-4972-8f26-46eb98b23a12\n",
      "❌ Failed to create Record 826e7230-ae38-4d3b-90e1-6775eed3a56b under Project ID: 0092aa7f-a2e8-4972-8f26-46eb98b23a12\n",
      "❌ Failed to create Record 22656ba6-faf7-4f11-9e5d-f3e953ca4287 under Project ID: 0092aa7f-a2e8-4972-8f26-46eb98b23a12\n",
      "❌ Failed to create Record e48b61d5-1188-404d-b922-999d3501ad40 under Project ID: 0092aa7f-a2e8-4972-8f26-46eb98b23a12\n",
      "❌ Failed to create Record 8eaeba25-b6e5-41b7-a954-180859bfa844 under Project ID: 0092aa7f-a2e8-4972-8f26-46eb98b23a12\n",
      "❌ Failed to create Record 8abad34a-70be-4cfd-99fc-e902142eb5ff under Project ID: 0092aa7f-a2e8-4972-8f26-46eb98b23a12\n",
      "❌ Failed to create Record 388faa40-2a28-4605-942e-1307a45251a0 under Project ID: 0092aa7f-a2e8-4972-8f26-46eb98b23a12\n",
      "❌ Failed to create Record 93b97b1d-300a-4060-85ec-d6ab2cea2f2d under Project ID: 0092aa7f-a2e8-4972-8f26-46eb98b23a12\n",
      "❌ Failed to create Record 69a0c12a-045e-40ff-b5b8-376919c0e1a0 under Project ID: 0092aa7f-a2e8-4972-8f26-46eb98b23a12\n",
      "❌ Failed to create Record 11f1ada1-8142-4f71-bb3b-5915ba84d601 under Project ID: 0092aa7f-a2e8-4972-8f26-46eb98b23a12\n",
      "❌ Failed to create Record 80e9b010-4ea1-4e51-beb4-3884ad0c9816 under Project ID: 0092aa7f-a2e8-4972-8f26-46eb98b23a12\n",
      "❌ Failed to create Record 58abca37-d18f-4dec-b13f-fb0b381938e9 under Project ID: 0092aa7f-a2e8-4972-8f26-46eb98b23a12\n",
      "❌ Failed to create Record aa15ad39-9096-4588-8c2a-7b4fe675d78a under Project ID: 0092aa7f-a2e8-4972-8f26-46eb98b23a12\n",
      "❌ Failed to create Record 8147bbed-2b7f-43a0-94e3-8c39f7a057bf under Project ID: 0092aa7f-a2e8-4972-8f26-46eb98b23a12\n",
      "❌ Failed to create Record c55ec4bb-12aa-4f60-8078-ea94977269df under Project ID: 0092aa7f-a2e8-4972-8f26-46eb98b23a12\n",
      "❌ Failed to create Record ce34e2be-4268-491a-ab18-ac516c953f3d under Project ID: 0092aa7f-a2e8-4972-8f26-46eb98b23a12\n",
      "❌ Failed to create Record 0080b314-17c1-450a-93b2-a16a695b47c2 under Project ID: 0092aa7f-a2e8-4972-8f26-46eb98b23a12\n",
      "❌ Failed to create Record dcb3c268-5ed3-44d0-8964-26beda9ae9df under Project ID: 0092aa7f-a2e8-4972-8f26-46eb98b23a12\n",
      "❌ Failed to create Record b92c5b79-7b78-4d72-b3dd-e8c450bcd764 under Project ID: 0092aa7f-a2e8-4972-8f26-46eb98b23a12\n",
      "❌ Failed to create Record fa38d0c6-52e0-4e71-ace7-4f63e5d7f723 under Project ID: 0092aa7f-a2e8-4972-8f26-46eb98b23a12\n",
      "❌ Failed to create Record bca92fa9-b10d-4073-9d2d-43dc6ab06def under Project ID: 0092aa7f-a2e8-4972-8f26-46eb98b23a12\n",
      "❌ Failed to create Record a3e58d1b-7126-43f0-ad83-1406d6cabb79 under Project ID: 0092aa7f-a2e8-4972-8f26-46eb98b23a12\n",
      "❌ Failed to create Record 1cd44f4c-9fdd-44e4-ab12-b153d485f080 under Project ID: 0092aa7f-a2e8-4972-8f26-46eb98b23a12\n",
      "❌ Failed to create Record 15277255-b43f-4ee8-826c-f4fa7e868195 under Project ID: 0092aa7f-a2e8-4972-8f26-46eb98b23a12\n",
      "❌ Failed to create Record 4eaf3638-534e-4746-8261-80c64f460906 under Project ID: 0092aa7f-a2e8-4972-8f26-46eb98b23a12\n",
      "❌ Failed to create Record df4aa85c-58ab-4cb2-8fbd-a54ba223e5a0 under Project ID: 0092aa7f-a2e8-4972-8f26-46eb98b23a12\n",
      "❌ Failed to create Record 3e794351-9b2c-4ac4-9314-892507d9c157 under Project ID: 0092aa7f-a2e8-4972-8f26-46eb98b23a12\n",
      "❌ Failed to create Record ed963137-7b06-4584-ab1f-9e5315c9459e under Project ID: 0092aa7f-a2e8-4972-8f26-46eb98b23a12\n",
      "❌ Failed to create Record ef5ff67a-f932-4c5d-89b1-b047d83db2b0 under Project ID: 0092aa7f-a2e8-4972-8f26-46eb98b23a12\n",
      "❌ Failed to create Record cae9d331-0ea1-4d1b-942b-1551ad6d1317 under Project ID: 0092aa7f-a2e8-4972-8f26-46eb98b23a12\n",
      "❌ Failed to create Record d351c8ef-a70f-47ae-91a8-53d3790a5e65 under Project ID: 0092aa7f-a2e8-4972-8f26-46eb98b23a12\n",
      "❌ Failed to create Record c3425527-1429-4a8e-ac71-c8d6c4e6a924 under Project ID: 0092aa7f-a2e8-4972-8f26-46eb98b23a12\n",
      "❌ Failed to create Record eff22e2a-f14b-4608-8d62-c35d1b39032e under Project ID: 0092aa7f-a2e8-4972-8f26-46eb98b23a12\n",
      "❌ Failed to create Record 35f65a02-5031-4389-9f36-f1504895ea64 under Project ID: 0092aa7f-a2e8-4972-8f26-46eb98b23a12\n",
      "❌ Failed to create Record 79be4a71-d707-4213-88f9-2e0d5cfe60a4 under Project ID: 0092aa7f-a2e8-4972-8f26-46eb98b23a12\n",
      "❌ Failed to create Record c629c4c0-a6e1-4f48-a86c-9ba78fae165d under Project ID: 0092aa7f-a2e8-4972-8f26-46eb98b23a12\n",
      "❌ Failed to create Record 85ec6761-510e-49d8-be1f-9167e5c0ae4e under Project ID: 0092aa7f-a2e8-4972-8f26-46eb98b23a12\n",
      "❌ Failed to create Record 5dfb424b-f2da-40f7-a793-e62b0af051e5 under Project ID: 0092aa7f-a2e8-4972-8f26-46eb98b23a12\n",
      "❌ Failed to create Record d31006a8-e3f2-48d2-98aa-a6ecab621a2a under Project ID: 0092aa7f-a2e8-4972-8f26-46eb98b23a12\n",
      "❌ Failed to create Record 5d512c94-baac-4c16-850c-18f88a3b9dd1 under Project ID: 0092aa7f-a2e8-4972-8f26-46eb98b23a12\n",
      "❌ Failed to create Record b57044c9-2591-4068-b936-1febfcc592f4 under Project ID: 0092aa7f-a2e8-4972-8f26-46eb98b23a12\n",
      "❌ Failed to create Record 3aa3f202-cdfe-4cb9-acd9-09d2204b57ce under Project ID: 0092aa7f-a2e8-4972-8f26-46eb98b23a12\n",
      "❌ Failed to create Record 96c41a22-07c4-4f60-ab50-cb736c069926 under Project ID: 0092aa7f-a2e8-4972-8f26-46eb98b23a12\n",
      "❌ Failed to create Record 2e9dcda3-500c-4c17-9184-89d8540be23c under Project ID: 0092aa7f-a2e8-4972-8f26-46eb98b23a12\n",
      "❌ Failed to create Record e1dbcabb-4f79-49db-8662-569d8f865ba7 under Project ID: 0092aa7f-a2e8-4972-8f26-46eb98b23a12\n",
      "❌ Failed to create Record 8ff6f3ab-d203-4f20-bdf6-61f22a2faf2b under Project ID: 0092aa7f-a2e8-4972-8f26-46eb98b23a12\n",
      "❌ Failed to create Record 19b2043c-d854-462c-aa30-e19c4a448c77 under Project ID: 0092aa7f-a2e8-4972-8f26-46eb98b23a12\n",
      "❌ Failed to create Record 5f606473-9b85-4081-a37f-f22df5635441 under Project ID: 0092aa7f-a2e8-4972-8f26-46eb98b23a12\n",
      "❌ Failed to create Record f5b9da9d-70ad-45f7-b1b8-7b7e59b2e9e3 under Project ID: 0092aa7f-a2e8-4972-8f26-46eb98b23a12\n",
      "❌ Failed to create Record f1a13b14-04a3-4103-82de-deb6caa8c555 under Project ID: 0092aa7f-a2e8-4972-8f26-46eb98b23a12\n",
      "❌ Failed to create Record ab499af8-d796-416e-bbee-0b2737acc5d9 under Project ID: 0092aa7f-a2e8-4972-8f26-46eb98b23a12\n",
      "❌ Failed to create Record 8a8abd16-c5e5-49d1-a749-9fdbd9334c75 under Project ID: 0092aa7f-a2e8-4972-8f26-46eb98b23a12\n",
      "❌ Failed to create Record 4fd1dd9b-c468-40fd-a82b-fee77e83a3f8 under Project ID: 0092aa7f-a2e8-4972-8f26-46eb98b23a12\n",
      "❌ Failed to create Record f6156058-f1c4-4869-b151-70fc349eb60d under Project ID: 0092aa7f-a2e8-4972-8f26-46eb98b23a12\n",
      "❌ Failed to create Record ec0abdd7-dc87-48fc-b67e-727da50aa3b9 under Project ID: 0092aa7f-a2e8-4972-8f26-46eb98b23a12\n",
      "❌ Failed to create Record 651b2a87-d89e-4b99-8e8f-3572a13f0edf under Project ID: 0092aa7f-a2e8-4972-8f26-46eb98b23a12\n",
      "❌ Failed to create Record 9fce4ac0-24b4-4ab5-8f26-229089b8f17d under Project ID: 0092aa7f-a2e8-4972-8f26-46eb98b23a12\n",
      "❌ Failed to create Record fec98069-a783-4068-b815-cbd5f5bafcf2 under Project ID: 0092aa7f-a2e8-4972-8f26-46eb98b23a12\n",
      "❌ Failed to create Record ae1b562a-2bca-410b-81b5-8af79bc6b709 under Project ID: 0092aa7f-a2e8-4972-8f26-46eb98b23a12\n",
      "❌ Failed to create Record e107bf1b-9b97-42dc-b2d4-94f77e7c404a under Project ID: 0092aa7f-a2e8-4972-8f26-46eb98b23a12\n",
      "❌ Failed to create Record 4a629ce9-0697-474c-901e-523151cb4c64 under Project ID: 0092aa7f-a2e8-4972-8f26-46eb98b23a12\n",
      "❌ Failed to create Record 2077c448-a107-4eae-abbb-d09bc4938351 under Project ID: 0092aa7f-a2e8-4972-8f26-46eb98b23a12\n",
      "❌ Failed to create Record 53c3c0d9-bbe5-49a0-b985-53f8cba84a95 under Project ID: 0092aa7f-a2e8-4972-8f26-46eb98b23a12\n",
      "❌ Failed to create Record e19326b5-5eb3-4cad-b4ef-e200f7927ebe under Project ID: 0092aa7f-a2e8-4972-8f26-46eb98b23a12\n",
      "❌ Failed to create Record e73ff41b-a6ea-4b39-8fec-de9021ea8c93 under Project ID: 0092aa7f-a2e8-4972-8f26-46eb98b23a12\n",
      "❌ Failed to create Record a7687a6d-3763-4f93-9885-d0f10a806b59 under Project ID: 0092aa7f-a2e8-4972-8f26-46eb98b23a12\n",
      "❌ Failed to create Record e4bc8dc7-0a31-46a2-ae58-b73a32c3cfd3 under Project ID: 0092aa7f-a2e8-4972-8f26-46eb98b23a12\n",
      "❌ Failed to create Record e5bef3d0-8b42-4171-ab0c-2d87ebbf6995 under Project ID: 0092aa7f-a2e8-4972-8f26-46eb98b23a12\n",
      "❌ Failed to create Record 8a33f0d8-2ae4-4bf1-a1a0-9a145bdb3d0b under Project ID: 0092aa7f-a2e8-4972-8f26-46eb98b23a12\n",
      "❌ Failed to create Record 11294148-74e7-4f07-83ff-f20feb2b4c34 under Project ID: 0092aa7f-a2e8-4972-8f26-46eb98b23a12\n",
      "❌ Failed to create Record b61c01dc-bffd-4833-8392-6a34350507a8 under Project ID: 0092aa7f-a2e8-4972-8f26-46eb98b23a12\n",
      "❌ Failed to create Record 918b572c-4f55-4ca2-ae1b-c3dd70ef5c1d under Project ID: 0092aa7f-a2e8-4972-8f26-46eb98b23a12\n",
      "❌ Failed to create Record 21db9ebb-fce4-47bc-9ec2-22ab9d413e9c under Project ID: 0092aa7f-a2e8-4972-8f26-46eb98b23a12\n",
      "❌ Failed to create Record 71716725-8dbb-4d14-a3d7-74170117bbe0 under Project ID: 0092aa7f-a2e8-4972-8f26-46eb98b23a12\n",
      "❌ Failed to create Record 2d5c1579-da23-4fca-a11a-f1fb2e5fe0b0 under Project ID: 0092aa7f-a2e8-4972-8f26-46eb98b23a12\n",
      "❌ Failed to create Record 11cdb8e4-8e62-4cb6-bf36-3062deddc4ac under Project ID: 0092aa7f-a2e8-4972-8f26-46eb98b23a12\n",
      "❌ Failed to create Record 9b037f03-20f5-4254-b957-86374eae908f under Project ID: 0092aa7f-a2e8-4972-8f26-46eb98b23a12\n",
      "❌ Failed to create Record 2fb218b3-6545-4733-8c76-389b79007266 under Project ID: 0092aa7f-a2e8-4972-8f26-46eb98b23a12\n",
      "❌ Failed to create Record e6de2283-7703-4a20-8a07-9a8dd790fe79 under Project ID: 0092aa7f-a2e8-4972-8f26-46eb98b23a12\n",
      "❌ Failed to create Record 58bad50f-223f-475d-b9e3-23b7263aa4a4 under Project ID: 0092aa7f-a2e8-4972-8f26-46eb98b23a12\n",
      "❌ Failed to create Record 95753afe-1c7a-48cf-8bf3-e52cec14abca under Project ID: 0092aa7f-a2e8-4972-8f26-46eb98b23a12\n",
      "❌ Failed to create Record 8d683ef3-1789-4e4c-9574-ed999c6bfbe8 under Project ID: 0092aa7f-a2e8-4972-8f26-46eb98b23a12\n",
      "❌ Failed to create Record 26bd825e-59c5-4992-a8a7-93ae48dbd36b under Project ID: 0092aa7f-a2e8-4972-8f26-46eb98b23a12\n",
      "❌ Failed to create Record c98973c5-7091-4015-ba23-701f09aaada4 under Project ID: 0092aa7f-a2e8-4972-8f26-46eb98b23a12\n",
      "❌ Failed to create Record e3d0cd1e-390d-4d65-8273-3d3d950d06b4 under Project ID: 0092aa7f-a2e8-4972-8f26-46eb98b23a12\n",
      "❌ Failed to create Record 719831a1-f70e-4953-b4a3-573b267d80f7 under Project ID: 0092aa7f-a2e8-4972-8f26-46eb98b23a12\n",
      "❌ Failed to create Record d7a3403c-85bd-4f82-addb-d103c3cbee60 under Project ID: 0092aa7f-a2e8-4972-8f26-46eb98b23a12\n",
      "❌ Failed to create Record 5e2c99fa-a848-4fad-b618-23bf4e74bcc6 under Project ID: 0092aa7f-a2e8-4972-8f26-46eb98b23a12\n",
      "❌ Failed to create Record 2fa1d4dc-8954-40da-8b73-47369742988e under Project ID: 0092aa7f-a2e8-4972-8f26-46eb98b23a12\n",
      "❌ Failed to create Record 40e23cad-ddcc-4587-9cca-8d25aa3b174a under Project ID: 0092aa7f-a2e8-4972-8f26-46eb98b23a12\n",
      "❌ Failed to create Record 335d716d-a1d6-4d2d-b4e8-71ecf86cc11a under Project ID: 0092aa7f-a2e8-4972-8f26-46eb98b23a12\n",
      "❌ Failed to create Record b7b37ae6-ad1b-4ef5-89c0-c11fe1edcc7b under Project ID: 0092aa7f-a2e8-4972-8f26-46eb98b23a12\n",
      "❌ Failed to create Record e1a9e5f7-b1d2-486e-9958-9cb4e931e05f under Project ID: 0092aa7f-a2e8-4972-8f26-46eb98b23a12\n",
      "❌ Failed to create Record a706687f-d715-4110-b01b-c77c2eedffd4 under Project ID: 0092aa7f-a2e8-4972-8f26-46eb98b23a12\n",
      "❌ Failed to create Record 5fac9a38-212c-49d6-ac2a-f1bb02cf5194 under Project ID: 0092aa7f-a2e8-4972-8f26-46eb98b23a12\n",
      "❌ Failed to create Record bfc5c6bb-3c74-4b83-a00d-d3764c4ab216 under Project ID: 0092aa7f-a2e8-4972-8f26-46eb98b23a12\n",
      "❌ Failed to create Record d0fc8a9a-c139-4fff-acbd-4fc7df856fbb under Project ID: 0092aa7f-a2e8-4972-8f26-46eb98b23a12\n",
      "❌ Failed to create Record 83e7f0a4-219a-422a-8f1b-f8b52027de8b under Project ID: 0092aa7f-a2e8-4972-8f26-46eb98b23a12\n",
      "❌ Failed to create Record d0ff0c74-a951-44f3-9096-e87adf8628a6 under Project ID: 0092aa7f-a2e8-4972-8f26-46eb98b23a12\n",
      "❌ Failed to create Record dad8d6e2-eac1-4252-97e3-f15616bea848 under Project ID: 0092aa7f-a2e8-4972-8f26-46eb98b23a12\n",
      "❌ Failed to create Record 3d5b4729-9504-4e1f-a55d-51b5b0a9c9a2 under Project ID: 0092aa7f-a2e8-4972-8f26-46eb98b23a12\n",
      "❌ Failed to create Record 7ad1d5c2-bd88-46bb-87b0-4342c06bda01 under Project ID: 0092aa7f-a2e8-4972-8f26-46eb98b23a12\n",
      "❌ Failed to create Record e39faca5-d687-4882-a316-4d7ea5195257 under Project ID: 0092aa7f-a2e8-4972-8f26-46eb98b23a12\n",
      "❌ Failed to create Record d54ff0dd-3751-42d8-b341-97da708a1d60 under Project ID: 0092aa7f-a2e8-4972-8f26-46eb98b23a12\n",
      "❌ Failed to create Record 413a22df-44d6-43e3-8177-274b4269eb5d under Project ID: 0092aa7f-a2e8-4972-8f26-46eb98b23a12\n",
      "❌ Failed to create Record f1d2a131-bf28-41f6-90d6-bac0262d7560 under Project ID: 0092aa7f-a2e8-4972-8f26-46eb98b23a12\n",
      "❌ Failed to create Record e0c45ef8-bdee-411e-b077-e891c26322bb under Project ID: 0092aa7f-a2e8-4972-8f26-46eb98b23a12\n",
      "❌ Failed to create Record 4d2d6164-b0ce-4733-81c8-53afa64afec4 under Project ID: 0092aa7f-a2e8-4972-8f26-46eb98b23a12\n",
      "❌ Failed to create Record a8142a26-a51d-41fc-afc2-a0e290ea7a77 under Project ID: 0092aa7f-a2e8-4972-8f26-46eb98b23a12\n",
      "❌ Failed to create Record b1b705ca-049e-4acf-944e-9e630768e9f0 under Project ID: 0092aa7f-a2e8-4972-8f26-46eb98b23a12\n",
      "❌ Failed to create Record ce3dae49-750c-4bcd-9f85-c3f2420578e7 under Project ID: 0092aa7f-a2e8-4972-8f26-46eb98b23a12\n",
      "❌ Failed to create Record 8c92142a-6ee7-47e1-b1c5-6356ac7bf126 under Project ID: 0092aa7f-a2e8-4972-8f26-46eb98b23a12\n",
      "❌ Failed to create Record d1f27ac9-2033-4917-a862-fd94910e53fe under Project ID: 0092aa7f-a2e8-4972-8f26-46eb98b23a12\n",
      "❌ Failed to create Record dc445bf9-6222-4e32-a453-cea8844ce3f1 under Project ID: 0092aa7f-a2e8-4972-8f26-46eb98b23a12\n",
      "❌ Failed to create Record 09fa1ad7-cf8e-4c0a-b719-cc9731ae7041 under Project ID: 0092aa7f-a2e8-4972-8f26-46eb98b23a12\n",
      "❌ Failed to create Record c0d7f027-bf02-4fcb-a8d9-d69990441b44 under Project ID: 0092aa7f-a2e8-4972-8f26-46eb98b23a12\n",
      "❌ Failed to create Record 1593739a-5181-412f-9af1-219de2bdc898 under Project ID: 0092aa7f-a2e8-4972-8f26-46eb98b23a12\n",
      "❌ Failed to create Record 04877c53-6dd0-497a-9d64-b517e4e500bc under Project ID: 0092aa7f-a2e8-4972-8f26-46eb98b23a12\n",
      "❌ Failed to create Record a2abc363-c88c-476d-941d-1da217d21e07 under Project ID: 0092aa7f-a2e8-4972-8f26-46eb98b23a12\n",
      "❌ Failed to create Record 2972c292-52df-424f-a58c-6bdcc84309fd under Project ID: 0092aa7f-a2e8-4972-8f26-46eb98b23a12\n",
      "❌ Failed to create Record c0ab4bd3-afea-424f-ac54-e3e1e6862222 under Project ID: 0092aa7f-a2e8-4972-8f26-46eb98b23a12\n",
      "❌ Failed to create Record e7ae1336-581b-4beb-85ee-26268c824c40 under Project ID: 0092aa7f-a2e8-4972-8f26-46eb98b23a12\n",
      "❌ Failed to create Record a17029bd-cd53-4bd6-994a-e8bbb62952b9 under Project ID: 0092aa7f-a2e8-4972-8f26-46eb98b23a12\n",
      "❌ Failed to create Record 57fbf6f7-f1b2-424f-9329-2435cb4ea92e under Project ID: 0092aa7f-a2e8-4972-8f26-46eb98b23a12\n",
      "❌ Failed to create Record 7148e7a9-db1d-4ced-a7d6-0f7b3d7eb348 under Project ID: 0092aa7f-a2e8-4972-8f26-46eb98b23a12\n",
      "❌ Failed to create Record ea4e78d9-8ce7-4564-bc7c-4deac40ff53c under Project ID: 0092aa7f-a2e8-4972-8f26-46eb98b23a12\n",
      "❌ Failed to create Record c77bbcba-c85f-47a9-8688-61d660ba521d under Project ID: 0092aa7f-a2e8-4972-8f26-46eb98b23a12\n",
      "❌ Failed to create Record a5b90911-55fb-4a7f-8117-79565f72d715 under Project ID: 0092aa7f-a2e8-4972-8f26-46eb98b23a12\n",
      "❌ Failed to create Record f251d247-6952-48f4-bce5-b74743145bd5 under Project ID: 0092aa7f-a2e8-4972-8f26-46eb98b23a12\n",
      "❌ Failed to create Record a1ffdf97-b528-4bd9-935f-fe3672156c4c under Project ID: 0092aa7f-a2e8-4972-8f26-46eb98b23a12\n",
      "❌ Failed to create Record b688c378-4e45-43a8-8545-928d3b087248 under Project ID: 0092aa7f-a2e8-4972-8f26-46eb98b23a12\n",
      "❌ Failed to create Record ab1d5b51-2701-4aff-b39f-451de1511b2b under Project ID: 0092aa7f-a2e8-4972-8f26-46eb98b23a12\n",
      "❌ Failed to create Record 7be19bf8-7aa0-4bfc-aebe-21422c3c9c8a under Project ID: 0092aa7f-a2e8-4972-8f26-46eb98b23a12\n",
      "❌ Failed to create Record 06f0b31a-b251-42d3-84c9-fd4cafa33c6f under Project ID: 0092aa7f-a2e8-4972-8f26-46eb98b23a12\n",
      "❌ Failed to create Record c76e9e29-7e31-4597-beb4-f664a2835f79 under Project ID: 0092aa7f-a2e8-4972-8f26-46eb98b23a12\n",
      "❌ Failed to create Record 1c029bb8-898e-4d74-8e04-828ef947a85a under Project ID: 0092aa7f-a2e8-4972-8f26-46eb98b23a12\n",
      "❌ Failed to create Record bf1d9fa7-dbe8-47c1-8533-18bdfeec1357 under Project ID: 0092aa7f-a2e8-4972-8f26-46eb98b23a12\n",
      "❌ Failed to create Record 772a0825-408a-407e-9092-14b96a1905c1 under Project ID: 0092aa7f-a2e8-4972-8f26-46eb98b23a12\n",
      "❌ Failed to create Record 116c0185-fbb0-49be-a263-e4e4b011fcb4 under Project ID: 0092aa7f-a2e8-4972-8f26-46eb98b23a12\n",
      "❌ Failed to create Record c611223e-a3c3-4215-87a6-22ac6aa9ee42 under Project ID: 0092aa7f-a2e8-4972-8f26-46eb98b23a12\n",
      "❌ Failed to create Record 4315f282-3ef4-4627-b2d7-916449b68527 under Project ID: 0092aa7f-a2e8-4972-8f26-46eb98b23a12\n",
      "❌ Failed to create Record ebed0b75-54c3-426d-a905-8283a2b09197 under Project ID: 0092aa7f-a2e8-4972-8f26-46eb98b23a12\n",
      "❌ Failed to create Record 05eab0a4-221f-497b-9df6-d73b0416ba44 under Project ID: 0092aa7f-a2e8-4972-8f26-46eb98b23a12\n",
      "❌ Failed to create Record 917c93f9-eab7-4b98-9d2a-7f164d87296a under Project ID: 0092aa7f-a2e8-4972-8f26-46eb98b23a12\n",
      "❌ Failed to create Record cab6811e-5864-4047-a25e-709eaf711228 under Project ID: 0092aa7f-a2e8-4972-8f26-46eb98b23a12\n",
      "❌ Failed to create Record dbe4b03f-78a6-4204-bfd5-313e71de03ae under Project ID: 0092aa7f-a2e8-4972-8f26-46eb98b23a12\n",
      "❌ Failed to create Record a72e5e13-7d17-4e35-858f-e912faabe614 under Project ID: 0092aa7f-a2e8-4972-8f26-46eb98b23a12\n",
      "❌ Failed to create Record 9ebbf531-1ac8-422b-8699-43431aa2ab43 under Project ID: 0092aa7f-a2e8-4972-8f26-46eb98b23a12\n",
      "❌ Failed to create Record 2e8de660-8417-4dc2-8df4-01cc14774a63 under Project ID: 0092aa7f-a2e8-4972-8f26-46eb98b23a12\n",
      "❌ Failed to create Record db187ec3-5bfd-4165-99f7-66669f75ab93 under Project ID: 0092aa7f-a2e8-4972-8f26-46eb98b23a12\n",
      "❌ Failed to create Record c44fbadc-d960-4986-93f2-897b3130d101 under Project ID: 0092aa7f-a2e8-4972-8f26-46eb98b23a12\n",
      "❌ Failed to create Record 3d08dce5-a5e4-49d8-bbc6-88fedb6d7628 under Project ID: 0092aa7f-a2e8-4972-8f26-46eb98b23a12\n",
      "❌ Failed to create Record a691f1b2-57a3-4c33-9ca2-0b5b5c27aabe under Project ID: 0092aa7f-a2e8-4972-8f26-46eb98b23a12\n",
      "❌ Failed to create Record fced9f58-f0a7-4633-a41b-fba92b92aa0a under Project ID: 0092aa7f-a2e8-4972-8f26-46eb98b23a12\n",
      "❌ Failed to create Record 13a1acd1-199a-40bf-b99b-d38c626c7fad under Project ID: 0092aa7f-a2e8-4972-8f26-46eb98b23a12\n",
      "❌ Failed to create Record ab90cef1-c6c8-47dd-ab36-626da6684cb0 under Project ID: 0092aa7f-a2e8-4972-8f26-46eb98b23a12\n",
      "❌ Failed to create Record 514181d7-a3dc-4729-aeaf-5c6c47ebd0c2 under Project ID: 0092aa7f-a2e8-4972-8f26-46eb98b23a12\n",
      "❌ Failed to create Record 2355d7d2-ba86-4262-aa55-1e3d6bf5c043 under Project ID: 0092aa7f-a2e8-4972-8f26-46eb98b23a12\n",
      "❌ Failed to create Record 0f5bebf9-662d-4d2b-96bf-274981afb70d under Project ID: 0092aa7f-a2e8-4972-8f26-46eb98b23a12\n",
      "❌ Failed to create Record 65d88454-25c6-41b3-ab70-8e11ff1e94b3 under Project ID: 0092aa7f-a2e8-4972-8f26-46eb98b23a12\n",
      "❌ Failed to create Record 36a297b6-8a55-46f7-8a13-f812c58f3f2f under Project ID: 0092aa7f-a2e8-4972-8f26-46eb98b23a12\n",
      "❌ Failed to create Record bc1a5af5-4f2f-4389-9f1c-3331f5ec7168 under Project ID: 0092aa7f-a2e8-4972-8f26-46eb98b23a12\n",
      "❌ Failed to create Record a81244fb-9036-473b-8f93-32971365ed47 under Project ID: 0092aa7f-a2e8-4972-8f26-46eb98b23a12\n",
      "❌ Failed to create Record e9cbae8a-8d21-4528-a621-587d9804e92c under Project ID: 0092aa7f-a2e8-4972-8f26-46eb98b23a12\n",
      "❌ Failed to create Record 31d8cefc-43e9-43b4-8ed0-e1f72daaff2f under Project ID: 0092aa7f-a2e8-4972-8f26-46eb98b23a12\n",
      "❌ Failed to create Record ed3d07b0-1512-47c7-8b18-d047e02a1a02 under Project ID: 0092aa7f-a2e8-4972-8f26-46eb98b23a12\n",
      "❌ Failed to create Record 0b290626-4772-47b7-8714-6156a3871efa under Project ID: 0092aa7f-a2e8-4972-8f26-46eb98b23a12\n",
      "❌ Failed to create Record ddcf8c9d-ec3a-4923-b69b-aa3b54817dca under Project ID: 0092aa7f-a2e8-4972-8f26-46eb98b23a12\n",
      "❌ Failed to create Record 42d1b2cd-4c88-4a55-9f70-fe054826ebd5 under Project ID: 0092aa7f-a2e8-4972-8f26-46eb98b23a12\n",
      "❌ Failed to create Record 7a7e2a4e-89a3-4e05-b4fa-54d8b886263d under Project ID: 0092aa7f-a2e8-4972-8f26-46eb98b23a12\n",
      "❌ Failed to create Record ee97b577-5daf-4593-aea6-198f05d1cad4 under Project ID: 0092aa7f-a2e8-4972-8f26-46eb98b23a12\n",
      "❌ Failed to create Record 403e41f9-bc5e-4250-97f6-09a5a570d4d2 under Project ID: 0092aa7f-a2e8-4972-8f26-46eb98b23a12\n",
      "❌ Failed to create Record 7e669fe6-7497-4c57-a632-f66283622d4e under Project ID: 0092aa7f-a2e8-4972-8f26-46eb98b23a12\n",
      "❌ Failed to create Record 0f4e2f90-1d2f-4042-ab78-05c386991161 under Project ID: 0092aa7f-a2e8-4972-8f26-46eb98b23a12\n",
      "❌ Failed to create Record 3b83672e-b77d-4ae5-8110-03ce8f8d9efe under Project ID: 0092aa7f-a2e8-4972-8f26-46eb98b23a12\n",
      "❌ Failed to create Record a547a263-e6f4-46f5-ad9c-d2331c4613eb under Project ID: 0092aa7f-a2e8-4972-8f26-46eb98b23a12\n",
      "❌ Failed to create Record 8f23b365-a7ba-427c-8157-45f7f3836ef2 under Project ID: 0092aa7f-a2e8-4972-8f26-46eb98b23a12\n",
      "❌ Failed to create Record 000e8622-3a4b-4a83-af84-3db486d1a86b under Project ID: 0092aa7f-a2e8-4972-8f26-46eb98b23a12\n",
      "❌ Failed to create Record 01b47a73-fe69-41cb-bcb8-77d31cc7a406 under Project ID: 0092aa7f-a2e8-4972-8f26-46eb98b23a12\n",
      "❌ Failed to create Record a206b1d8-fcab-4e50-bfff-6ae29b6e49c1 under Project ID: 0092aa7f-a2e8-4972-8f26-46eb98b23a12\n",
      "❌ Failed to create Record cde58fd4-f59a-4109-9166-ea00eca515b8 under Project ID: 0092aa7f-a2e8-4972-8f26-46eb98b23a12\n",
      "❌ Failed to create Record 0ed7dd86-f273-4091-940e-d676b20946b1 under Project ID: 0092aa7f-a2e8-4972-8f26-46eb98b23a12\n",
      "❌ Failed to create Record 6eda27c2-9244-4e37-86d7-9f07f5fdb7e5 under Project ID: 0092aa7f-a2e8-4972-8f26-46eb98b23a12\n",
      "❌ Failed to create Record 3976e286-dc45-48da-a781-cb0db9e8d3ec under Project ID: 0092aa7f-a2e8-4972-8f26-46eb98b23a12\n",
      "❌ Failed to create Record 13f261bc-1b77-46d6-a38c-b91ef7ca7ea6 under Project ID: 0092aa7f-a2e8-4972-8f26-46eb98b23a12\n",
      "❌ Failed to create Record fdec74ad-f110-40f1-a08c-213ed31faa19 under Project ID: 0092aa7f-a2e8-4972-8f26-46eb98b23a12\n",
      "❌ Failed to create Record 96f09922-2660-40ac-81f9-93b59578921e under Project ID: 0092aa7f-a2e8-4972-8f26-46eb98b23a12\n",
      "❌ Failed to create Record 25199f59-9712-479f-b488-0209c17bf234 under Project ID: 0092aa7f-a2e8-4972-8f26-46eb98b23a12\n",
      "❌ Failed to create Record ab00ae39-1302-4687-accc-3193b9521980 under Project ID: 0092aa7f-a2e8-4972-8f26-46eb98b23a12\n",
      "❌ Failed to create Record ea7c140c-934a-4d23-8959-dca06e037804 under Project ID: 0092aa7f-a2e8-4972-8f26-46eb98b23a12\n",
      "❌ Failed to create Record 76f7c74b-2020-45b9-87eb-b0d8ec3571d6 under Project ID: 0092aa7f-a2e8-4972-8f26-46eb98b23a12\n",
      "❌ Failed to create Record 2d804ff1-5835-4d1c-9717-9b5b9840760f under Project ID: 0092aa7f-a2e8-4972-8f26-46eb98b23a12\n",
      "❌ Failed to create Record 5cb94f2a-9b17-43e0-8e88-6a58a78873d7 under Project ID: 0092aa7f-a2e8-4972-8f26-46eb98b23a12\n",
      "❌ Failed to create Record 6abe64f1-a250-462a-b353-9d063b89cd60 under Project ID: 0092aa7f-a2e8-4972-8f26-46eb98b23a12\n",
      "❌ Failed to create Record a68b31af-a62f-4521-88df-c4a844b8b7a7 under Project ID: 0092aa7f-a2e8-4972-8f26-46eb98b23a12\n",
      "❌ Failed to create Record c7c822eb-b72d-42d5-93a7-e4b1552307fa under Project ID: 0092aa7f-a2e8-4972-8f26-46eb98b23a12\n",
      "❌ Failed to create Record 57364c0b-eddf-4965-8732-11aaca6df46d under Project ID: 0092aa7f-a2e8-4972-8f26-46eb98b23a12\n",
      "❌ Failed to create Record a449a115-3d89-41dc-b93c-af2f3e569865 under Project ID: 0092aa7f-a2e8-4972-8f26-46eb98b23a12\n",
      "❌ Failed to create Record d885d662-e578-4bae-ace8-b262e637ee73 under Project ID: 0092aa7f-a2e8-4972-8f26-46eb98b23a12\n",
      "❌ Failed to create Record dcf8d84f-bf91-422d-83ee-596a21d7eb2d under Project ID: 0092aa7f-a2e8-4972-8f26-46eb98b23a12\n",
      "❌ Failed to create Record 5844c2fd-9b06-4063-88bd-4293f246d53b under Project ID: 0092aa7f-a2e8-4972-8f26-46eb98b23a12\n",
      "❌ Failed to create Record f61a2fed-ff49-4428-8941-933aa3296ae4 under Project ID: 0092aa7f-a2e8-4972-8f26-46eb98b23a12\n",
      "❌ Failed to create Record 6438ff35-9107-4a44-947a-d2b7e72ceab6 under Project ID: 0092aa7f-a2e8-4972-8f26-46eb98b23a12\n",
      "❌ Failed to create Record 4e760995-35cb-4b6e-8f78-2494e1700fd0 under Project ID: 0092aa7f-a2e8-4972-8f26-46eb98b23a12\n",
      "❌ Failed to create Record ac0d998f-5cd6-4853-9383-b75b0baafbdb under Project ID: 0092aa7f-a2e8-4972-8f26-46eb98b23a12\n",
      "❌ Failed to create Record f0488fa9-b174-4f2e-b107-a7821c19a994 under Project ID: 0092aa7f-a2e8-4972-8f26-46eb98b23a12\n",
      "❌ Failed to create Record b945728e-6590-4a38-a9c1-96c38168c16c under Project ID: 0092aa7f-a2e8-4972-8f26-46eb98b23a12\n",
      "❌ Failed to create Record 867bf423-74e6-4605-9014-540154b59361 under Project ID: 0092aa7f-a2e8-4972-8f26-46eb98b23a12\n",
      "❌ Failed to create Record fcce26f4-b514-4bd0-bfad-9dd8639ffeb0 under Project ID: 0092aa7f-a2e8-4972-8f26-46eb98b23a12\n",
      "❌ Failed to create Record e658f59e-33d2-445e-b723-1cfe553a1952 under Project ID: 0092aa7f-a2e8-4972-8f26-46eb98b23a12\n",
      "❌ Failed to create Record 09c6b7c7-09ee-4282-b179-a68e43bb7142 under Project ID: 0092aa7f-a2e8-4972-8f26-46eb98b23a12\n",
      "❌ Failed to create Record c26e94e5-859f-4f45-87b3-bb7258ffe77c under Project ID: 0092aa7f-a2e8-4972-8f26-46eb98b23a12\n",
      "❌ Failed to create Record f452729d-e880-4e16-a922-687989eddf09 under Project ID: 0092aa7f-a2e8-4972-8f26-46eb98b23a12\n",
      "❌ Failed to create Record 076403be-f3ee-431d-86e1-6cb6631d7517 under Project ID: 0092aa7f-a2e8-4972-8f26-46eb98b23a12\n",
      "❌ Failed to create Record 51661315-8fd2-46fd-a01a-52fba4d7322c under Project ID: 0092aa7f-a2e8-4972-8f26-46eb98b23a12\n",
      "❌ Failed to create Record 0bd63aba-e6c6-4af2-9b60-7c68aa5dea19 under Project ID: 0092aa7f-a2e8-4972-8f26-46eb98b23a12\n",
      "❌ Failed to create Record a623d5ac-69ae-4494-9c85-5b4fb327ad13 under Project ID: 0092aa7f-a2e8-4972-8f26-46eb98b23a12\n",
      "❌ Failed to create Record e135878c-7aa2-4e7b-9d46-ab0d4ebba1a2 under Project ID: 0092aa7f-a2e8-4972-8f26-46eb98b23a12\n",
      "❌ Failed to create Record ca4eec86-903a-4ea9-9f08-2488a8c0d379 under Project ID: 0092aa7f-a2e8-4972-8f26-46eb98b23a12\n",
      "❌ Failed to create Record 7f887678-cef2-4020-9703-fe5bf39537ef under Project ID: 0092aa7f-a2e8-4972-8f26-46eb98b23a12\n",
      "❌ Failed to create Record 1901377f-aca6-48b9-b62d-d34979dd2d7b under Project ID: 0092aa7f-a2e8-4972-8f26-46eb98b23a12\n"
     ]
    },
    {
     "ename": "KeyboardInterrupt",
     "evalue": "",
     "output_type": "error",
     "traceback": [
      "\u001b[1;31m---------------------------------------------------------------------------\u001b[0m",
      "\u001b[1;31mKeyboardInterrupt\u001b[0m                         Traceback (most recent call last)",
      "Cell \u001b[1;32mIn[29], line 15\u001b[0m\n\u001b[0;32m     12\u001b[0m record[\u001b[38;5;124m\"\u001b[39m\u001b[38;5;124mform_id\u001b[39m\u001b[38;5;124m\"\u001b[39m] \u001b[38;5;241m=\u001b[39m PROJECT_ID  \n\u001b[0;32m     14\u001b[0m \u001b[38;5;66;03m# Upload record to Fulcrum\u001b[39;00m\n\u001b[1;32m---> 15\u001b[0m CREATED \u001b[38;5;241m=\u001b[39m \u001b[43mfulcrum\u001b[49m\u001b[38;5;241;43m.\u001b[39;49m\u001b[43mrecords\u001b[49m\u001b[38;5;241;43m.\u001b[39;49m\u001b[43mcreate\u001b[49m\u001b[43m(\u001b[49m\u001b[43mrecord\u001b[49m\u001b[43m)\u001b[49m\n\u001b[0;32m     16\u001b[0m \u001b[38;5;66;03m# Check CREATED\u001b[39;00m\n\u001b[0;32m     17\u001b[0m \u001b[38;5;28;01mif\u001b[39;00m CREATED \u001b[38;5;129;01mand\u001b[39;00m \u001b[38;5;124m\"\u001b[39m\u001b[38;5;124mform_id\u001b[39m\u001b[38;5;124m\"\u001b[39m \u001b[38;5;129;01min\u001b[39;00m CREATED:\n",
      "File \u001b[1;32m~\\miniconda3\\lib\\site-packages\\fulcrum\\mixins.py:16\u001b[0m, in \u001b[0;36mCreateable.create\u001b[1;34m(self, obj)\u001b[0m\n\u001b[0;32m     15\u001b[0m \u001b[38;5;28;01mdef\u001b[39;00m\u001b[38;5;250m \u001b[39m\u001b[38;5;21mcreate\u001b[39m(\u001b[38;5;28mself\u001b[39m, obj):\n\u001b[1;32m---> 16\u001b[0m     api_resp \u001b[38;5;241m=\u001b[39m \u001b[38;5;28;43mself\u001b[39;49m\u001b[38;5;241;43m.\u001b[39;49m\u001b[43mclient\u001b[49m\u001b[38;5;241;43m.\u001b[39;49m\u001b[43mcall\u001b[49m\u001b[43m(\u001b[49m\u001b[38;5;124;43m'\u001b[39;49m\u001b[38;5;124;43mpost\u001b[39;49m\u001b[38;5;124;43m'\u001b[39;49m\u001b[43m,\u001b[49m\u001b[43m \u001b[49m\u001b[38;5;28;43mself\u001b[39;49m\u001b[38;5;241;43m.\u001b[39;49m\u001b[43mpath\u001b[49m\u001b[43m,\u001b[49m\u001b[43m \u001b[49m\u001b[43mdata\u001b[49m\u001b[38;5;241;43m=\u001b[39;49m\u001b[43mobj\u001b[49m\u001b[43m,\u001b[49m\u001b[43m \u001b[49m\u001b[43mextra_headers\u001b[49m\u001b[38;5;241;43m=\u001b[39;49m\u001b[43m{\u001b[49m\u001b[38;5;124;43m'\u001b[39;49m\u001b[38;5;124;43mContent-Type\u001b[39;49m\u001b[38;5;124;43m'\u001b[39;49m\u001b[43m:\u001b[49m\u001b[43m \u001b[49m\u001b[38;5;124;43m'\u001b[39;49m\u001b[38;5;124;43mapplication/json\u001b[39;49m\u001b[38;5;124;43m'\u001b[39;49m\u001b[43m}\u001b[49m\u001b[43m)\u001b[49m\n\u001b[0;32m     17\u001b[0m     \u001b[38;5;28;01mreturn\u001b[39;00m api_resp\n",
      "File \u001b[1;32m~\\miniconda3\\lib\\site-packages\\fulcrum\\api\\__init__.py:57\u001b[0m, in \u001b[0;36mClient.call\u001b[1;34m(self, method, path, data, extra_headers, url_params, json_content, files, auth)\u001b[0m\n\u001b[0;32m     54\u001b[0m \u001b[38;5;28;01mif\u001b[39;00m auth \u001b[38;5;129;01mis\u001b[39;00m \u001b[38;5;129;01mnot\u001b[39;00m \u001b[38;5;28;01mNone\u001b[39;00m:\n\u001b[0;32m     55\u001b[0m     kwargs[\u001b[38;5;124m'\u001b[39m\u001b[38;5;124mauth\u001b[39m\u001b[38;5;124m'\u001b[39m] \u001b[38;5;241m=\u001b[39m auth\n\u001b[1;32m---> 57\u001b[0m resp \u001b[38;5;241m=\u001b[39m \u001b[38;5;28mgetattr\u001b[39m(requests, method)(full_path, \u001b[38;5;241m*\u001b[39m\u001b[38;5;241m*\u001b[39mkwargs)\n\u001b[0;32m     59\u001b[0m \u001b[38;5;28;01mif\u001b[39;00m resp\u001b[38;5;241m.\u001b[39mstatus_code \u001b[38;5;129;01min\u001b[39;00m \u001b[38;5;28mself\u001b[39m\u001b[38;5;241m.\u001b[39mhttp_exception_map:\n\u001b[0;32m     60\u001b[0m     \u001b[38;5;28;01mraise\u001b[39;00m \u001b[38;5;28mself\u001b[39m\u001b[38;5;241m.\u001b[39mhttp_exception_map[resp\u001b[38;5;241m.\u001b[39mstatus_code]\n",
      "File \u001b[1;32m~\\miniconda3\\lib\\site-packages\\requests\\api.py:115\u001b[0m, in \u001b[0;36mpost\u001b[1;34m(url, data, json, **kwargs)\u001b[0m\n\u001b[0;32m    103\u001b[0m \u001b[38;5;28;01mdef\u001b[39;00m\u001b[38;5;250m \u001b[39m\u001b[38;5;21mpost\u001b[39m(url, data\u001b[38;5;241m=\u001b[39m\u001b[38;5;28;01mNone\u001b[39;00m, json\u001b[38;5;241m=\u001b[39m\u001b[38;5;28;01mNone\u001b[39;00m, \u001b[38;5;241m*\u001b[39m\u001b[38;5;241m*\u001b[39mkwargs):\n\u001b[0;32m    104\u001b[0m \u001b[38;5;250m    \u001b[39m\u001b[38;5;124mr\u001b[39m\u001b[38;5;124;03m\"\"\"Sends a POST request.\u001b[39;00m\n\u001b[0;32m    105\u001b[0m \n\u001b[0;32m    106\u001b[0m \u001b[38;5;124;03m    :param url: URL for the new :class:`Request` object.\u001b[39;00m\n\u001b[1;32m   (...)\u001b[0m\n\u001b[0;32m    112\u001b[0m \u001b[38;5;124;03m    :rtype: requests.Response\u001b[39;00m\n\u001b[0;32m    113\u001b[0m \u001b[38;5;124;03m    \"\"\"\u001b[39;00m\n\u001b[1;32m--> 115\u001b[0m     \u001b[38;5;28;01mreturn\u001b[39;00m request(\u001b[38;5;124m\"\u001b[39m\u001b[38;5;124mpost\u001b[39m\u001b[38;5;124m\"\u001b[39m, url, data\u001b[38;5;241m=\u001b[39mdata, json\u001b[38;5;241m=\u001b[39mjson, \u001b[38;5;241m*\u001b[39m\u001b[38;5;241m*\u001b[39mkwargs)\n",
      "File \u001b[1;32m~\\miniconda3\\lib\\site-packages\\requests\\api.py:59\u001b[0m, in \u001b[0;36mrequest\u001b[1;34m(method, url, **kwargs)\u001b[0m\n\u001b[0;32m     55\u001b[0m \u001b[38;5;66;03m# By using the 'with' statement we are sure the session is closed, thus we\u001b[39;00m\n\u001b[0;32m     56\u001b[0m \u001b[38;5;66;03m# avoid leaving sockets open which can trigger a ResourceWarning in some\u001b[39;00m\n\u001b[0;32m     57\u001b[0m \u001b[38;5;66;03m# cases, and look like a memory leak in others.\u001b[39;00m\n\u001b[0;32m     58\u001b[0m \u001b[38;5;28;01mwith\u001b[39;00m sessions\u001b[38;5;241m.\u001b[39mSession() \u001b[38;5;28;01mas\u001b[39;00m session:\n\u001b[1;32m---> 59\u001b[0m     \u001b[38;5;28;01mreturn\u001b[39;00m session\u001b[38;5;241m.\u001b[39mrequest(method\u001b[38;5;241m=\u001b[39mmethod, url\u001b[38;5;241m=\u001b[39murl, \u001b[38;5;241m*\u001b[39m\u001b[38;5;241m*\u001b[39mkwargs)\n",
      "File \u001b[1;32m~\\miniconda3\\lib\\site-packages\\requests\\sessions.py:589\u001b[0m, in \u001b[0;36mSession.request\u001b[1;34m(self, method, url, params, data, headers, cookies, files, auth, timeout, allow_redirects, proxies, hooks, stream, verify, cert, json)\u001b[0m\n\u001b[0;32m    584\u001b[0m send_kwargs \u001b[38;5;241m=\u001b[39m {\n\u001b[0;32m    585\u001b[0m     \u001b[38;5;124m\"\u001b[39m\u001b[38;5;124mtimeout\u001b[39m\u001b[38;5;124m\"\u001b[39m: timeout,\n\u001b[0;32m    586\u001b[0m     \u001b[38;5;124m\"\u001b[39m\u001b[38;5;124mallow_redirects\u001b[39m\u001b[38;5;124m\"\u001b[39m: allow_redirects,\n\u001b[0;32m    587\u001b[0m }\n\u001b[0;32m    588\u001b[0m send_kwargs\u001b[38;5;241m.\u001b[39mupdate(settings)\n\u001b[1;32m--> 589\u001b[0m resp \u001b[38;5;241m=\u001b[39m \u001b[38;5;28mself\u001b[39m\u001b[38;5;241m.\u001b[39msend(prep, \u001b[38;5;241m*\u001b[39m\u001b[38;5;241m*\u001b[39msend_kwargs)\n\u001b[0;32m    591\u001b[0m \u001b[38;5;28;01mreturn\u001b[39;00m resp\n",
      "File \u001b[1;32m~\\miniconda3\\lib\\site-packages\\requests\\sessions.py:703\u001b[0m, in \u001b[0;36mSession.send\u001b[1;34m(self, request, **kwargs)\u001b[0m\n\u001b[0;32m    700\u001b[0m start \u001b[38;5;241m=\u001b[39m preferred_clock()\n\u001b[0;32m    702\u001b[0m \u001b[38;5;66;03m# Send the request\u001b[39;00m\n\u001b[1;32m--> 703\u001b[0m r \u001b[38;5;241m=\u001b[39m adapter\u001b[38;5;241m.\u001b[39msend(request, \u001b[38;5;241m*\u001b[39m\u001b[38;5;241m*\u001b[39mkwargs)\n\u001b[0;32m    705\u001b[0m \u001b[38;5;66;03m# Total elapsed time of the request (approximately)\u001b[39;00m\n\u001b[0;32m    706\u001b[0m elapsed \u001b[38;5;241m=\u001b[39m preferred_clock() \u001b[38;5;241m-\u001b[39m start\n",
      "File \u001b[1;32m~\\miniconda3\\lib\\site-packages\\requests\\adapters.py:667\u001b[0m, in \u001b[0;36mHTTPAdapter.send\u001b[1;34m(self, request, stream, timeout, verify, cert, proxies)\u001b[0m\n\u001b[0;32m    664\u001b[0m     timeout \u001b[38;5;241m=\u001b[39m TimeoutSauce(connect\u001b[38;5;241m=\u001b[39mtimeout, read\u001b[38;5;241m=\u001b[39mtimeout)\n\u001b[0;32m    666\u001b[0m \u001b[38;5;28;01mtry\u001b[39;00m:\n\u001b[1;32m--> 667\u001b[0m     resp \u001b[38;5;241m=\u001b[39m \u001b[43mconn\u001b[49m\u001b[38;5;241;43m.\u001b[39;49m\u001b[43murlopen\u001b[49m\u001b[43m(\u001b[49m\n\u001b[0;32m    668\u001b[0m \u001b[43m        \u001b[49m\u001b[43mmethod\u001b[49m\u001b[38;5;241;43m=\u001b[39;49m\u001b[43mrequest\u001b[49m\u001b[38;5;241;43m.\u001b[39;49m\u001b[43mmethod\u001b[49m\u001b[43m,\u001b[49m\n\u001b[0;32m    669\u001b[0m \u001b[43m        \u001b[49m\u001b[43murl\u001b[49m\u001b[38;5;241;43m=\u001b[39;49m\u001b[43murl\u001b[49m\u001b[43m,\u001b[49m\n\u001b[0;32m    670\u001b[0m \u001b[43m        \u001b[49m\u001b[43mbody\u001b[49m\u001b[38;5;241;43m=\u001b[39;49m\u001b[43mrequest\u001b[49m\u001b[38;5;241;43m.\u001b[39;49m\u001b[43mbody\u001b[49m\u001b[43m,\u001b[49m\n\u001b[0;32m    671\u001b[0m \u001b[43m        \u001b[49m\u001b[43mheaders\u001b[49m\u001b[38;5;241;43m=\u001b[39;49m\u001b[43mrequest\u001b[49m\u001b[38;5;241;43m.\u001b[39;49m\u001b[43mheaders\u001b[49m\u001b[43m,\u001b[49m\n\u001b[0;32m    672\u001b[0m \u001b[43m        \u001b[49m\u001b[43mredirect\u001b[49m\u001b[38;5;241;43m=\u001b[39;49m\u001b[38;5;28;43;01mFalse\u001b[39;49;00m\u001b[43m,\u001b[49m\n\u001b[0;32m    673\u001b[0m \u001b[43m        \u001b[49m\u001b[43massert_same_host\u001b[49m\u001b[38;5;241;43m=\u001b[39;49m\u001b[38;5;28;43;01mFalse\u001b[39;49;00m\u001b[43m,\u001b[49m\n\u001b[0;32m    674\u001b[0m \u001b[43m        \u001b[49m\u001b[43mpreload_content\u001b[49m\u001b[38;5;241;43m=\u001b[39;49m\u001b[38;5;28;43;01mFalse\u001b[39;49;00m\u001b[43m,\u001b[49m\n\u001b[0;32m    675\u001b[0m \u001b[43m        \u001b[49m\u001b[43mdecode_content\u001b[49m\u001b[38;5;241;43m=\u001b[39;49m\u001b[38;5;28;43;01mFalse\u001b[39;49;00m\u001b[43m,\u001b[49m\n\u001b[0;32m    676\u001b[0m \u001b[43m        \u001b[49m\u001b[43mretries\u001b[49m\u001b[38;5;241;43m=\u001b[39;49m\u001b[38;5;28;43mself\u001b[39;49m\u001b[38;5;241;43m.\u001b[39;49m\u001b[43mmax_retries\u001b[49m\u001b[43m,\u001b[49m\n\u001b[0;32m    677\u001b[0m \u001b[43m        \u001b[49m\u001b[43mtimeout\u001b[49m\u001b[38;5;241;43m=\u001b[39;49m\u001b[43mtimeout\u001b[49m\u001b[43m,\u001b[49m\n\u001b[0;32m    678\u001b[0m \u001b[43m        \u001b[49m\u001b[43mchunked\u001b[49m\u001b[38;5;241;43m=\u001b[39;49m\u001b[43mchunked\u001b[49m\u001b[43m,\u001b[49m\n\u001b[0;32m    679\u001b[0m \u001b[43m    \u001b[49m\u001b[43m)\u001b[49m\n\u001b[0;32m    681\u001b[0m \u001b[38;5;28;01mexcept\u001b[39;00m (ProtocolError, \u001b[38;5;167;01mOSError\u001b[39;00m) \u001b[38;5;28;01mas\u001b[39;00m err:\n\u001b[0;32m    682\u001b[0m     \u001b[38;5;28;01mraise\u001b[39;00m \u001b[38;5;167;01mConnectionError\u001b[39;00m(err, request\u001b[38;5;241m=\u001b[39mrequest)\n",
      "File \u001b[1;32m~\\miniconda3\\lib\\site-packages\\urllib3\\connectionpool.py:703\u001b[0m, in \u001b[0;36mHTTPConnectionPool.urlopen\u001b[1;34m(self, method, url, body, headers, retries, redirect, assert_same_host, timeout, pool_timeout, release_conn, chunked, body_pos, **response_kw)\u001b[0m\n\u001b[0;32m    700\u001b[0m     \u001b[38;5;28mself\u001b[39m\u001b[38;5;241m.\u001b[39m_prepare_proxy(conn)\n\u001b[0;32m    702\u001b[0m \u001b[38;5;66;03m# Make the request on the httplib connection object.\u001b[39;00m\n\u001b[1;32m--> 703\u001b[0m httplib_response \u001b[38;5;241m=\u001b[39m \u001b[38;5;28;43mself\u001b[39;49m\u001b[38;5;241;43m.\u001b[39;49m\u001b[43m_make_request\u001b[49m\u001b[43m(\u001b[49m\n\u001b[0;32m    704\u001b[0m \u001b[43m    \u001b[49m\u001b[43mconn\u001b[49m\u001b[43m,\u001b[49m\n\u001b[0;32m    705\u001b[0m \u001b[43m    \u001b[49m\u001b[43mmethod\u001b[49m\u001b[43m,\u001b[49m\n\u001b[0;32m    706\u001b[0m \u001b[43m    \u001b[49m\u001b[43murl\u001b[49m\u001b[43m,\u001b[49m\n\u001b[0;32m    707\u001b[0m \u001b[43m    \u001b[49m\u001b[43mtimeout\u001b[49m\u001b[38;5;241;43m=\u001b[39;49m\u001b[43mtimeout_obj\u001b[49m\u001b[43m,\u001b[49m\n\u001b[0;32m    708\u001b[0m \u001b[43m    \u001b[49m\u001b[43mbody\u001b[49m\u001b[38;5;241;43m=\u001b[39;49m\u001b[43mbody\u001b[49m\u001b[43m,\u001b[49m\n\u001b[0;32m    709\u001b[0m \u001b[43m    \u001b[49m\u001b[43mheaders\u001b[49m\u001b[38;5;241;43m=\u001b[39;49m\u001b[43mheaders\u001b[49m\u001b[43m,\u001b[49m\n\u001b[0;32m    710\u001b[0m \u001b[43m    \u001b[49m\u001b[43mchunked\u001b[49m\u001b[38;5;241;43m=\u001b[39;49m\u001b[43mchunked\u001b[49m\u001b[43m,\u001b[49m\n\u001b[0;32m    711\u001b[0m \u001b[43m\u001b[49m\u001b[43m)\u001b[49m\n\u001b[0;32m    713\u001b[0m \u001b[38;5;66;03m# If we're going to release the connection in ``finally:``, then\u001b[39;00m\n\u001b[0;32m    714\u001b[0m \u001b[38;5;66;03m# the response doesn't need to know about the connection. Otherwise\u001b[39;00m\n\u001b[0;32m    715\u001b[0m \u001b[38;5;66;03m# it will also try to release it and we'll have a double-release\u001b[39;00m\n\u001b[0;32m    716\u001b[0m \u001b[38;5;66;03m# mess.\u001b[39;00m\n\u001b[0;32m    717\u001b[0m response_conn \u001b[38;5;241m=\u001b[39m conn \u001b[38;5;28;01mif\u001b[39;00m \u001b[38;5;129;01mnot\u001b[39;00m release_conn \u001b[38;5;28;01melse\u001b[39;00m \u001b[38;5;28;01mNone\u001b[39;00m\n",
      "File \u001b[1;32m~\\miniconda3\\lib\\site-packages\\urllib3\\connectionpool.py:449\u001b[0m, in \u001b[0;36mHTTPConnectionPool._make_request\u001b[1;34m(self, conn, method, url, timeout, chunked, **httplib_request_kw)\u001b[0m\n\u001b[0;32m    444\u001b[0m             httplib_response \u001b[38;5;241m=\u001b[39m conn\u001b[38;5;241m.\u001b[39mgetresponse()\n\u001b[0;32m    445\u001b[0m         \u001b[38;5;28;01mexcept\u001b[39;00m \u001b[38;5;167;01mBaseException\u001b[39;00m \u001b[38;5;28;01mas\u001b[39;00m e:\n\u001b[0;32m    446\u001b[0m             \u001b[38;5;66;03m# Remove the TypeError from the exception chain in\u001b[39;00m\n\u001b[0;32m    447\u001b[0m             \u001b[38;5;66;03m# Python 3 (including for exceptions like SystemExit).\u001b[39;00m\n\u001b[0;32m    448\u001b[0m             \u001b[38;5;66;03m# Otherwise it looks like a bug in the code.\u001b[39;00m\n\u001b[1;32m--> 449\u001b[0m             \u001b[43msix\u001b[49m\u001b[38;5;241;43m.\u001b[39;49m\u001b[43mraise_from\u001b[49m\u001b[43m(\u001b[49m\u001b[43me\u001b[49m\u001b[43m,\u001b[49m\u001b[43m \u001b[49m\u001b[38;5;28;43;01mNone\u001b[39;49;00m\u001b[43m)\u001b[49m\n\u001b[0;32m    450\u001b[0m \u001b[38;5;28;01mexcept\u001b[39;00m (SocketTimeout, BaseSSLError, SocketError) \u001b[38;5;28;01mas\u001b[39;00m e:\n\u001b[0;32m    451\u001b[0m     \u001b[38;5;28mself\u001b[39m\u001b[38;5;241m.\u001b[39m_raise_timeout(err\u001b[38;5;241m=\u001b[39me, url\u001b[38;5;241m=\u001b[39murl, timeout_value\u001b[38;5;241m=\u001b[39mread_timeout)\n",
      "File \u001b[1;32m<string>:3\u001b[0m, in \u001b[0;36mraise_from\u001b[1;34m(value, from_value)\u001b[0m\n",
      "File \u001b[1;32m~\\miniconda3\\lib\\site-packages\\urllib3\\connectionpool.py:444\u001b[0m, in \u001b[0;36mHTTPConnectionPool._make_request\u001b[1;34m(self, conn, method, url, timeout, chunked, **httplib_request_kw)\u001b[0m\n\u001b[0;32m    441\u001b[0m \u001b[38;5;28;01mexcept\u001b[39;00m \u001b[38;5;167;01mTypeError\u001b[39;00m:\n\u001b[0;32m    442\u001b[0m     \u001b[38;5;66;03m# Python 3\u001b[39;00m\n\u001b[0;32m    443\u001b[0m     \u001b[38;5;28;01mtry\u001b[39;00m:\n\u001b[1;32m--> 444\u001b[0m         httplib_response \u001b[38;5;241m=\u001b[39m \u001b[43mconn\u001b[49m\u001b[38;5;241;43m.\u001b[39;49m\u001b[43mgetresponse\u001b[49m\u001b[43m(\u001b[49m\u001b[43m)\u001b[49m\n\u001b[0;32m    445\u001b[0m     \u001b[38;5;28;01mexcept\u001b[39;00m \u001b[38;5;167;01mBaseException\u001b[39;00m \u001b[38;5;28;01mas\u001b[39;00m e:\n\u001b[0;32m    446\u001b[0m         \u001b[38;5;66;03m# Remove the TypeError from the exception chain in\u001b[39;00m\n\u001b[0;32m    447\u001b[0m         \u001b[38;5;66;03m# Python 3 (including for exceptions like SystemExit).\u001b[39;00m\n\u001b[0;32m    448\u001b[0m         \u001b[38;5;66;03m# Otherwise it looks like a bug in the code.\u001b[39;00m\n\u001b[0;32m    449\u001b[0m         six\u001b[38;5;241m.\u001b[39mraise_from(e, \u001b[38;5;28;01mNone\u001b[39;00m)\n",
      "File \u001b[1;32m~\\miniconda3\\lib\\http\\client.py:1374\u001b[0m, in \u001b[0;36mHTTPConnection.getresponse\u001b[1;34m(self)\u001b[0m\n\u001b[0;32m   1372\u001b[0m \u001b[38;5;28;01mtry\u001b[39;00m:\n\u001b[0;32m   1373\u001b[0m     \u001b[38;5;28;01mtry\u001b[39;00m:\n\u001b[1;32m-> 1374\u001b[0m         \u001b[43mresponse\u001b[49m\u001b[38;5;241;43m.\u001b[39;49m\u001b[43mbegin\u001b[49m\u001b[43m(\u001b[49m\u001b[43m)\u001b[49m\n\u001b[0;32m   1375\u001b[0m     \u001b[38;5;28;01mexcept\u001b[39;00m \u001b[38;5;167;01mConnectionError\u001b[39;00m:\n\u001b[0;32m   1376\u001b[0m         \u001b[38;5;28mself\u001b[39m\u001b[38;5;241m.\u001b[39mclose()\n",
      "File \u001b[1;32m~\\miniconda3\\lib\\http\\client.py:318\u001b[0m, in \u001b[0;36mHTTPResponse.begin\u001b[1;34m(self)\u001b[0m\n\u001b[0;32m    316\u001b[0m \u001b[38;5;66;03m# read until we get a non-100 response\u001b[39;00m\n\u001b[0;32m    317\u001b[0m \u001b[38;5;28;01mwhile\u001b[39;00m \u001b[38;5;28;01mTrue\u001b[39;00m:\n\u001b[1;32m--> 318\u001b[0m     version, status, reason \u001b[38;5;241m=\u001b[39m \u001b[38;5;28;43mself\u001b[39;49m\u001b[38;5;241;43m.\u001b[39;49m\u001b[43m_read_status\u001b[49m\u001b[43m(\u001b[49m\u001b[43m)\u001b[49m\n\u001b[0;32m    319\u001b[0m     \u001b[38;5;28;01mif\u001b[39;00m status \u001b[38;5;241m!=\u001b[39m CONTINUE:\n\u001b[0;32m    320\u001b[0m         \u001b[38;5;28;01mbreak\u001b[39;00m\n",
      "File \u001b[1;32m~\\miniconda3\\lib\\http\\client.py:279\u001b[0m, in \u001b[0;36mHTTPResponse._read_status\u001b[1;34m(self)\u001b[0m\n\u001b[0;32m    278\u001b[0m \u001b[38;5;28;01mdef\u001b[39;00m\u001b[38;5;250m \u001b[39m\u001b[38;5;21m_read_status\u001b[39m(\u001b[38;5;28mself\u001b[39m):\n\u001b[1;32m--> 279\u001b[0m     line \u001b[38;5;241m=\u001b[39m \u001b[38;5;28mstr\u001b[39m(\u001b[38;5;28;43mself\u001b[39;49m\u001b[38;5;241;43m.\u001b[39;49m\u001b[43mfp\u001b[49m\u001b[38;5;241;43m.\u001b[39;49m\u001b[43mreadline\u001b[49m\u001b[43m(\u001b[49m\u001b[43m_MAXLINE\u001b[49m\u001b[43m \u001b[49m\u001b[38;5;241;43m+\u001b[39;49m\u001b[43m \u001b[49m\u001b[38;5;241;43m1\u001b[39;49m\u001b[43m)\u001b[49m, \u001b[38;5;124m\"\u001b[39m\u001b[38;5;124miso-8859-1\u001b[39m\u001b[38;5;124m\"\u001b[39m)\n\u001b[0;32m    280\u001b[0m     \u001b[38;5;28;01mif\u001b[39;00m \u001b[38;5;28mlen\u001b[39m(line) \u001b[38;5;241m>\u001b[39m _MAXLINE:\n\u001b[0;32m    281\u001b[0m         \u001b[38;5;28;01mraise\u001b[39;00m LineTooLong(\u001b[38;5;124m\"\u001b[39m\u001b[38;5;124mstatus line\u001b[39m\u001b[38;5;124m\"\u001b[39m)\n",
      "File \u001b[1;32m~\\miniconda3\\lib\\socket.py:705\u001b[0m, in \u001b[0;36mSocketIO.readinto\u001b[1;34m(self, b)\u001b[0m\n\u001b[0;32m    703\u001b[0m \u001b[38;5;28;01mwhile\u001b[39;00m \u001b[38;5;28;01mTrue\u001b[39;00m:\n\u001b[0;32m    704\u001b[0m     \u001b[38;5;28;01mtry\u001b[39;00m:\n\u001b[1;32m--> 705\u001b[0m         \u001b[38;5;28;01mreturn\u001b[39;00m \u001b[38;5;28;43mself\u001b[39;49m\u001b[38;5;241;43m.\u001b[39;49m\u001b[43m_sock\u001b[49m\u001b[38;5;241;43m.\u001b[39;49m\u001b[43mrecv_into\u001b[49m\u001b[43m(\u001b[49m\u001b[43mb\u001b[49m\u001b[43m)\u001b[49m\n\u001b[0;32m    706\u001b[0m     \u001b[38;5;28;01mexcept\u001b[39;00m timeout:\n\u001b[0;32m    707\u001b[0m         \u001b[38;5;28mself\u001b[39m\u001b[38;5;241m.\u001b[39m_timeout_occurred \u001b[38;5;241m=\u001b[39m \u001b[38;5;28;01mTrue\u001b[39;00m\n",
      "File \u001b[1;32m~\\miniconda3\\lib\\ssl.py:1274\u001b[0m, in \u001b[0;36mSSLSocket.recv_into\u001b[1;34m(self, buffer, nbytes, flags)\u001b[0m\n\u001b[0;32m   1270\u001b[0m     \u001b[38;5;28;01mif\u001b[39;00m flags \u001b[38;5;241m!=\u001b[39m \u001b[38;5;241m0\u001b[39m:\n\u001b[0;32m   1271\u001b[0m         \u001b[38;5;28;01mraise\u001b[39;00m \u001b[38;5;167;01mValueError\u001b[39;00m(\n\u001b[0;32m   1272\u001b[0m           \u001b[38;5;124m\"\u001b[39m\u001b[38;5;124mnon-zero flags not allowed in calls to recv_into() on \u001b[39m\u001b[38;5;132;01m%s\u001b[39;00m\u001b[38;5;124m\"\u001b[39m \u001b[38;5;241m%\u001b[39m\n\u001b[0;32m   1273\u001b[0m           \u001b[38;5;28mself\u001b[39m\u001b[38;5;241m.\u001b[39m\u001b[38;5;18m__class__\u001b[39m)\n\u001b[1;32m-> 1274\u001b[0m     \u001b[38;5;28;01mreturn\u001b[39;00m \u001b[38;5;28;43mself\u001b[39;49m\u001b[38;5;241;43m.\u001b[39;49m\u001b[43mread\u001b[49m\u001b[43m(\u001b[49m\u001b[43mnbytes\u001b[49m\u001b[43m,\u001b[49m\u001b[43m \u001b[49m\u001b[43mbuffer\u001b[49m\u001b[43m)\u001b[49m\n\u001b[0;32m   1275\u001b[0m \u001b[38;5;28;01melse\u001b[39;00m:\n\u001b[0;32m   1276\u001b[0m     \u001b[38;5;28;01mreturn\u001b[39;00m \u001b[38;5;28msuper\u001b[39m()\u001b[38;5;241m.\u001b[39mrecv_into(buffer, nbytes, flags)\n",
      "File \u001b[1;32m~\\miniconda3\\lib\\ssl.py:1130\u001b[0m, in \u001b[0;36mSSLSocket.read\u001b[1;34m(self, len, buffer)\u001b[0m\n\u001b[0;32m   1128\u001b[0m \u001b[38;5;28;01mtry\u001b[39;00m:\n\u001b[0;32m   1129\u001b[0m     \u001b[38;5;28;01mif\u001b[39;00m buffer \u001b[38;5;129;01mis\u001b[39;00m \u001b[38;5;129;01mnot\u001b[39;00m \u001b[38;5;28;01mNone\u001b[39;00m:\n\u001b[1;32m-> 1130\u001b[0m         \u001b[38;5;28;01mreturn\u001b[39;00m \u001b[38;5;28;43mself\u001b[39;49m\u001b[38;5;241;43m.\u001b[39;49m\u001b[43m_sslobj\u001b[49m\u001b[38;5;241;43m.\u001b[39;49m\u001b[43mread\u001b[49m\u001b[43m(\u001b[49m\u001b[38;5;28;43mlen\u001b[39;49m\u001b[43m,\u001b[49m\u001b[43m \u001b[49m\u001b[43mbuffer\u001b[49m\u001b[43m)\u001b[49m\n\u001b[0;32m   1131\u001b[0m     \u001b[38;5;28;01melse\u001b[39;00m:\n\u001b[0;32m   1132\u001b[0m         \u001b[38;5;28;01mreturn\u001b[39;00m \u001b[38;5;28mself\u001b[39m\u001b[38;5;241m.\u001b[39m_sslobj\u001b[38;5;241m.\u001b[39mread(\u001b[38;5;28mlen\u001b[39m)\n",
      "\u001b[1;31mKeyboardInterrupt\u001b[0m: "
     ]
    }
   ],
   "source": [
    "# Define the correct project ID\n",
    "PROJECT_ID = '0092aa7f-a2e8-4972-8f26-46eb98b23a12' # 0092aa7f-a2e8-4972-8f26-46eb98b23a12\n",
    "\n",
    "for record in dqdataSource:\n",
    "    record_id = record.get(\"id\")\n",
    "    \n",
    "    # Remove unnecessary fields \n",
    "    del(record[\"id\"])\n",
    "    del(record[\"version\"])\n",
    "\n",
    "    # Ensure the record has the correct project ID\n",
    "    record[\"form_id\"] = PROJECT_ID  \n",
    "\n",
    "    # Upload record to Fulcrum\n",
    "    CREATED = fulcrum.records.create(record)\n",
    "    # Check CREATED\n",
    "    #if CREATED and CREATED.get(\"form_id\") == PROJECT_ID:\n",
    "    #    print(f\"✅ Record {record_id} successfully created under Project ID: {PROJECT_ID}\")\n",
    "    #else:\n",
    "    #    print(f\"❌ Failed to create Record {record_id} under Project ID: {PROJECT_ID}\")\n"
   ]
  },
  {
   "cell_type": "code",
   "execution_count": 20,
   "metadata": {},
   "outputs": [
    {
     "data": {
      "text/plain": [
       "{'record': {'status': 'No action required - لا حاجة لأي إجراء',\n",
       "  'version': 1,\n",
       "  'id': '5868c71c-67b2-41a1-a208-82d0dd25bbe6',\n",
       "  'created_at': '2025-03-04T11:40:11Z',\n",
       "  'updated_at': '2025-03-04T11:40:11Z',\n",
       "  'client_created_at': '2018-02-17T03:44:54Z',\n",
       "  'client_updated_at': '2023-02-19T08:30:19Z',\n",
       "  'created_by': '[BP] admin',\n",
       "  'created_by_id': 'd540ddf0-33db-4fa6-954c-edef0bb8ce30',\n",
       "  'updated_by': '[BP] admin',\n",
       "  'updated_by_id': 'd540ddf0-33db-4fa6-954c-edef0bb8ce30',\n",
       "  'created_location': None,\n",
       "  'updated_location': None,\n",
       "  'created_duration': 29,\n",
       "  'updated_duration': 2,\n",
       "  'edited_duration': 2,\n",
       "  'form_id': '0092aa7f-a2e8-4972-8f26-46eb98b23a12',\n",
       "  'project_id': None,\n",
       "  'record_series_id': None,\n",
       "  'changeset_id': None,\n",
       "  'assigned_to': None,\n",
       "  'assigned_to_id': None,\n",
       "  'form_values': {'b96d': '3',\n",
       "   'd7e8': '1e5fa24f',\n",
       "   '3fee': {'other_values': [],\n",
       "    'choice_values': ['Phoenix dactylifera - نخيل البلح']},\n",
       "   '009b': '12',\n",
       "   '3a49': 'no',\n",
       "   '0a3e': {'other_values': [], 'choice_values': ['good - جيد']},\n",
       "   '20cc': '2018-02-17',\n",
       "   '5cf5': [{'photo_id': '11eba7ea-9cc0-4214-9845-fc6d7f1f2062',\n",
       "     'caption': None}],\n",
       "   '314d': 'no',\n",
       "   'ceb0': 'no',\n",
       "   'f2f0': 'yes',\n",
       "   '47f0': 'yes',\n",
       "   '6e25': 'Sufficient'},\n",
       "  'latitude': 24.69400782,\n",
       "  'longitude': 46.62604127,\n",
       "  'altitude': None,\n",
       "  'geometry': {'type': 'Point', 'coordinates': [46.62604127, 24.69400782]},\n",
       "  'speed': None,\n",
       "  'course': None,\n",
       "  'horizontal_accuracy': None,\n",
       "  'vertical_accuracy': None,\n",
       "  'system_status': None}}"
      ]
     },
     "execution_count": 20,
     "metadata": {},
     "output_type": "execute_result"
    }
   ],
   "source": [
    "CREATED"
   ]
  },
  {
   "cell_type": "code",
   "execution_count": 29,
   "metadata": {},
   "outputs": [
    {
     "data": {
      "text/plain": [
       "True"
      ]
     },
     "execution_count": 29,
     "metadata": {},
     "output_type": "execute_result"
    }
   ],
   "source": [
    "dqcolumns = list(dqdataSource[0].keys())\n",
    "dqcolumns == cticolumns"
   ]
  },
  {
   "cell_type": "code",
   "execution_count": 10,
   "metadata": {},
   "outputs": [
    {
     "name": "stdout",
     "output_type": "stream",
     "text": [
      "4eb7ba28-9b08-408c-97d0-f5ea7005431c\n",
      "1e5fa24f-a9e0-414d-9876-c1eb384a40fc\n",
      "None\n",
      "None\n"
     ]
    }
   ],
   "source": [
    "print(dqdataSource[0][\"id\"])\n",
    "print(dqdataSource[1][\"id\"])\n",
    "print(dqdataSource[0][\"project_id\"])\n",
    "print(dqdataSource[1][\"project_id\"])"
   ]
  },
  {
   "cell_type": "code",
   "execution_count": 5,
   "metadata": {},
   "outputs": [
    {
     "ename": "NameError",
     "evalue": "name 'dataSource' is not defined",
     "output_type": "error",
     "traceback": [
      "\u001b[1;31m---------------------------------------------------------------------------\u001b[0m",
      "\u001b[1;31mNameError\u001b[0m                                 Traceback (most recent call last)",
      "Cell \u001b[1;32mIn[5], line 2\u001b[0m\n\u001b[0;32m      1\u001b[0m \u001b[38;5;66;03m## Duplicated trees?\u001b[39;00m\n\u001b[1;32m----> 2\u001b[0m ICTres \u001b[38;5;241m=\u001b[39m \u001b[38;5;28mlist\u001b[39m(\u001b[38;5;28mset\u001b[39m(record[\u001b[38;5;124m\"\u001b[39m\u001b[38;5;124mid\u001b[39m\u001b[38;5;124m\"\u001b[39m] \u001b[38;5;28;01mfor\u001b[39;00m record \u001b[38;5;129;01min\u001b[39;00m \u001b[43mdataSource\u001b[49m))\n\u001b[0;32m      3\u001b[0m DQres \u001b[38;5;241m=\u001b[39m \u001b[38;5;28mlist\u001b[39m(\u001b[38;5;28mset\u001b[39m(record[\u001b[38;5;124m\"\u001b[39m\u001b[38;5;124mid\u001b[39m\u001b[38;5;124m\"\u001b[39m] \u001b[38;5;28;01mfor\u001b[39;00m record \u001b[38;5;129;01min\u001b[39;00m dqdataSource))\n\u001b[0;32m      4\u001b[0m common_trees \u001b[38;5;241m=\u001b[39m \u001b[38;5;28mlist\u001b[39m(\u001b[38;5;28mset\u001b[39m(ICTres) \u001b[38;5;241m&\u001b[39m \u001b[38;5;28mset\u001b[39m(DQres)) \u001b[38;5;129;01mor\u001b[39;00m [\u001b[38;5;241m0\u001b[39m]\n",
      "\u001b[1;31mNameError\u001b[0m: name 'dataSource' is not defined"
     ]
    }
   ],
   "source": [
    "## Duplicated trees?\n",
    "ICTres = list(set(record[\"id\"] for record in dataSource))\n",
    "DQres = list(set(record[\"id\"] for record in dqdataSource))\n",
    "common_trees = list(set(ICTres) & set(DQres)) or [0]\n",
    "common_trees"
   ]
  },
  {
   "cell_type": "code",
   "execution_count": 5,
   "metadata": {},
   "outputs": [
    {
     "name": "stderr",
     "output_type": "stream",
     "text": [
      "2025-03-04 11:00:02,358 - INFO - Record 4eb7ba28-9b08-408c-97d0-f5ea7005431c before modification: 0046e79b-ef91-4b37-99b9-d6340e28094c\n",
      "2025-03-04 11:00:02,359 - INFO - Record 4eb7ba28-9b08-408c-97d0-f5ea7005431c after setting project_id: 0092aa7f-a2e8-4972-8f26-46eb98b23a12\n",
      "2025-03-04 11:00:03,335 - ERROR - ❌ Failed to create Record 4eb7ba28-9b08-408c-97d0-f5ea7005431c under Project ID: 0092aa7f-a2e8-4972-8f26-46eb98b23a12\n",
      "2025-03-04 11:00:03,338 - INFO - Record 1e5fa24f-a9e0-414d-9876-c1eb384a40fc before modification: 0046e79b-ef91-4b37-99b9-d6340e28094c\n",
      "2025-03-04 11:00:03,339 - INFO - Record 1e5fa24f-a9e0-414d-9876-c1eb384a40fc after setting project_id: 0092aa7f-a2e8-4972-8f26-46eb98b23a12\n",
      "2025-03-04 11:00:04,120 - ERROR - ❌ Failed to create Record 1e5fa24f-a9e0-414d-9876-c1eb384a40fc under Project ID: 0092aa7f-a2e8-4972-8f26-46eb98b23a12\n",
      "2025-03-04 11:00:04,122 - INFO - Record 6cc5bd8a-39a5-429b-8fb7-cffae6892999 before modification: 0046e79b-ef91-4b37-99b9-d6340e28094c\n",
      "2025-03-04 11:00:04,123 - INFO - Record 6cc5bd8a-39a5-429b-8fb7-cffae6892999 after setting project_id: 0092aa7f-a2e8-4972-8f26-46eb98b23a12\n"
     ]
    },
    {
     "ename": "KeyboardInterrupt",
     "evalue": "",
     "output_type": "error",
     "traceback": [
      "\u001b[1;31m---------------------------------------------------------------------------\u001b[0m",
      "\u001b[1;31mKeyboardInterrupt\u001b[0m                         Traceback (most recent call last)",
      "Cell \u001b[1;32mIn[5], line 28\u001b[0m\n\u001b[0;32m     25\u001b[0m logging\u001b[38;5;241m.\u001b[39minfo(\u001b[38;5;124mf\u001b[39m\u001b[38;5;124m\"\u001b[39m\u001b[38;5;124mRecord \u001b[39m\u001b[38;5;132;01m{\u001b[39;00mrecord_id\u001b[38;5;132;01m}\u001b[39;00m\u001b[38;5;124m after setting project_id: \u001b[39m\u001b[38;5;132;01m{\u001b[39;00mrecord[\u001b[38;5;124m'\u001b[39m\u001b[38;5;124mform_id\u001b[39m\u001b[38;5;124m'\u001b[39m]\u001b[38;5;132;01m}\u001b[39;00m\u001b[38;5;124m\"\u001b[39m)\n\u001b[0;32m     27\u001b[0m \u001b[38;5;66;03m# Upload record to Fulcrum\u001b[39;00m\n\u001b[1;32m---> 28\u001b[0m CREATED \u001b[38;5;241m=\u001b[39m \u001b[43mfulcrum\u001b[49m\u001b[38;5;241;43m.\u001b[39;49m\u001b[43mrecords\u001b[49m\u001b[38;5;241;43m.\u001b[39;49m\u001b[43mcreate\u001b[49m\u001b[43m(\u001b[49m\u001b[43mrecord\u001b[49m\u001b[43m)\u001b[49m\n\u001b[0;32m     30\u001b[0m \u001b[38;5;66;03m# Log the response for further debugging\u001b[39;00m\n\u001b[0;32m     31\u001b[0m \u001b[38;5;28;01mif\u001b[39;00m CREATED \u001b[38;5;129;01mand\u001b[39;00m \u001b[38;5;124m\"\u001b[39m\u001b[38;5;124mform_id\u001b[39m\u001b[38;5;124m\"\u001b[39m \u001b[38;5;129;01min\u001b[39;00m CREATED:\n",
      "File \u001b[1;32m~\\miniconda3\\lib\\site-packages\\fulcrum\\mixins.py:16\u001b[0m, in \u001b[0;36mCreateable.create\u001b[1;34m(self, obj)\u001b[0m\n\u001b[0;32m     15\u001b[0m \u001b[38;5;28;01mdef\u001b[39;00m\u001b[38;5;250m \u001b[39m\u001b[38;5;21mcreate\u001b[39m(\u001b[38;5;28mself\u001b[39m, obj):\n\u001b[1;32m---> 16\u001b[0m     api_resp \u001b[38;5;241m=\u001b[39m \u001b[38;5;28;43mself\u001b[39;49m\u001b[38;5;241;43m.\u001b[39;49m\u001b[43mclient\u001b[49m\u001b[38;5;241;43m.\u001b[39;49m\u001b[43mcall\u001b[49m\u001b[43m(\u001b[49m\u001b[38;5;124;43m'\u001b[39;49m\u001b[38;5;124;43mpost\u001b[39;49m\u001b[38;5;124;43m'\u001b[39;49m\u001b[43m,\u001b[49m\u001b[43m \u001b[49m\u001b[38;5;28;43mself\u001b[39;49m\u001b[38;5;241;43m.\u001b[39;49m\u001b[43mpath\u001b[49m\u001b[43m,\u001b[49m\u001b[43m \u001b[49m\u001b[43mdata\u001b[49m\u001b[38;5;241;43m=\u001b[39;49m\u001b[43mobj\u001b[49m\u001b[43m,\u001b[49m\u001b[43m \u001b[49m\u001b[43mextra_headers\u001b[49m\u001b[38;5;241;43m=\u001b[39;49m\u001b[43m{\u001b[49m\u001b[38;5;124;43m'\u001b[39;49m\u001b[38;5;124;43mContent-Type\u001b[39;49m\u001b[38;5;124;43m'\u001b[39;49m\u001b[43m:\u001b[49m\u001b[43m \u001b[49m\u001b[38;5;124;43m'\u001b[39;49m\u001b[38;5;124;43mapplication/json\u001b[39;49m\u001b[38;5;124;43m'\u001b[39;49m\u001b[43m}\u001b[49m\u001b[43m)\u001b[49m\n\u001b[0;32m     17\u001b[0m     \u001b[38;5;28;01mreturn\u001b[39;00m api_resp\n",
      "File \u001b[1;32m~\\miniconda3\\lib\\site-packages\\fulcrum\\api\\__init__.py:57\u001b[0m, in \u001b[0;36mClient.call\u001b[1;34m(self, method, path, data, extra_headers, url_params, json_content, files, auth)\u001b[0m\n\u001b[0;32m     54\u001b[0m \u001b[38;5;28;01mif\u001b[39;00m auth \u001b[38;5;129;01mis\u001b[39;00m \u001b[38;5;129;01mnot\u001b[39;00m \u001b[38;5;28;01mNone\u001b[39;00m:\n\u001b[0;32m     55\u001b[0m     kwargs[\u001b[38;5;124m'\u001b[39m\u001b[38;5;124mauth\u001b[39m\u001b[38;5;124m'\u001b[39m] \u001b[38;5;241m=\u001b[39m auth\n\u001b[1;32m---> 57\u001b[0m resp \u001b[38;5;241m=\u001b[39m \u001b[38;5;28mgetattr\u001b[39m(requests, method)(full_path, \u001b[38;5;241m*\u001b[39m\u001b[38;5;241m*\u001b[39mkwargs)\n\u001b[0;32m     59\u001b[0m \u001b[38;5;28;01mif\u001b[39;00m resp\u001b[38;5;241m.\u001b[39mstatus_code \u001b[38;5;129;01min\u001b[39;00m \u001b[38;5;28mself\u001b[39m\u001b[38;5;241m.\u001b[39mhttp_exception_map:\n\u001b[0;32m     60\u001b[0m     \u001b[38;5;28;01mraise\u001b[39;00m \u001b[38;5;28mself\u001b[39m\u001b[38;5;241m.\u001b[39mhttp_exception_map[resp\u001b[38;5;241m.\u001b[39mstatus_code]\n",
      "File \u001b[1;32m~\\miniconda3\\lib\\site-packages\\requests\\api.py:115\u001b[0m, in \u001b[0;36mpost\u001b[1;34m(url, data, json, **kwargs)\u001b[0m\n\u001b[0;32m    103\u001b[0m \u001b[38;5;28;01mdef\u001b[39;00m\u001b[38;5;250m \u001b[39m\u001b[38;5;21mpost\u001b[39m(url, data\u001b[38;5;241m=\u001b[39m\u001b[38;5;28;01mNone\u001b[39;00m, json\u001b[38;5;241m=\u001b[39m\u001b[38;5;28;01mNone\u001b[39;00m, \u001b[38;5;241m*\u001b[39m\u001b[38;5;241m*\u001b[39mkwargs):\n\u001b[0;32m    104\u001b[0m \u001b[38;5;250m    \u001b[39m\u001b[38;5;124mr\u001b[39m\u001b[38;5;124;03m\"\"\"Sends a POST request.\u001b[39;00m\n\u001b[0;32m    105\u001b[0m \n\u001b[0;32m    106\u001b[0m \u001b[38;5;124;03m    :param url: URL for the new :class:`Request` object.\u001b[39;00m\n\u001b[1;32m   (...)\u001b[0m\n\u001b[0;32m    112\u001b[0m \u001b[38;5;124;03m    :rtype: requests.Response\u001b[39;00m\n\u001b[0;32m    113\u001b[0m \u001b[38;5;124;03m    \"\"\"\u001b[39;00m\n\u001b[1;32m--> 115\u001b[0m     \u001b[38;5;28;01mreturn\u001b[39;00m request(\u001b[38;5;124m\"\u001b[39m\u001b[38;5;124mpost\u001b[39m\u001b[38;5;124m\"\u001b[39m, url, data\u001b[38;5;241m=\u001b[39mdata, json\u001b[38;5;241m=\u001b[39mjson, \u001b[38;5;241m*\u001b[39m\u001b[38;5;241m*\u001b[39mkwargs)\n",
      "File \u001b[1;32m~\\miniconda3\\lib\\site-packages\\requests\\api.py:59\u001b[0m, in \u001b[0;36mrequest\u001b[1;34m(method, url, **kwargs)\u001b[0m\n\u001b[0;32m     55\u001b[0m \u001b[38;5;66;03m# By using the 'with' statement we are sure the session is closed, thus we\u001b[39;00m\n\u001b[0;32m     56\u001b[0m \u001b[38;5;66;03m# avoid leaving sockets open which can trigger a ResourceWarning in some\u001b[39;00m\n\u001b[0;32m     57\u001b[0m \u001b[38;5;66;03m# cases, and look like a memory leak in others.\u001b[39;00m\n\u001b[0;32m     58\u001b[0m \u001b[38;5;28;01mwith\u001b[39;00m sessions\u001b[38;5;241m.\u001b[39mSession() \u001b[38;5;28;01mas\u001b[39;00m session:\n\u001b[1;32m---> 59\u001b[0m     \u001b[38;5;28;01mreturn\u001b[39;00m session\u001b[38;5;241m.\u001b[39mrequest(method\u001b[38;5;241m=\u001b[39mmethod, url\u001b[38;5;241m=\u001b[39murl, \u001b[38;5;241m*\u001b[39m\u001b[38;5;241m*\u001b[39mkwargs)\n",
      "File \u001b[1;32m~\\miniconda3\\lib\\site-packages\\requests\\sessions.py:589\u001b[0m, in \u001b[0;36mSession.request\u001b[1;34m(self, method, url, params, data, headers, cookies, files, auth, timeout, allow_redirects, proxies, hooks, stream, verify, cert, json)\u001b[0m\n\u001b[0;32m    584\u001b[0m send_kwargs \u001b[38;5;241m=\u001b[39m {\n\u001b[0;32m    585\u001b[0m     \u001b[38;5;124m\"\u001b[39m\u001b[38;5;124mtimeout\u001b[39m\u001b[38;5;124m\"\u001b[39m: timeout,\n\u001b[0;32m    586\u001b[0m     \u001b[38;5;124m\"\u001b[39m\u001b[38;5;124mallow_redirects\u001b[39m\u001b[38;5;124m\"\u001b[39m: allow_redirects,\n\u001b[0;32m    587\u001b[0m }\n\u001b[0;32m    588\u001b[0m send_kwargs\u001b[38;5;241m.\u001b[39mupdate(settings)\n\u001b[1;32m--> 589\u001b[0m resp \u001b[38;5;241m=\u001b[39m \u001b[38;5;28mself\u001b[39m\u001b[38;5;241m.\u001b[39msend(prep, \u001b[38;5;241m*\u001b[39m\u001b[38;5;241m*\u001b[39msend_kwargs)\n\u001b[0;32m    591\u001b[0m \u001b[38;5;28;01mreturn\u001b[39;00m resp\n",
      "File \u001b[1;32m~\\miniconda3\\lib\\site-packages\\requests\\sessions.py:703\u001b[0m, in \u001b[0;36mSession.send\u001b[1;34m(self, request, **kwargs)\u001b[0m\n\u001b[0;32m    700\u001b[0m start \u001b[38;5;241m=\u001b[39m preferred_clock()\n\u001b[0;32m    702\u001b[0m \u001b[38;5;66;03m# Send the request\u001b[39;00m\n\u001b[1;32m--> 703\u001b[0m r \u001b[38;5;241m=\u001b[39m adapter\u001b[38;5;241m.\u001b[39msend(request, \u001b[38;5;241m*\u001b[39m\u001b[38;5;241m*\u001b[39mkwargs)\n\u001b[0;32m    705\u001b[0m \u001b[38;5;66;03m# Total elapsed time of the request (approximately)\u001b[39;00m\n\u001b[0;32m    706\u001b[0m elapsed \u001b[38;5;241m=\u001b[39m preferred_clock() \u001b[38;5;241m-\u001b[39m start\n",
      "File \u001b[1;32m~\\miniconda3\\lib\\site-packages\\requests\\adapters.py:667\u001b[0m, in \u001b[0;36mHTTPAdapter.send\u001b[1;34m(self, request, stream, timeout, verify, cert, proxies)\u001b[0m\n\u001b[0;32m    664\u001b[0m     timeout \u001b[38;5;241m=\u001b[39m TimeoutSauce(connect\u001b[38;5;241m=\u001b[39mtimeout, read\u001b[38;5;241m=\u001b[39mtimeout)\n\u001b[0;32m    666\u001b[0m \u001b[38;5;28;01mtry\u001b[39;00m:\n\u001b[1;32m--> 667\u001b[0m     resp \u001b[38;5;241m=\u001b[39m \u001b[43mconn\u001b[49m\u001b[38;5;241;43m.\u001b[39;49m\u001b[43murlopen\u001b[49m\u001b[43m(\u001b[49m\n\u001b[0;32m    668\u001b[0m \u001b[43m        \u001b[49m\u001b[43mmethod\u001b[49m\u001b[38;5;241;43m=\u001b[39;49m\u001b[43mrequest\u001b[49m\u001b[38;5;241;43m.\u001b[39;49m\u001b[43mmethod\u001b[49m\u001b[43m,\u001b[49m\n\u001b[0;32m    669\u001b[0m \u001b[43m        \u001b[49m\u001b[43murl\u001b[49m\u001b[38;5;241;43m=\u001b[39;49m\u001b[43murl\u001b[49m\u001b[43m,\u001b[49m\n\u001b[0;32m    670\u001b[0m \u001b[43m        \u001b[49m\u001b[43mbody\u001b[49m\u001b[38;5;241;43m=\u001b[39;49m\u001b[43mrequest\u001b[49m\u001b[38;5;241;43m.\u001b[39;49m\u001b[43mbody\u001b[49m\u001b[43m,\u001b[49m\n\u001b[0;32m    671\u001b[0m \u001b[43m        \u001b[49m\u001b[43mheaders\u001b[49m\u001b[38;5;241;43m=\u001b[39;49m\u001b[43mrequest\u001b[49m\u001b[38;5;241;43m.\u001b[39;49m\u001b[43mheaders\u001b[49m\u001b[43m,\u001b[49m\n\u001b[0;32m    672\u001b[0m \u001b[43m        \u001b[49m\u001b[43mredirect\u001b[49m\u001b[38;5;241;43m=\u001b[39;49m\u001b[38;5;28;43;01mFalse\u001b[39;49;00m\u001b[43m,\u001b[49m\n\u001b[0;32m    673\u001b[0m \u001b[43m        \u001b[49m\u001b[43massert_same_host\u001b[49m\u001b[38;5;241;43m=\u001b[39;49m\u001b[38;5;28;43;01mFalse\u001b[39;49;00m\u001b[43m,\u001b[49m\n\u001b[0;32m    674\u001b[0m \u001b[43m        \u001b[49m\u001b[43mpreload_content\u001b[49m\u001b[38;5;241;43m=\u001b[39;49m\u001b[38;5;28;43;01mFalse\u001b[39;49;00m\u001b[43m,\u001b[49m\n\u001b[0;32m    675\u001b[0m \u001b[43m        \u001b[49m\u001b[43mdecode_content\u001b[49m\u001b[38;5;241;43m=\u001b[39;49m\u001b[38;5;28;43;01mFalse\u001b[39;49;00m\u001b[43m,\u001b[49m\n\u001b[0;32m    676\u001b[0m \u001b[43m        \u001b[49m\u001b[43mretries\u001b[49m\u001b[38;5;241;43m=\u001b[39;49m\u001b[38;5;28;43mself\u001b[39;49m\u001b[38;5;241;43m.\u001b[39;49m\u001b[43mmax_retries\u001b[49m\u001b[43m,\u001b[49m\n\u001b[0;32m    677\u001b[0m \u001b[43m        \u001b[49m\u001b[43mtimeout\u001b[49m\u001b[38;5;241;43m=\u001b[39;49m\u001b[43mtimeout\u001b[49m\u001b[43m,\u001b[49m\n\u001b[0;32m    678\u001b[0m \u001b[43m        \u001b[49m\u001b[43mchunked\u001b[49m\u001b[38;5;241;43m=\u001b[39;49m\u001b[43mchunked\u001b[49m\u001b[43m,\u001b[49m\n\u001b[0;32m    679\u001b[0m \u001b[43m    \u001b[49m\u001b[43m)\u001b[49m\n\u001b[0;32m    681\u001b[0m \u001b[38;5;28;01mexcept\u001b[39;00m (ProtocolError, \u001b[38;5;167;01mOSError\u001b[39;00m) \u001b[38;5;28;01mas\u001b[39;00m err:\n\u001b[0;32m    682\u001b[0m     \u001b[38;5;28;01mraise\u001b[39;00m \u001b[38;5;167;01mConnectionError\u001b[39;00m(err, request\u001b[38;5;241m=\u001b[39mrequest)\n",
      "File \u001b[1;32m~\\miniconda3\\lib\\site-packages\\urllib3\\connectionpool.py:703\u001b[0m, in \u001b[0;36mHTTPConnectionPool.urlopen\u001b[1;34m(self, method, url, body, headers, retries, redirect, assert_same_host, timeout, pool_timeout, release_conn, chunked, body_pos, **response_kw)\u001b[0m\n\u001b[0;32m    700\u001b[0m     \u001b[38;5;28mself\u001b[39m\u001b[38;5;241m.\u001b[39m_prepare_proxy(conn)\n\u001b[0;32m    702\u001b[0m \u001b[38;5;66;03m# Make the request on the httplib connection object.\u001b[39;00m\n\u001b[1;32m--> 703\u001b[0m httplib_response \u001b[38;5;241m=\u001b[39m \u001b[38;5;28;43mself\u001b[39;49m\u001b[38;5;241;43m.\u001b[39;49m\u001b[43m_make_request\u001b[49m\u001b[43m(\u001b[49m\n\u001b[0;32m    704\u001b[0m \u001b[43m    \u001b[49m\u001b[43mconn\u001b[49m\u001b[43m,\u001b[49m\n\u001b[0;32m    705\u001b[0m \u001b[43m    \u001b[49m\u001b[43mmethod\u001b[49m\u001b[43m,\u001b[49m\n\u001b[0;32m    706\u001b[0m \u001b[43m    \u001b[49m\u001b[43murl\u001b[49m\u001b[43m,\u001b[49m\n\u001b[0;32m    707\u001b[0m \u001b[43m    \u001b[49m\u001b[43mtimeout\u001b[49m\u001b[38;5;241;43m=\u001b[39;49m\u001b[43mtimeout_obj\u001b[49m\u001b[43m,\u001b[49m\n\u001b[0;32m    708\u001b[0m \u001b[43m    \u001b[49m\u001b[43mbody\u001b[49m\u001b[38;5;241;43m=\u001b[39;49m\u001b[43mbody\u001b[49m\u001b[43m,\u001b[49m\n\u001b[0;32m    709\u001b[0m \u001b[43m    \u001b[49m\u001b[43mheaders\u001b[49m\u001b[38;5;241;43m=\u001b[39;49m\u001b[43mheaders\u001b[49m\u001b[43m,\u001b[49m\n\u001b[0;32m    710\u001b[0m \u001b[43m    \u001b[49m\u001b[43mchunked\u001b[49m\u001b[38;5;241;43m=\u001b[39;49m\u001b[43mchunked\u001b[49m\u001b[43m,\u001b[49m\n\u001b[0;32m    711\u001b[0m \u001b[43m\u001b[49m\u001b[43m)\u001b[49m\n\u001b[0;32m    713\u001b[0m \u001b[38;5;66;03m# If we're going to release the connection in ``finally:``, then\u001b[39;00m\n\u001b[0;32m    714\u001b[0m \u001b[38;5;66;03m# the response doesn't need to know about the connection. Otherwise\u001b[39;00m\n\u001b[0;32m    715\u001b[0m \u001b[38;5;66;03m# it will also try to release it and we'll have a double-release\u001b[39;00m\n\u001b[0;32m    716\u001b[0m \u001b[38;5;66;03m# mess.\u001b[39;00m\n\u001b[0;32m    717\u001b[0m response_conn \u001b[38;5;241m=\u001b[39m conn \u001b[38;5;28;01mif\u001b[39;00m \u001b[38;5;129;01mnot\u001b[39;00m release_conn \u001b[38;5;28;01melse\u001b[39;00m \u001b[38;5;28;01mNone\u001b[39;00m\n",
      "File \u001b[1;32m~\\miniconda3\\lib\\site-packages\\urllib3\\connectionpool.py:386\u001b[0m, in \u001b[0;36mHTTPConnectionPool._make_request\u001b[1;34m(self, conn, method, url, timeout, chunked, **httplib_request_kw)\u001b[0m\n\u001b[0;32m    384\u001b[0m \u001b[38;5;66;03m# Trigger any extra validation we need to do.\u001b[39;00m\n\u001b[0;32m    385\u001b[0m \u001b[38;5;28;01mtry\u001b[39;00m:\n\u001b[1;32m--> 386\u001b[0m     \u001b[38;5;28;43mself\u001b[39;49m\u001b[38;5;241;43m.\u001b[39;49m\u001b[43m_validate_conn\u001b[49m\u001b[43m(\u001b[49m\u001b[43mconn\u001b[49m\u001b[43m)\u001b[49m\n\u001b[0;32m    387\u001b[0m \u001b[38;5;28;01mexcept\u001b[39;00m (SocketTimeout, BaseSSLError) \u001b[38;5;28;01mas\u001b[39;00m e:\n\u001b[0;32m    388\u001b[0m     \u001b[38;5;66;03m# Py2 raises this as a BaseSSLError, Py3 raises it as socket timeout.\u001b[39;00m\n\u001b[0;32m    389\u001b[0m     \u001b[38;5;28mself\u001b[39m\u001b[38;5;241m.\u001b[39m_raise_timeout(err\u001b[38;5;241m=\u001b[39me, url\u001b[38;5;241m=\u001b[39murl, timeout_value\u001b[38;5;241m=\u001b[39mconn\u001b[38;5;241m.\u001b[39mtimeout)\n",
      "File \u001b[1;32m~\\miniconda3\\lib\\site-packages\\urllib3\\connectionpool.py:1042\u001b[0m, in \u001b[0;36mHTTPSConnectionPool._validate_conn\u001b[1;34m(self, conn)\u001b[0m\n\u001b[0;32m   1040\u001b[0m \u001b[38;5;66;03m# Force connect early to allow us to validate the connection.\u001b[39;00m\n\u001b[0;32m   1041\u001b[0m \u001b[38;5;28;01mif\u001b[39;00m \u001b[38;5;129;01mnot\u001b[39;00m \u001b[38;5;28mgetattr\u001b[39m(conn, \u001b[38;5;124m\"\u001b[39m\u001b[38;5;124msock\u001b[39m\u001b[38;5;124m\"\u001b[39m, \u001b[38;5;28;01mNone\u001b[39;00m):  \u001b[38;5;66;03m# AppEngine might not have  `.sock`\u001b[39;00m\n\u001b[1;32m-> 1042\u001b[0m     \u001b[43mconn\u001b[49m\u001b[38;5;241;43m.\u001b[39;49m\u001b[43mconnect\u001b[49m\u001b[43m(\u001b[49m\u001b[43m)\u001b[49m\n\u001b[0;32m   1044\u001b[0m \u001b[38;5;28;01mif\u001b[39;00m \u001b[38;5;129;01mnot\u001b[39;00m conn\u001b[38;5;241m.\u001b[39mis_verified:\n\u001b[0;32m   1045\u001b[0m     warnings\u001b[38;5;241m.\u001b[39mwarn(\n\u001b[0;32m   1046\u001b[0m         (\n\u001b[0;32m   1047\u001b[0m             \u001b[38;5;124m\"\u001b[39m\u001b[38;5;124mUnverified HTTPS request is being made to host \u001b[39m\u001b[38;5;124m'\u001b[39m\u001b[38;5;132;01m%s\u001b[39;00m\u001b[38;5;124m'\u001b[39m\u001b[38;5;124m. \u001b[39m\u001b[38;5;124m\"\u001b[39m\n\u001b[1;32m   (...)\u001b[0m\n\u001b[0;32m   1052\u001b[0m         InsecureRequestWarning,\n\u001b[0;32m   1053\u001b[0m     )\n",
      "File \u001b[1;32m~\\miniconda3\\lib\\site-packages\\urllib3\\connection.py:414\u001b[0m, in \u001b[0;36mHTTPSConnection.connect\u001b[1;34m(self)\u001b[0m\n\u001b[0;32m    405\u001b[0m \u001b[38;5;28;01mif\u001b[39;00m (\n\u001b[0;32m    406\u001b[0m     \u001b[38;5;129;01mnot\u001b[39;00m \u001b[38;5;28mself\u001b[39m\u001b[38;5;241m.\u001b[39mca_certs\n\u001b[0;32m    407\u001b[0m     \u001b[38;5;129;01mand\u001b[39;00m \u001b[38;5;129;01mnot\u001b[39;00m \u001b[38;5;28mself\u001b[39m\u001b[38;5;241m.\u001b[39mca_cert_dir\n\u001b[1;32m   (...)\u001b[0m\n\u001b[0;32m    410\u001b[0m     \u001b[38;5;129;01mand\u001b[39;00m \u001b[38;5;28mhasattr\u001b[39m(context, \u001b[38;5;124m\"\u001b[39m\u001b[38;5;124mload_default_certs\u001b[39m\u001b[38;5;124m\"\u001b[39m)\n\u001b[0;32m    411\u001b[0m ):\n\u001b[0;32m    412\u001b[0m     context\u001b[38;5;241m.\u001b[39mload_default_certs()\n\u001b[1;32m--> 414\u001b[0m \u001b[38;5;28mself\u001b[39m\u001b[38;5;241m.\u001b[39msock \u001b[38;5;241m=\u001b[39m \u001b[43mssl_wrap_socket\u001b[49m\u001b[43m(\u001b[49m\n\u001b[0;32m    415\u001b[0m \u001b[43m    \u001b[49m\u001b[43msock\u001b[49m\u001b[38;5;241;43m=\u001b[39;49m\u001b[43mconn\u001b[49m\u001b[43m,\u001b[49m\n\u001b[0;32m    416\u001b[0m \u001b[43m    \u001b[49m\u001b[43mkeyfile\u001b[49m\u001b[38;5;241;43m=\u001b[39;49m\u001b[38;5;28;43mself\u001b[39;49m\u001b[38;5;241;43m.\u001b[39;49m\u001b[43mkey_file\u001b[49m\u001b[43m,\u001b[49m\n\u001b[0;32m    417\u001b[0m \u001b[43m    \u001b[49m\u001b[43mcertfile\u001b[49m\u001b[38;5;241;43m=\u001b[39;49m\u001b[38;5;28;43mself\u001b[39;49m\u001b[38;5;241;43m.\u001b[39;49m\u001b[43mcert_file\u001b[49m\u001b[43m,\u001b[49m\n\u001b[0;32m    418\u001b[0m \u001b[43m    \u001b[49m\u001b[43mkey_password\u001b[49m\u001b[38;5;241;43m=\u001b[39;49m\u001b[38;5;28;43mself\u001b[39;49m\u001b[38;5;241;43m.\u001b[39;49m\u001b[43mkey_password\u001b[49m\u001b[43m,\u001b[49m\n\u001b[0;32m    419\u001b[0m \u001b[43m    \u001b[49m\u001b[43mca_certs\u001b[49m\u001b[38;5;241;43m=\u001b[39;49m\u001b[38;5;28;43mself\u001b[39;49m\u001b[38;5;241;43m.\u001b[39;49m\u001b[43mca_certs\u001b[49m\u001b[43m,\u001b[49m\n\u001b[0;32m    420\u001b[0m \u001b[43m    \u001b[49m\u001b[43mca_cert_dir\u001b[49m\u001b[38;5;241;43m=\u001b[39;49m\u001b[38;5;28;43mself\u001b[39;49m\u001b[38;5;241;43m.\u001b[39;49m\u001b[43mca_cert_dir\u001b[49m\u001b[43m,\u001b[49m\n\u001b[0;32m    421\u001b[0m \u001b[43m    \u001b[49m\u001b[43mca_cert_data\u001b[49m\u001b[38;5;241;43m=\u001b[39;49m\u001b[38;5;28;43mself\u001b[39;49m\u001b[38;5;241;43m.\u001b[39;49m\u001b[43mca_cert_data\u001b[49m\u001b[43m,\u001b[49m\n\u001b[0;32m    422\u001b[0m \u001b[43m    \u001b[49m\u001b[43mserver_hostname\u001b[49m\u001b[38;5;241;43m=\u001b[39;49m\u001b[43mserver_hostname\u001b[49m\u001b[43m,\u001b[49m\n\u001b[0;32m    423\u001b[0m \u001b[43m    \u001b[49m\u001b[43mssl_context\u001b[49m\u001b[38;5;241;43m=\u001b[39;49m\u001b[43mcontext\u001b[49m\u001b[43m,\u001b[49m\n\u001b[0;32m    424\u001b[0m \u001b[43m    \u001b[49m\u001b[43mtls_in_tls\u001b[49m\u001b[38;5;241;43m=\u001b[39;49m\u001b[43mtls_in_tls\u001b[49m\u001b[43m,\u001b[49m\n\u001b[0;32m    425\u001b[0m \u001b[43m\u001b[49m\u001b[43m)\u001b[49m\n\u001b[0;32m    427\u001b[0m \u001b[38;5;66;03m# If we're using all defaults and the connection\u001b[39;00m\n\u001b[0;32m    428\u001b[0m \u001b[38;5;66;03m# is TLSv1 or TLSv1.1 we throw a DeprecationWarning\u001b[39;00m\n\u001b[0;32m    429\u001b[0m \u001b[38;5;66;03m# for the host.\u001b[39;00m\n\u001b[0;32m    430\u001b[0m \u001b[38;5;28;01mif\u001b[39;00m (\n\u001b[0;32m    431\u001b[0m     default_ssl_context\n\u001b[0;32m    432\u001b[0m     \u001b[38;5;129;01mand\u001b[39;00m \u001b[38;5;28mself\u001b[39m\u001b[38;5;241m.\u001b[39mssl_version \u001b[38;5;129;01mis\u001b[39;00m \u001b[38;5;28;01mNone\u001b[39;00m\n\u001b[0;32m    433\u001b[0m     \u001b[38;5;129;01mand\u001b[39;00m \u001b[38;5;28mhasattr\u001b[39m(\u001b[38;5;28mself\u001b[39m\u001b[38;5;241m.\u001b[39msock, \u001b[38;5;124m\"\u001b[39m\u001b[38;5;124mversion\u001b[39m\u001b[38;5;124m\"\u001b[39m)\n\u001b[0;32m    434\u001b[0m     \u001b[38;5;129;01mand\u001b[39;00m \u001b[38;5;28mself\u001b[39m\u001b[38;5;241m.\u001b[39msock\u001b[38;5;241m.\u001b[39mversion() \u001b[38;5;129;01min\u001b[39;00m {\u001b[38;5;124m\"\u001b[39m\u001b[38;5;124mTLSv1\u001b[39m\u001b[38;5;124m\"\u001b[39m, \u001b[38;5;124m\"\u001b[39m\u001b[38;5;124mTLSv1.1\u001b[39m\u001b[38;5;124m\"\u001b[39m}\n\u001b[0;32m    435\u001b[0m ):\n",
      "File \u001b[1;32m~\\miniconda3\\lib\\site-packages\\urllib3\\util\\ssl_.py:449\u001b[0m, in \u001b[0;36mssl_wrap_socket\u001b[1;34m(sock, keyfile, certfile, cert_reqs, ca_certs, server_hostname, ssl_version, ciphers, ssl_context, ca_cert_dir, key_password, ca_cert_data, tls_in_tls)\u001b[0m\n\u001b[0;32m    437\u001b[0m     warnings\u001b[38;5;241m.\u001b[39mwarn(\n\u001b[0;32m    438\u001b[0m         \u001b[38;5;124m\"\u001b[39m\u001b[38;5;124mAn HTTPS request has been made, but the SNI (Server Name \u001b[39m\u001b[38;5;124m\"\u001b[39m\n\u001b[0;32m    439\u001b[0m         \u001b[38;5;124m\"\u001b[39m\u001b[38;5;124mIndication) extension to TLS is not available on this platform. \u001b[39m\u001b[38;5;124m\"\u001b[39m\n\u001b[1;32m   (...)\u001b[0m\n\u001b[0;32m    445\u001b[0m         SNIMissingWarning,\n\u001b[0;32m    446\u001b[0m     )\n\u001b[0;32m    448\u001b[0m \u001b[38;5;28;01mif\u001b[39;00m send_sni:\n\u001b[1;32m--> 449\u001b[0m     ssl_sock \u001b[38;5;241m=\u001b[39m \u001b[43m_ssl_wrap_socket_impl\u001b[49m\u001b[43m(\u001b[49m\n\u001b[0;32m    450\u001b[0m \u001b[43m        \u001b[49m\u001b[43msock\u001b[49m\u001b[43m,\u001b[49m\u001b[43m \u001b[49m\u001b[43mcontext\u001b[49m\u001b[43m,\u001b[49m\u001b[43m \u001b[49m\u001b[43mtls_in_tls\u001b[49m\u001b[43m,\u001b[49m\u001b[43m \u001b[49m\u001b[43mserver_hostname\u001b[49m\u001b[38;5;241;43m=\u001b[39;49m\u001b[43mserver_hostname\u001b[49m\n\u001b[0;32m    451\u001b[0m \u001b[43m    \u001b[49m\u001b[43m)\u001b[49m\n\u001b[0;32m    452\u001b[0m \u001b[38;5;28;01melse\u001b[39;00m:\n\u001b[0;32m    453\u001b[0m     ssl_sock \u001b[38;5;241m=\u001b[39m _ssl_wrap_socket_impl(sock, context, tls_in_tls)\n",
      "File \u001b[1;32m~\\miniconda3\\lib\\site-packages\\urllib3\\util\\ssl_.py:493\u001b[0m, in \u001b[0;36m_ssl_wrap_socket_impl\u001b[1;34m(sock, ssl_context, tls_in_tls, server_hostname)\u001b[0m\n\u001b[0;32m    490\u001b[0m     \u001b[38;5;28;01mreturn\u001b[39;00m SSLTransport(sock, ssl_context, server_hostname)\n\u001b[0;32m    492\u001b[0m \u001b[38;5;28;01mif\u001b[39;00m server_hostname:\n\u001b[1;32m--> 493\u001b[0m     \u001b[38;5;28;01mreturn\u001b[39;00m \u001b[43mssl_context\u001b[49m\u001b[38;5;241;43m.\u001b[39;49m\u001b[43mwrap_socket\u001b[49m\u001b[43m(\u001b[49m\u001b[43msock\u001b[49m\u001b[43m,\u001b[49m\u001b[43m \u001b[49m\u001b[43mserver_hostname\u001b[49m\u001b[38;5;241;43m=\u001b[39;49m\u001b[43mserver_hostname\u001b[49m\u001b[43m)\u001b[49m\n\u001b[0;32m    494\u001b[0m \u001b[38;5;28;01melse\u001b[39;00m:\n\u001b[0;32m    495\u001b[0m     \u001b[38;5;28;01mreturn\u001b[39;00m ssl_context\u001b[38;5;241m.\u001b[39mwrap_socket(sock)\n",
      "File \u001b[1;32m~\\miniconda3\\lib\\ssl.py:513\u001b[0m, in \u001b[0;36mSSLContext.wrap_socket\u001b[1;34m(self, sock, server_side, do_handshake_on_connect, suppress_ragged_eofs, server_hostname, session)\u001b[0m\n\u001b[0;32m    507\u001b[0m \u001b[38;5;28;01mdef\u001b[39;00m\u001b[38;5;250m \u001b[39m\u001b[38;5;21mwrap_socket\u001b[39m(\u001b[38;5;28mself\u001b[39m, sock, server_side\u001b[38;5;241m=\u001b[39m\u001b[38;5;28;01mFalse\u001b[39;00m,\n\u001b[0;32m    508\u001b[0m                 do_handshake_on_connect\u001b[38;5;241m=\u001b[39m\u001b[38;5;28;01mTrue\u001b[39;00m,\n\u001b[0;32m    509\u001b[0m                 suppress_ragged_eofs\u001b[38;5;241m=\u001b[39m\u001b[38;5;28;01mTrue\u001b[39;00m,\n\u001b[0;32m    510\u001b[0m                 server_hostname\u001b[38;5;241m=\u001b[39m\u001b[38;5;28;01mNone\u001b[39;00m, session\u001b[38;5;241m=\u001b[39m\u001b[38;5;28;01mNone\u001b[39;00m):\n\u001b[0;32m    511\u001b[0m     \u001b[38;5;66;03m# SSLSocket class handles server_hostname encoding before it calls\u001b[39;00m\n\u001b[0;32m    512\u001b[0m     \u001b[38;5;66;03m# ctx._wrap_socket()\u001b[39;00m\n\u001b[1;32m--> 513\u001b[0m     \u001b[38;5;28;01mreturn\u001b[39;00m \u001b[38;5;28;43mself\u001b[39;49m\u001b[38;5;241;43m.\u001b[39;49m\u001b[43msslsocket_class\u001b[49m\u001b[38;5;241;43m.\u001b[39;49m\u001b[43m_create\u001b[49m\u001b[43m(\u001b[49m\n\u001b[0;32m    514\u001b[0m \u001b[43m        \u001b[49m\u001b[43msock\u001b[49m\u001b[38;5;241;43m=\u001b[39;49m\u001b[43msock\u001b[49m\u001b[43m,\u001b[49m\n\u001b[0;32m    515\u001b[0m \u001b[43m        \u001b[49m\u001b[43mserver_side\u001b[49m\u001b[38;5;241;43m=\u001b[39;49m\u001b[43mserver_side\u001b[49m\u001b[43m,\u001b[49m\n\u001b[0;32m    516\u001b[0m \u001b[43m        \u001b[49m\u001b[43mdo_handshake_on_connect\u001b[49m\u001b[38;5;241;43m=\u001b[39;49m\u001b[43mdo_handshake_on_connect\u001b[49m\u001b[43m,\u001b[49m\n\u001b[0;32m    517\u001b[0m \u001b[43m        \u001b[49m\u001b[43msuppress_ragged_eofs\u001b[49m\u001b[38;5;241;43m=\u001b[39;49m\u001b[43msuppress_ragged_eofs\u001b[49m\u001b[43m,\u001b[49m\n\u001b[0;32m    518\u001b[0m \u001b[43m        \u001b[49m\u001b[43mserver_hostname\u001b[49m\u001b[38;5;241;43m=\u001b[39;49m\u001b[43mserver_hostname\u001b[49m\u001b[43m,\u001b[49m\n\u001b[0;32m    519\u001b[0m \u001b[43m        \u001b[49m\u001b[43mcontext\u001b[49m\u001b[38;5;241;43m=\u001b[39;49m\u001b[38;5;28;43mself\u001b[39;49m\u001b[43m,\u001b[49m\n\u001b[0;32m    520\u001b[0m \u001b[43m        \u001b[49m\u001b[43msession\u001b[49m\u001b[38;5;241;43m=\u001b[39;49m\u001b[43msession\u001b[49m\n\u001b[0;32m    521\u001b[0m \u001b[43m    \u001b[49m\u001b[43m)\u001b[49m\n",
      "File \u001b[1;32m~\\miniconda3\\lib\\ssl.py:1071\u001b[0m, in \u001b[0;36mSSLSocket._create\u001b[1;34m(cls, sock, server_side, do_handshake_on_connect, suppress_ragged_eofs, server_hostname, context, session)\u001b[0m\n\u001b[0;32m   1068\u001b[0m         \u001b[38;5;28;01mif\u001b[39;00m timeout \u001b[38;5;241m==\u001b[39m \u001b[38;5;241m0.0\u001b[39m:\n\u001b[0;32m   1069\u001b[0m             \u001b[38;5;66;03m# non-blocking\u001b[39;00m\n\u001b[0;32m   1070\u001b[0m             \u001b[38;5;28;01mraise\u001b[39;00m \u001b[38;5;167;01mValueError\u001b[39;00m(\u001b[38;5;124m\"\u001b[39m\u001b[38;5;124mdo_handshake_on_connect should not be specified for non-blocking sockets\u001b[39m\u001b[38;5;124m\"\u001b[39m)\n\u001b[1;32m-> 1071\u001b[0m         \u001b[38;5;28;43mself\u001b[39;49m\u001b[38;5;241;43m.\u001b[39;49m\u001b[43mdo_handshake\u001b[49m\u001b[43m(\u001b[49m\u001b[43m)\u001b[49m\n\u001b[0;32m   1072\u001b[0m \u001b[38;5;28;01mexcept\u001b[39;00m (\u001b[38;5;167;01mOSError\u001b[39;00m, \u001b[38;5;167;01mValueError\u001b[39;00m):\n\u001b[0;32m   1073\u001b[0m     \u001b[38;5;28mself\u001b[39m\u001b[38;5;241m.\u001b[39mclose()\n",
      "File \u001b[1;32m~\\miniconda3\\lib\\ssl.py:1342\u001b[0m, in \u001b[0;36mSSLSocket.do_handshake\u001b[1;34m(self, block)\u001b[0m\n\u001b[0;32m   1340\u001b[0m     \u001b[38;5;28;01mif\u001b[39;00m timeout \u001b[38;5;241m==\u001b[39m \u001b[38;5;241m0.0\u001b[39m \u001b[38;5;129;01mand\u001b[39;00m block:\n\u001b[0;32m   1341\u001b[0m         \u001b[38;5;28mself\u001b[39m\u001b[38;5;241m.\u001b[39msettimeout(\u001b[38;5;28;01mNone\u001b[39;00m)\n\u001b[1;32m-> 1342\u001b[0m     \u001b[38;5;28;43mself\u001b[39;49m\u001b[38;5;241;43m.\u001b[39;49m\u001b[43m_sslobj\u001b[49m\u001b[38;5;241;43m.\u001b[39;49m\u001b[43mdo_handshake\u001b[49m\u001b[43m(\u001b[49m\u001b[43m)\u001b[49m\n\u001b[0;32m   1343\u001b[0m \u001b[38;5;28;01mfinally\u001b[39;00m:\n\u001b[0;32m   1344\u001b[0m     \u001b[38;5;28mself\u001b[39m\u001b[38;5;241m.\u001b[39msettimeout(timeout)\n",
      "\u001b[1;31mKeyboardInterrupt\u001b[0m: "
     ]
    }
   ],
   "source": [
    "## Upload DQ data to CTI data (Version I ~ 01)\n",
    "\n",
    "import logging\n",
    "\n",
    "# Configure logging\n",
    "logging.basicConfig(level=logging.INFO, format=\"%(asctime)s - %(levelname)s - %(message)s\")\n",
    "\n",
    "# Define the correct project ID\n",
    "PROJECT_ID = '0092aa7f-a2e8-4972-8f26-46eb98b23a12'\n",
    "\n",
    "for record in dqdataSource:\n",
    "    record_id = record.get(\"id\", \"Unknown\")  # Store before deleting\n",
    "\n",
    "    # Remove unnecessary fields (such as 'version' and 'id')\n",
    "    record.pop(\"version\")\n",
    "    record.pop(\"id\")\n",
    "\n",
    "    # Log the record before modification for debugging\n",
    "    logging.info(f\"Record {record_id} before modification: {record.get('form_id', 'Not set')}\")\n",
    "\n",
    "    # Ensure the record has the correct project ID\n",
    "    record[\"form_id\"] = PROJECT_ID  \n",
    "\n",
    "    # Log the record after assigning the project ID for debugging\n",
    "    logging.info(f\"Record {record_id} after setting project_id: {record['form_id']}\")\n",
    "\n",
    "    # Upload record to Fulcrum\n",
    "    CREATED = fulcrum.records.create(record)\n",
    "\n",
    "    # Log the response for further debugging\n",
    "    if CREATED and \"form_id\" in CREATED:\n",
    "        logging.info(f\"✅ Record {record_id} successfully created under Project ID: {PROJECT_ID}\")\n",
    "    else:\n",
    "        logging.error(f\"❌ Failed to create Record {record_id} under Project ID: {PROJECT_ID}\")\n"
   ]
  },
  {
   "cell_type": "code",
   "execution_count": 10,
   "metadata": {},
   "outputs": [
    {
     "name": "stdout",
     "output_type": "stream",
     "text": [
      "0092aa7f-a2e8-4972-8f26-46eb98b23a12\n"
     ]
    }
   ],
   "source": [
    "print(record[\"form_id\"])"
   ]
  },
  {
   "cell_type": "code",
   "execution_count": 49,
   "metadata": {
    "collapsed": false,
    "jupyter": {
     "outputs_hidden": false
    }
   },
   "outputs": [
    {
     "name": "stdout",
     "output_type": "stream",
     "text": [
      "302787\n",
      "302787\n",
      "True\n"
     ]
    }
   ],
   "source": [
    "## Merge DQ data to CTI data (Version II) \n",
    "merged_dataSource = dataSource + dqdataSource\n",
    "print(len(merged_dataSource))\n",
    "print(len(dataSource)+len(dqdataSource))\n",
    "mcolumns = list(merged_dataSource[0].keys())\n",
    "print(mcolumns == dqcolumns)"
   ]
  },
  {
   "cell_type": "code",
   "execution_count": null,
   "metadata": {},
   "outputs": [],
   "source": [
    "# Send the updated dataSource (which now includes dqdataSource) to the server (Version II ~ 02)\n",
    "import logging\n",
    "\n",
    "logging.basicConfig(level=logging.INFO, format=\"%(asctime)s - %(levelname)s - %(message)s\")\n",
    "\n",
    "for record in merged_dataSource:\n",
    "    try:\n",
    "        # Send the record to the server\n",
    "        response = fulcrum.records.create(record)\n",
    "        logging.info(f\"Record {record['id']} sent to server successfully.\")\n",
    "    except Exception as e:\n",
    "        logging.error(f\"Error sending record {record['id']} to server: {e}\")"
   ]
  }
 ],
 "metadata": {
  "kernelspec": {
   "display_name": "Python 3 (ipykernel)",
   "language": "python",
   "name": "python3"
  },
  "language_info": {
   "codemirror_mode": {
    "name": "ipython",
    "version": 3
   },
   "file_extension": ".py",
   "mimetype": "text/x-python",
   "name": "python",
   "nbconvert_exporter": "python",
   "pygments_lexer": "ipython3",
   "version": "3.10.8"
  }
 },
 "nbformat": 4,
 "nbformat_minor": 4
}
