{
 "cells": [
  {
   "cell_type": "code",
   "execution_count": 2,
   "metadata": {},
   "outputs": [
    {
     "name": "stdout",
     "output_type": "stream",
     "text": [
      "Collecting geopandas\n",
      "  Downloading geopandas-1.0.1-py3-none-any.whl.metadata (2.2 kB)\n",
      "Collecting numpy>=1.22 (from geopandas)\n",
      "  Downloading numpy-2.2.4-cp312-cp312-win_amd64.whl.metadata (60 kB)\n",
      "Collecting pyogrio>=0.7.2 (from geopandas)\n",
      "  Downloading pyogrio-0.10.0-cp312-cp312-win_amd64.whl.metadata (5.6 kB)\n",
      "Requirement already satisfied: packaging in c:\\users\\user3\\miniconda3\\envs\\py312\\lib\\site-packages (from geopandas) (24.2)\n",
      "Collecting pandas>=1.4.0 (from geopandas)\n",
      "  Downloading pandas-2.2.3-cp312-cp312-win_amd64.whl.metadata (19 kB)\n",
      "Collecting pyproj>=3.3.0 (from geopandas)\n",
      "  Downloading pyproj-3.7.1-cp312-cp312-win_amd64.whl.metadata (31 kB)\n",
      "Collecting shapely>=2.0.0 (from geopandas)\n",
      "  Downloading shapely-2.0.7-cp312-cp312-win_amd64.whl.metadata (7.1 kB)\n",
      "Requirement already satisfied: python-dateutil>=2.8.2 in c:\\users\\user3\\miniconda3\\envs\\py312\\lib\\site-packages (from pandas>=1.4.0->geopandas) (2.9.0.post0)\n",
      "Collecting pytz>=2020.1 (from pandas>=1.4.0->geopandas)\n",
      "  Downloading pytz-2025.2-py2.py3-none-any.whl.metadata (22 kB)\n",
      "Collecting tzdata>=2022.7 (from pandas>=1.4.0->geopandas)\n",
      "  Downloading tzdata-2025.2-py2.py3-none-any.whl.metadata (1.4 kB)\n",
      "Requirement already satisfied: certifi in c:\\users\\user3\\miniconda3\\envs\\py312\\lib\\site-packages (from pyogrio>=0.7.2->geopandas) (2025.1.31)\n",
      "Requirement already satisfied: six>=1.5 in c:\\users\\user3\\miniconda3\\envs\\py312\\lib\\site-packages (from python-dateutil>=2.8.2->pandas>=1.4.0->geopandas) (1.17.0)\n",
      "Downloading geopandas-1.0.1-py3-none-any.whl (323 kB)\n",
      "Downloading numpy-2.2.4-cp312-cp312-win_amd64.whl (12.6 MB)\n",
      "   ---------------------------------------- 0.0/12.6 MB ? eta -:--:--\n",
      "   -- ------------------------------------- 0.8/12.6 MB 4.2 MB/s eta 0:00:03\n",
      "   ------------ --------------------------- 3.9/12.6 MB 9.4 MB/s eta 0:00:01\n",
      "   -------------- ------------------------- 4.7/12.6 MB 8.6 MB/s eta 0:00:01\n",
      "   ------------------------------- -------- 10.0/12.6 MB 11.9 MB/s eta 0:00:01\n",
      "   ---------------------------------------- 12.6/12.6 MB 12.8 MB/s eta 0:00:00\n",
      "Downloading pandas-2.2.3-cp312-cp312-win_amd64.whl (11.5 MB)\n",
      "   ---------------------------------------- 0.0/11.5 MB ? eta -:--:--\n",
      "   ------------------- -------------------- 5.5/11.5 MB 28.0 MB/s eta 0:00:01\n",
      "   -------------------------------------- - 11.0/11.5 MB 26.5 MB/s eta 0:00:01\n",
      "   ---------------------------------------- 11.5/11.5 MB 23.2 MB/s eta 0:00:00\n",
      "Downloading pyogrio-0.10.0-cp312-cp312-win_amd64.whl (16.2 MB)\n",
      "   ---------------------------------------- 0.0/16.2 MB ? eta -:--:--\n",
      "   ------------ --------------------------- 5.0/16.2 MB 27.4 MB/s eta 0:00:01\n",
      "   ------------------------- -------------- 10.2/16.2 MB 27.7 MB/s eta 0:00:01\n",
      "   ---------------------------------------  16.0/16.2 MB 27.2 MB/s eta 0:00:01\n",
      "   ---------------------------------------- 16.2/16.2 MB 24.8 MB/s eta 0:00:00\n",
      "Downloading pyproj-3.7.1-cp312-cp312-win_amd64.whl (6.3 MB)\n",
      "   ---------------------------------------- 0.0/6.3 MB ? eta -:--:--\n",
      "   -------------------------------------- - 6.0/6.3 MB 30.7 MB/s eta 0:00:01\n",
      "   ---------------------------------------- 6.3/6.3 MB 25.7 MB/s eta 0:00:00\n",
      "Downloading shapely-2.0.7-cp312-cp312-win_amd64.whl (1.4 MB)\n",
      "   ---------------------------------------- 0.0/1.4 MB ? eta -:--:--\n",
      "   ---------------------------------------- 1.4/1.4 MB 73.8 MB/s eta 0:00:00\n",
      "Downloading pytz-2025.2-py2.py3-none-any.whl (509 kB)\n",
      "Downloading tzdata-2025.2-py2.py3-none-any.whl (347 kB)\n",
      "Installing collected packages: pytz, tzdata, pyproj, numpy, shapely, pyogrio, pandas, geopandas\n",
      "Successfully installed geopandas-1.0.1 numpy-2.2.4 pandas-2.2.3 pyogrio-0.10.0 pyproj-3.7.1 pytz-2025.2 shapely-2.0.7 tzdata-2025.2\n",
      "Collecting fulcrum\n",
      "  Downloading fulcrum-1.12.0.tar.gz (7.1 kB)\n",
      "  Preparing metadata (setup.py): started\n",
      "  Preparing metadata (setup.py): finished with status 'done'\n",
      "Requirement already satisfied: requests>=2.11.0 in c:\\users\\user3\\miniconda3\\envs\\py312\\lib\\site-packages (from fulcrum) (2.32.3)\n",
      "Requirement already satisfied: charset-normalizer<4,>=2 in c:\\users\\user3\\miniconda3\\envs\\py312\\lib\\site-packages (from requests>=2.11.0->fulcrum) (3.4.1)\n",
      "Requirement already satisfied: idna<4,>=2.5 in c:\\users\\user3\\miniconda3\\envs\\py312\\lib\\site-packages (from requests>=2.11.0->fulcrum) (3.10)\n",
      "Requirement already satisfied: urllib3<3,>=1.21.1 in c:\\users\\user3\\miniconda3\\envs\\py312\\lib\\site-packages (from requests>=2.11.0->fulcrum) (2.3.0)\n",
      "Requirement already satisfied: certifi>=2017.4.17 in c:\\users\\user3\\miniconda3\\envs\\py312\\lib\\site-packages (from requests>=2.11.0->fulcrum) (2025.1.31)\n",
      "Building wheels for collected packages: fulcrum\n",
      "  Building wheel for fulcrum (setup.py): started\n",
      "  Building wheel for fulcrum (setup.py): finished with status 'done'\n",
      "  Created wheel for fulcrum: filename=fulcrum-1.12.0-py3-none-any.whl size=5627 sha256=dea73216dba8a00b12a2b2e3b21be73f99c56ad1d6e61c5ea75a2fc011662cd3\n",
      "  Stored in directory: c:\\users\\user3\\appdata\\local\\pip\\cache\\wheels\\9a\\ba\\63\\cc17e0f25da8c43a8f4e49076f4cd19dd9276181b0e2774223\n",
      "Successfully built fulcrum\n",
      "Installing collected packages: fulcrum\n",
      "Successfully installed fulcrum-1.12.0\n",
      "Collecting matplotlib\n",
      "  Downloading matplotlib-3.10.1-cp312-cp312-win_amd64.whl.metadata (11 kB)\n",
      "Collecting contourpy>=1.0.1 (from matplotlib)\n",
      "  Downloading contourpy-1.3.1-cp312-cp312-win_amd64.whl.metadata (5.4 kB)\n",
      "Collecting cycler>=0.10 (from matplotlib)\n",
      "  Downloading cycler-0.12.1-py3-none-any.whl.metadata (3.8 kB)\n",
      "Collecting fonttools>=4.22.0 (from matplotlib)\n",
      "  Downloading fonttools-4.56.0-cp312-cp312-win_amd64.whl.metadata (103 kB)\n",
      "Collecting kiwisolver>=1.3.1 (from matplotlib)\n",
      "  Downloading kiwisolver-1.4.8-cp312-cp312-win_amd64.whl.metadata (6.3 kB)\n",
      "Requirement already satisfied: numpy>=1.23 in c:\\users\\user3\\miniconda3\\envs\\py312\\lib\\site-packages (from matplotlib) (2.2.4)\n",
      "Requirement already satisfied: packaging>=20.0 in c:\\users\\user3\\miniconda3\\envs\\py312\\lib\\site-packages (from matplotlib) (24.2)\n",
      "Collecting pillow>=8 (from matplotlib)\n",
      "  Downloading pillow-11.1.0-cp312-cp312-win_amd64.whl.metadata (9.3 kB)\n",
      "Collecting pyparsing>=2.3.1 (from matplotlib)\n",
      "  Downloading pyparsing-3.2.3-py3-none-any.whl.metadata (5.0 kB)\n",
      "Requirement already satisfied: python-dateutil>=2.7 in c:\\users\\user3\\miniconda3\\envs\\py312\\lib\\site-packages (from matplotlib) (2.9.0.post0)\n",
      "Requirement already satisfied: six>=1.5 in c:\\users\\user3\\miniconda3\\envs\\py312\\lib\\site-packages (from python-dateutil>=2.7->matplotlib) (1.17.0)\n",
      "Downloading matplotlib-3.10.1-cp312-cp312-win_amd64.whl (8.1 MB)\n",
      "   ---------------------------------------- 0.0/8.1 MB ? eta -:--:--\n",
      "   - -------------------------------------- 0.3/8.1 MB ? eta -:--:--\n",
      "   ----- ---------------------------------- 1.0/8.1 MB 3.4 MB/s eta 0:00:03\n",
      "   ------------------- -------------------- 3.9/8.1 MB 8.4 MB/s eta 0:00:01\n",
      "   ---------------------------------------- 8.1/8.1 MB 12.2 MB/s eta 0:00:00\n",
      "Downloading contourpy-1.3.1-cp312-cp312-win_amd64.whl (220 kB)\n",
      "Downloading cycler-0.12.1-py3-none-any.whl (8.3 kB)\n",
      "Downloading fonttools-4.56.0-cp312-cp312-win_amd64.whl (2.2 MB)\n",
      "   ---------------------------------------- 0.0/2.2 MB ? eta -:--:--\n",
      "   ---------------------------------------- 2.2/2.2 MB 31.1 MB/s eta 0:00:00\n",
      "Downloading kiwisolver-1.4.8-cp312-cp312-win_amd64.whl (71 kB)\n",
      "Downloading pillow-11.1.0-cp312-cp312-win_amd64.whl (2.6 MB)\n",
      "   ---------------------------------------- 0.0/2.6 MB ? eta -:--:--\n",
      "   ---------------------------------------- 2.6/2.6 MB 21.5 MB/s eta 0:00:00\n",
      "Downloading pyparsing-3.2.3-py3-none-any.whl (111 kB)\n",
      "Installing collected packages: pyparsing, pillow, kiwisolver, fonttools, cycler, contourpy, matplotlib\n",
      "Successfully installed contourpy-1.3.1 cycler-0.12.1 fonttools-4.56.0 kiwisolver-1.4.8 matplotlib-3.10.1 pillow-11.1.0 pyparsing-3.2.3\n",
      "Collecting fiona\n",
      "  Downloading fiona-1.10.1-cp312-cp312-win_amd64.whl.metadata (58 kB)\n",
      "Requirement already satisfied: attrs>=19.2.0 in c:\\users\\user3\\miniconda3\\envs\\py312\\lib\\site-packages (from fiona) (25.2.0)\n",
      "Requirement already satisfied: certifi in c:\\users\\user3\\miniconda3\\envs\\py312\\lib\\site-packages (from fiona) (2025.1.31)\n",
      "Collecting click~=8.0 (from fiona)\n",
      "  Downloading click-8.1.8-py3-none-any.whl.metadata (2.3 kB)\n",
      "Collecting click-plugins>=1.0 (from fiona)\n",
      "  Downloading click_plugins-1.1.1-py2.py3-none-any.whl.metadata (6.4 kB)\n",
      "Collecting cligj>=0.5 (from fiona)\n",
      "  Downloading cligj-0.7.2-py3-none-any.whl.metadata (5.0 kB)\n",
      "Requirement already satisfied: colorama in c:\\users\\user3\\miniconda3\\envs\\py312\\lib\\site-packages (from click~=8.0->fiona) (0.4.6)\n",
      "Downloading fiona-1.10.1-cp312-cp312-win_amd64.whl (24.5 MB)\n",
      "   ---------------------------------------- 0.0/24.5 MB ? eta -:--:--\n",
      "   ---------------------------------------- 0.0/24.5 MB ? eta -:--:--\n",
      "    --------------------------------------- 0.5/24.5 MB 2.1 MB/s eta 0:00:12\n",
      "   --- ------------------------------------ 1.8/24.5 MB 4.8 MB/s eta 0:00:05\n",
      "   ----- ---------------------------------- 3.1/24.5 MB 5.4 MB/s eta 0:00:04\n",
      "   ----- ---------------------------------- 3.4/24.5 MB 4.1 MB/s eta 0:00:06\n",
      "   ------------- -------------------------- 8.4/24.5 MB 8.3 MB/s eta 0:00:02\n",
      "   -------------- ------------------------- 8.9/24.5 MB 7.8 MB/s eta 0:00:02\n",
      "   ----------------------- ---------------- 14.4/24.5 MB 10.1 MB/s eta 0:00:01\n",
      "   ------------------------------------ --- 22.3/24.5 MB 13.8 MB/s eta 0:00:01\n",
      "   ---------------------------------------- 24.5/24.5 MB 13.6 MB/s eta 0:00:00\n",
      "Downloading click-8.1.8-py3-none-any.whl (98 kB)\n",
      "Downloading click_plugins-1.1.1-py2.py3-none-any.whl (7.5 kB)\n",
      "Downloading cligj-0.7.2-py3-none-any.whl (7.1 kB)\n",
      "Installing collected packages: click, cligj, click-plugins, fiona\n",
      "Successfully installed click-8.1.8 click-plugins-1.1.1 cligj-0.7.2 fiona-1.10.1\n"
     ]
    }
   ],
   "source": [
    "## install needed modules\n",
    "! pip install geopandas\n",
    "! pip install fulcrum\n",
    "! pip install matplotlib\n",
    "! pip install fiona"
   ]
  },
  {
   "cell_type": "code",
   "execution_count": 3,
   "metadata": {},
   "outputs": [],
   "source": [
    "## import modules\n",
    "import math, json\n",
    "from collections import Counter\n",
    "from datetime import datetime, timedelta\n",
    "from geopandas.tools import sjoin\n",
    "# from pyproj import proj\n",
    "import pandas as pd\n",
    "import csv\n",
    "import numpy as np\n",
    "from shapely.geometry import Point\n",
    "from shapely.geometry.polygon import Polygon\n",
    "import matplotlib.pyplot as plt\n",
    "from shapely.geometry import Point\n",
    "import geopandas as gpd\n",
    "import fiona\n",
    "from fulcrum import Fulcrum"
   ]
  },
  {
   "cell_type": "code",
   "execution_count": 4,
   "metadata": {
    "collapsed": false,
    "jupyter": {
     "outputs_hidden": false
    }
   },
   "outputs": [
    {
     "name": "stdout",
     "output_type": "stream",
     "text": [
      "<fulcrum.Fulcrum object at 0x000001C8992E2E40>\n"
     ]
    }
   ],
   "source": [
    "## variables\n",
    "apiToken = \"689a52b9420360bef6af63ad889bcbf4cb34f26e1d1348b2d3a2ff3b71dfe6828d07395724415aa9\"\n",
    "urlBase = 'https://api.fulcrumapp.com/api/v2/'\n",
    "fulcrum = Fulcrum(key=apiToken)\n",
    "osTimestamp = datetime.today() - timedelta(days=4)\n",
    "recordsPerPage = 5000\n",
    "print(fulcrum)"
   ]
  },
  {
   "cell_type": "code",
   "execution_count": 5,
   "metadata": {},
   "outputs": [],
   "source": [
    "## data I\n",
    "appID = \"0092aa7f-a2e8-4972-8f26-46eb98b23a12\" # ID of Combined Tree Invnetory\n",
    "formdataSource = fulcrum.forms.find(appID)\n",
    "# get number of pages\n",
    "## the following divides the total number of records in chunks and downloads and assembles them. Otherwise the fulcrum API allows only downloads of 20,000 records\n",
    "\n",
    "## count records in app\n",
    "recordCountSource = fulcrum.forms.find(appID)['form']['record_count']\n",
    "pagesSource = math.ceil(recordCountSource / recordsPerPage)\n",
    "\n",
    "## get data I\n",
    "if pagesSource > 1:\n",
    "    for p in range(1, pagesSource + 1):\n",
    "        dataPage = fulcrum.records.search(url_params={'form_id': appID, 'page': p, 'per_page': recordsPerPage})[\n",
    "            'records']\n",
    "        if p > 1:\n",
    "            dataSource.extend(dataPage)\n",
    "        else:\n",
    "            dataSource = dataPage\n",
    "else:\n",
    "    dataSource = fulcrum.records.search(url_params={'form_id': appID, 'page': 1, 'per_page': recordsPerPage})['records']"
   ]
  },
  {
   "cell_type": "code",
   "execution_count": 6,
   "metadata": {},
   "outputs": [
    {
     "data": {
      "text/plain": [
       "['status',\n",
       " 'version',\n",
       " 'id',\n",
       " 'created_at',\n",
       " 'updated_at',\n",
       " 'client_created_at',\n",
       " 'client_updated_at',\n",
       " 'created_by',\n",
       " 'created_by_id',\n",
       " 'updated_by',\n",
       " 'updated_by_id',\n",
       " 'created_location',\n",
       " 'updated_location',\n",
       " 'created_duration',\n",
       " 'updated_duration',\n",
       " 'edited_duration',\n",
       " 'form_id',\n",
       " 'project_id',\n",
       " 'record_series_id',\n",
       " 'assigned_to',\n",
       " 'assigned_to_id',\n",
       " 'form_values',\n",
       " 'latitude',\n",
       " 'longitude',\n",
       " 'altitude',\n",
       " 'geometry',\n",
       " 'speed',\n",
       " 'course',\n",
       " 'horizontal_accuracy',\n",
       " 'vertical_accuracy',\n",
       " 'system_status']"
      ]
     },
     "execution_count": 6,
     "metadata": {},
     "output_type": "execute_result"
    }
   ],
   "source": [
    "## What do we have? Attributes:\n",
    "type(dataSource)\n",
    "cticolumns = list(dataSource[0].keys())\n",
    "cticolumns"
   ]
  },
  {
   "cell_type": "code",
   "execution_count": 7,
   "metadata": {},
   "outputs": [
    {
     "name": "stdout",
     "output_type": "stream",
     "text": [
      "No action required - لا حاجة لأي إجراء\n",
      "{'Request of inspection (RFI) - طلب معاينة', 'Approval of RFI - موافقة على المعاينة', 'Final on hold - نهائي عالق', 'Escalation issue - قضية تصعيد', 'Work order - أمر عمل', 'No action required - لا حاجة لأي إجراء', 'Final approval - موافقة نهائية', 'On hold - قضية عالقة', 'Reports', 'Issue in place - قضية موجودة', 'Rejection of RFI - رفض معاينة', 'Request of activation - طلب تفعيل'}\n"
     ]
    }
   ],
   "source": [
    "print(dataSource[0][\"status\"])\n",
    "status_values = {record[\"status\"] for record in dataSource if \"status\" in record}\n",
    "print(status_values)"
   ]
  },
  {
   "cell_type": "code",
   "execution_count": 20,
   "metadata": {},
   "outputs": [],
   "source": [
    "## data II\n",
    "dqID = \"0046e79b-ef91-4b37-99b9-d6340e28094c\" # DQ ID\n",
    "dqformdataSource = fulcrum.forms.find(dqID)\n",
    "# get number of pages\n",
    "## the following divides the total number of records in chunks and downloads and assembles them. Otherwise the fulcrum API allows only downloads of 20,000 records\n",
    "\n",
    "## count records in app\n",
    "dqrecordCountSource = fulcrum.forms.find(dqID)['form']['record_count']\n",
    "dqpagesSource = math.ceil(dqrecordCountSource / recordsPerPage)\n",
    "\n",
    "## get data II\n",
    "if dqpagesSource > 1:\n",
    "    for p in range(1, dqpagesSource + 1):\n",
    "        dataPage = fulcrum.records.search(url_params={'form_id': dqID, 'page': p, 'per_page': recordsPerPage})[\n",
    "            'records']\n",
    "        if p > 1:\n",
    "            dqdataSource.extend(dataPage)\n",
    "        else:\n",
    "            dqdataSource = dataPage\n",
    "else:\n",
    "    dqdataSource = fulcrum.records.search(url_params={'form_id': dqID, 'page': 1, 'per_page': recordsPerPage})['records']"
   ]
  },
  {
   "cell_type": "code",
   "execution_count": 21,
   "metadata": {},
   "outputs": [
    {
     "name": "stdout",
     "output_type": "stream",
     "text": [
      "{'No Action Required - نجز'}\n"
     ]
    }
   ],
   "source": [
    "dqdataSource[0][\"status\"]\n",
    "dqstatus_values = {record[\"status\"] for record in dqdataSource if \"status\" in record}\n",
    "print(dqstatus_values)"
   ]
  },
  {
   "cell_type": "code",
   "execution_count": 17,
   "metadata": {},
   "outputs": [],
   "source": [
    "for record in dqdataSource:\n",
    "    record[\"status\"] = 'No action required - لا حاجة لأي إجراء' "
   ]
  },
  {
   "cell_type": "code",
   "execution_count": null,
   "metadata": {},
   "outputs": [],
   "source": [
    "# Define the correct project ID\n",
    "PROJECT_ID = '0092aa7f-a2e8-4972-8f26-46eb98b23a12' # 0092aa7f-a2e8-4972-8f26-46eb98b23a12\n",
    "\n",
    "for record in dqdataSource:\n",
    "    record_id = record.get(\"id\")\n",
    "    \n",
    "    # Remove unnecessary fields \n",
    "    del(record[\"id\"])\n",
    "    del(record[\"version\"])\n",
    "\n",
    "    # Ensure the record has the correct project ID\n",
    "    record[\"form_id\"] = PROJECT_ID  \n",
    "\n",
    "    # Upload record to Fulcrum\n",
    "    CREATED = fulcrum.records.create(record)\n",
    "    # Check CREATED\n",
    "    #if CREATED and CREATED.get(\"form_id\") == PROJECT_ID:\n",
    "    #    print(f\"✅ Record {record_id} successfully created under Project ID: {PROJECT_ID}\")\n",
    "    #else:\n",
    "    #    print(f\"❌ Failed to create Record {record_id} under Project ID: {PROJECT_ID}\")"
   ]
  },
  {
   "cell_type": "code",
   "execution_count": 11,
   "metadata": {},
   "outputs": [
    {
     "data": {
      "text/plain": [
       "{'record': {'errors': {'status': [\"'No Action Required - نجز' is not a valid status\"]}}}"
      ]
     },
     "execution_count": 11,
     "metadata": {},
     "output_type": "execute_result"
    }
   ],
   "source": [
    "CREATED"
   ]
  },
  {
   "cell_type": "code",
   "execution_count": 18,
   "metadata": {},
   "outputs": [
    {
     "data": {
      "text/plain": [
       "False"
      ]
     },
     "execution_count": 18,
     "metadata": {},
     "output_type": "execute_result"
    }
   ],
   "source": [
    "dqcolumns = list(dqdataSource[0].keys())\n",
    "dqcolumns == cticolumns"
   ]
  },
  {
   "cell_type": "code",
   "execution_count": 10,
   "metadata": {},
   "outputs": [
    {
     "name": "stdout",
     "output_type": "stream",
     "text": [
      "4eb7ba28-9b08-408c-97d0-f5ea7005431c\n",
      "1e5fa24f-a9e0-414d-9876-c1eb384a40fc\n",
      "None\n",
      "None\n"
     ]
    }
   ],
   "source": [
    "print(dqdataSource[0][\"id\"])\n",
    "print(dqdataSource[1][\"id\"])\n",
    "print(dqdataSource[0][\"project_id\"])\n",
    "print(dqdataSource[1][\"project_id\"])"
   ]
  },
  {
   "cell_type": "code",
   "execution_count": null,
   "metadata": {},
   "outputs": [],
   "source": [
    "## Duplicated trees?\n",
    "ICTres = list(set(record[\"id\"] for record in dataSource))\n",
    "DQres = list(set(record[\"id\"] for record in dqdataSource))\n",
    "common_trees = list(set(ICTres) & set(DQres)) or [0]\n",
    "common_trees"
   ]
  },
  {
   "cell_type": "code",
   "execution_count": 10,
   "metadata": {},
   "outputs": [
    {
     "name": "stdout",
     "output_type": "stream",
     "text": [
      "0092aa7f-a2e8-4972-8f26-46eb98b23a12\n"
     ]
    }
   ],
   "source": [
    "print(record[\"form_id\"])"
   ]
  },
  {
   "cell_type": "code",
   "execution_count": 49,
   "metadata": {
    "collapsed": false,
    "jupyter": {
     "outputs_hidden": false
    }
   },
   "outputs": [
    {
     "name": "stdout",
     "output_type": "stream",
     "text": [
      "302787\n",
      "302787\n",
      "True\n"
     ]
    }
   ],
   "source": [
    "## Merge DQ data to CTI data (Version II) \n",
    "merged_dataSource = dataSource + dqdataSource\n",
    "print(len(merged_dataSource))\n",
    "print(len(dataSource)+len(dqdataSource))\n",
    "mcolumns = list(merged_dataSource[0].keys())\n",
    "print(mcolumns == dqcolumns)"
   ]
  },
  {
   "cell_type": "code",
   "execution_count": null,
   "metadata": {},
   "outputs": [],
   "source": [
    "# Send the updated dataSource (which now includes dqdataSource) to the server (Version II ~ 02)\n",
    "import logging\n",
    "\n",
    "logging.basicConfig(level=logging.INFO, format=\"%(asctime)s - %(levelname)s - %(message)s\")\n",
    "\n",
    "for record in merged_dataSource:\n",
    "    try:\n",
    "        # Send the record to the server\n",
    "        response = fulcrum.records.create(record)\n",
    "        logging.info(f\"Record {record['id']} sent to server successfully.\")\n",
    "    except Exception as e:\n",
    "        logging.error(f\"Error sending record {record['id']} to server: {e}\")"
   ]
  }
 ],
 "metadata": {
  "kernelspec": {
   "display_name": "Python 3 (ipykernel)",
   "language": "python",
   "name": "python3"
  },
  "language_info": {
   "codemirror_mode": {
    "name": "ipython",
    "version": 3
   },
   "file_extension": ".py",
   "mimetype": "text/x-python",
   "name": "python",
   "nbconvert_exporter": "python",
   "pygments_lexer": "ipython3",
   "version": "3.12.9"
  }
 },
 "nbformat": 4,
 "nbformat_minor": 4
}
