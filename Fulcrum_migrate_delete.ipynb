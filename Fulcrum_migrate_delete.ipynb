{
 "cells": [
  {
   "cell_type": "code",
   "execution_count": 1,
   "id": "f8bc744f-296c-4b50-97c3-57c705160728",
   "metadata": {},
   "outputs": [],
   "source": [
    "## Import whatever module needed\n",
    "import math, json\n",
    "from collections import Counter\n",
    "from datetime import datetime, timedelta\n",
    "from geopandas.tools import sjoin\n",
    "# from pyproj import proj\n",
    "import pandas as pd\n",
    "import csv\n",
    "import numpy as np\n",
    "from shapely.geometry import Point\n",
    "from shapely.geometry.polygon import Polygon\n",
    "import matplotlib.pyplot as plt\n",
    "from shapely.geometry import Point\n",
    "import geopandas as gpd\n",
    "import fiona\n",
    "from fulcrum import Fulcrum"
   ]
  },
  {
   "cell_type": "code",
   "execution_count": 2,
   "id": "559e9498-7ffc-4262-8093-224941acd74e",
   "metadata": {},
   "outputs": [
    {
     "name": "stdout",
     "output_type": "stream",
     "text": [
      "<fulcrum.Fulcrum object at 0x00000264893D7850>\n"
     ]
    }
   ],
   "source": [
    "## Variables\n",
    "apiToken = \"689a52b9420360bef6af63ad889bcbf4cb34f26e1d1348b2d3a2ff3b71dfe6828d07395724415aa9\"\n",
    "urlBase = 'https://api.fulcrumapp.com/api/v2/'\n",
    "fulcrum = Fulcrum(key=apiToken)\n",
    "osTimestamp = datetime.today() - timedelta(days=4)\n",
    "recordsPerPage = 5000\n",
    "print(fulcrum)"
   ]
  },
  {
   "cell_type": "code",
   "execution_count": 3,
   "id": "9bb0fb5b-f6a1-4b88-bbb9-47a91adf6477",
   "metadata": {},
   "outputs": [],
   "source": [
    "## Data CTI\n",
    "appID = \"0092aa7f-a2e8-4972-8f26-46eb98b23a12\" # ID of Combined Tree Invnetory\n",
    "formdataSource = fulcrum.forms.find(appID)\n",
    "# get number of pages\n",
    "## the following divides the total number of records in chunks and downloads and assembles them. Otherwise the fulcrum API allows only downloads of 20,000 records\n",
    "\n",
    "## count records in app\n",
    "recordCountSource = fulcrum.forms.find(appID)['form']['record_count']\n",
    "pagesSource = math.ceil(recordCountSource / recordsPerPage)\n",
    "\n",
    "## get data I\n",
    "if pagesSource > 1:\n",
    "    for p in range(1, pagesSource + 1):\n",
    "        dataPage = fulcrum.records.search(url_params={'form_id': appID, 'page': p, 'per_page': recordsPerPage})[\n",
    "            'records']\n",
    "        if p > 1:\n",
    "            dataSource.extend(dataPage)\n",
    "        else:\n",
    "            dataSource = dataPage\n",
    "else:\n",
    "    dataSource = fulcrum.records.search(url_params={'form_id': appID, 'page': 1, 'per_page': recordsPerPage})['records']"
   ]
  },
  {
   "cell_type": "code",
   "execution_count": 4,
   "id": "c85ce2b9-fd29-4026-92c5-67e9b076176e",
   "metadata": {},
   "outputs": [
    {
     "data": {
      "text/plain": [
       "['status',\n",
       " 'version',\n",
       " 'id',\n",
       " 'created_at',\n",
       " 'updated_at',\n",
       " 'client_created_at',\n",
       " 'client_updated_at',\n",
       " 'created_by',\n",
       " 'created_by_id',\n",
       " 'updated_by',\n",
       " 'updated_by_id',\n",
       " 'created_location',\n",
       " 'updated_location',\n",
       " 'created_duration',\n",
       " 'updated_duration',\n",
       " 'edited_duration',\n",
       " 'form_id',\n",
       " 'project_id',\n",
       " 'record_series_id',\n",
       " 'assigned_to',\n",
       " 'assigned_to_id',\n",
       " 'form_values',\n",
       " 'latitude',\n",
       " 'longitude',\n",
       " 'altitude',\n",
       " 'geometry',\n",
       " 'speed',\n",
       " 'course',\n",
       " 'horizontal_accuracy',\n",
       " 'vertical_accuracy',\n",
       " 'system_status']"
      ]
     },
     "execution_count": 4,
     "metadata": {},
     "output_type": "execute_result"
    }
   ],
   "source": [
    "## What do we have? Attributes:\n",
    "type(dataSource)\n",
    "cticolumns = list(dataSource[0].keys())\n",
    "cticolumns"
   ]
  },
  {
   "cell_type": "code",
   "execution_count": 5,
   "id": "0efd41c6-070e-4bc0-9cbf-509ed0e9f17b",
   "metadata": {},
   "outputs": [
    {
     "name": "stdout",
     "output_type": "stream",
     "text": [
      "{'status': 'No action required - لا حاجة لأي إجراء', 'version': 1, 'id': 'f8f84044-06d2-4d3e-9004-9b3116cc31ec', 'created_at': '2023-07-11T11:57:01Z', 'updated_at': '2023-07-11T11:57:01Z', 'client_created_at': '2023-07-11T11:57:01Z', 'client_updated_at': '2023-07-11T11:57:01Z', 'created_by': '[BP] admin L2', 'created_by_id': 'f8161492-3026-4f3c-a770-93f8e540d4d1', 'updated_by': '[BP] admin L2', 'updated_by_id': 'f8161492-3026-4f3c-a770-93f8e540d4d1', 'created_location': None, 'updated_location': None, 'created_duration': None, 'updated_duration': None, 'edited_duration': None, 'form_id': '0092aa7f-a2e8-4972-8f26-46eb98b23a12', 'project_id': '8b0726a7-e56e-4230-874c-e55c63693caf', 'record_series_id': None, 'assigned_to': None, 'assigned_to_id': None, 'form_values': {'2c1f': 'Campsite,Irrigation,trees watered', '6e5e': {'choice_values': ['BP inventory'], 'other_values': []}, '3fee': {'choice_values': ['Acacia sp. - السنط'], 'other_values': []}, '5cf5': [{'photo_id': '055e3eac-2472-42e5-93ed-e9ea9974b4c2', 'caption': ''}]}, 'latitude': 25.3118727, 'longitude': 46.60325758, 'altitude': None, 'geometry': {'type': 'Point', 'coordinates': [46.60325758, 25.3118727]}, 'speed': None, 'course': None, 'horizontal_accuracy': None, 'vertical_accuracy': None, 'system_status': None}\n"
     ]
    }
   ],
   "source": [
    "print(dataSource[0])"
   ]
  },
  {
   "cell_type": "code",
   "execution_count": 6,
   "id": "e92720cc-761f-4d96-ba72-e8a1fae369e7",
   "metadata": {},
   "outputs": [
    {
     "name": "stdout",
     "output_type": "stream",
     "text": [
      "{'2c1f': 'Campsite,Irrigation,trees watered', '6e5e': {'choice_values': ['BP inventory'], 'other_values': []}, '3fee': {'choice_values': ['Acacia sp. - السنط'], 'other_values': []}, '5cf5': [{'photo_id': '055e3eac-2472-42e5-93ed-e9ea9974b4c2', 'caption': ''}]}\n"
     ]
    },
    {
     "data": {
      "text/plain": [
       "302753"
      ]
     },
     "execution_count": 6,
     "metadata": {},
     "output_type": "execute_result"
    }
   ],
   "source": [
    "print(dataSource[0][\"form_values\"])\n",
    "status_values = {record[\"id\"] for record in dataSource if \"id\" in record}\n",
    "len(status_values)"
   ]
  },
  {
   "cell_type": "code",
   "execution_count": 7,
   "id": "d3cb4fff-8654-47cf-85d0-08e0d6333f24",
   "metadata": {},
   "outputs": [
    {
     "name": "stdout",
     "output_type": "stream",
     "text": [
      "True\n"
     ]
    }
   ],
   "source": [
    "import os\n",
    "file_path = r\"D:\\TMO\\Fulcrum\\MLonly.csv\"\n",
    "print(os.path.exists(file_path))"
   ]
  },
  {
   "cell_type": "code",
   "execution_count": 8,
   "id": "3d029a8c-86c8-4d59-83ff-b15d2bf2313c",
   "metadata": {},
   "outputs": [
    {
     "name": "stdout",
     "output_type": "stream",
     "text": [
      "Index(['rid', '_status', '_title', '_server_updated_at', '_project',\n",
      "       '_updated_by', '_latitude', '_longitude', 'species', 'transplantable',\n",
      "       'last_updated', 'height_m', 'spread_m', 'dbh_cm_', 'planting_date',\n",
      "       'health', 'structure_', 'comments', 'source_', 'significant_tree',\n",
      "       'reason_for_significance', 'old_status', 'id', 'tag_id_',\n",
      "       'green_riyadh_project', 'marker-color', 'maintenance_', 'photos'],\n",
      "      dtype='object')\n",
      "0        fa2c9c41-f3b5-429e-b95b-00a011792909\n",
      "1        e49b8377-bb42-459b-a474-e9e846503b5e\n",
      "2        f2ec79d2-f388-46ca-8fef-2b77e6d197a2\n",
      "3        f1f76a2a-0303-4a55-bd73-89c018a2e9fa\n",
      "4        ecbbd956-6c37-425b-aa19-13cdc446195f\n",
      "                         ...                 \n",
      "48974    8ea1a2fa-7ede-4666-ac0e-4434958c4100\n",
      "48975    788c40ba-79c2-4ffa-b541-594245b701f4\n",
      "48976    645c4b05-ab10-4855-82f3-53e336543dcd\n",
      "48977    6fc6c5f6-b0a3-4856-9b37-ea8d33cf69eb\n",
      "48978    a9cb6fa3-1bbe-4e0e-b4e9-075c9f13c915\n",
      "Name: rid, Length: 48979, dtype: object\n",
      "48979\n",
      "0        ML-input\n",
      "1        ML-input\n",
      "2        ML-input\n",
      "3        ML-input\n",
      "4        ML-input\n",
      "           ...   \n",
      "48974    ML-input\n",
      "48975    ML-input\n",
      "48976    ML-input\n",
      "48977    ML-input\n",
      "48978    ML-input\n",
      "Name: source_, Length: 48979, dtype: object\n"
     ]
    },
    {
     "name": "stderr",
     "output_type": "stream",
     "text": [
      "C:\\Users\\Jura\\AppData\\Local\\Temp\\ipykernel_14688\\807536193.py:2: DtypeWarning: Columns (4,10,15,16,17,19,22) have mixed types. Specify dtype option on import or set low_memory=False.\n",
      "  CTIcsv = pd.read_csv(file_path, sep=\";\")\n"
     ]
    }
   ],
   "source": [
    "import pandas as pd\n",
    "CTIcsv = pd.read_csv(file_path, sep=\";\")\n",
    "print(CTIcsv.keys())\n",
    "print(CTIcsv[\"rid\"])                   # Unique record id\n",
    "print(CTIcsv[\"rid\"].nunique())         # Unique record id\n",
    "print(CTIcsv[\"source_\"])"
   ]
  },
  {
   "cell_type": "code",
   "execution_count": 9,
   "id": "04e87785-952d-4188-8305-6f1ea1f7619f",
   "metadata": {},
   "outputs": [
    {
     "name": "stdout",
     "output_type": "stream",
     "text": [
      "0092aa7f-a2e8-4972-8f26-46eb98b23a12\n",
      "0092aa7f-a2e8-4972-8f26-46eb98b23a12\n",
      "f7b3c727-e08d-4371-bd7c-9a893d9a68ff\n",
      "719c30b7-578d-4b6e-97fe-ab3db8adab38\n",
      "1168e1fc-fef3-4310-ae86-9b58efcef940\n"
     ]
    }
   ],
   "source": [
    "print(dataSource[0][\"form_id\"])    # App id\n",
    "print(dataSource[1][\"form_id\"])    # App id\n",
    "print(dataSource[1][\"id\"])         # Unique record id\n",
    "print(dataSource[2][\"id\"])         # Unique record id\n",
    "print(dataSource[3][\"id\"])         # Unique record id"
   ]
  },
  {
   "cell_type": "code",
   "execution_count": 10,
   "id": "838e1f42-3bc5-4ca8-ba89-c8b37114b9d1",
   "metadata": {},
   "outputs": [
    {
     "data": {
      "text/plain": [
       "['2110517e-4e3a-4706-bd5f-965698d19ced',\n",
       " '474a7fdf-248d-4a22-896f-d39d5cdd589d',\n",
       " 'a33be26c-bb42-43bb-84cb-43643ad7617c',\n",
       " 'e26ac6d7-5d48-4e21-8b24-4fa3faf638bc',\n",
       " '245ffb55-1469-4eb9-a992-5df6fc66bdaf']"
      ]
     },
     "execution_count": 10,
     "metadata": {},
     "output_type": "execute_result"
    }
   ],
   "source": [
    "## Lookup set\n",
    "cti_lookup = set(CTIcsv[\"rid\"]) \n",
    "list(cti_lookup)[:5]"
   ]
  },
  {
   "cell_type": "code",
   "execution_count": null,
   "id": "1182c6ad-019a-4a20-bc68-a42cdcc38a4e",
   "metadata": {},
   "outputs": [],
   "source": [
    "## Add records \n",
    "MLid = \"21b1350f-e906-4e96-848b-2b30cd6fd130\" # App id ~ ML_PalmTrees\n",
    "\n",
    "for record in dataSource:\n",
    "    record_id = record.get(\"id\")\n",
    "\n",
    "    del(record[\"id\"])\n",
    "\n",
    "    if record_id in cti_lookup:\n",
    "        # Ensure the record has the correct project ID (MLid)\n",
    "        record[\"form_id\"] = MLid\n",
    "\n",
    "        # Check if the form_id matches the correct app ID before uploading\n",
    "        if record[\"form_id\"] == MLid:\n",
    "            try:\n",
    "                # Create/upload record\n",
    "                created_record = fulcrum.records.create(record)\n",
    "                # print(f\"Record {record_id} created successfully\")\n",
    "            except Exception as e:\n",
    "                print(f\"Error creating record {record_id}: {str(e)}\")\n",
    "        else:\n",
    "            print(f\"Record {record_id} skipped due to incorrect form_id.\")"
   ]
  },
  {
   "cell_type": "code",
   "execution_count": null,
   "id": "a97e1e01-1af3-47e3-aa98-702a4ca4f10f",
   "metadata": {},
   "outputs": [],
   "source": [
    "## Delete records \n",
    "for record in dataSource:\n",
    "    record_id = record.get(\"id\")\n",
    "\n",
    "    # Conditional deletion (only ids that are in the lookup set are deleted)\n",
    "    if record_id in cti_lookup:  \n",
    "        try:\n",
    "            # Delete record\n",
    "            fulcrum.records.delete(record_id)\n",
    "            # DELETED = fulcrum.records.delete(record_id)\n",
    "            # print(f\"Deleted record: {record_id}\")\n",
    "        except Exception as e:\n",
    "            print(f\"Error deleting record {record_id}: {e}\")"
   ]
  }
 ],
 "metadata": {
  "kernelspec": {
   "display_name": "Python 3 (ipykernel)",
   "language": "python",
   "name": "python3"
  },
  "language_info": {
   "codemirror_mode": {
    "name": "ipython",
    "version": 3
   },
   "file_extension": ".py",
   "mimetype": "text/x-python",
   "name": "python",
   "nbconvert_exporter": "python",
   "pygments_lexer": "ipython3",
   "version": "3.10.8"
  }
 },
 "nbformat": 4,
 "nbformat_minor": 5
}
